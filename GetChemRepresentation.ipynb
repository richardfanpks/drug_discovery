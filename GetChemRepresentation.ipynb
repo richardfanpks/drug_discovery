{
 "cells": [
  {
   "cell_type": "markdown",
   "id": "3a5ed1f7-ee85-4d9c-a3d7-96c92bb6122b",
   "metadata": {},
   "source": [
    "# Installed Python libraries"
   ]
  },
  {
   "cell_type": "code",
   "execution_count": 2,
   "id": "14734fee-3f6f-4061-a7be-7b6c89cda723",
   "metadata": {
    "tags": []
   },
   "outputs": [
    {
     "name": "stdout",
     "output_type": "stream",
     "text": [
      "Requirement already satisfied: pubchempy in /opt/homebrew/lib/python3.11/site-packages (1.0.4)\n"
     ]
    }
   ],
   "source": [
    "! pip install pubchempy"
   ]
  },
  {
   "cell_type": "markdown",
   "id": "2873042b-8106-4b31-85c5-a985575137ec",
   "metadata": {
    "tags": []
   },
   "source": [
    "# Find chemical data for lonicerae flos"
   ]
  },
  {
   "cell_type": "markdown",
   "id": "4a32560f-c713-4aa5-addb-209bb61bd535",
   "metadata": {},
   "source": [
    "## The chemicals are recorded in a text file. \n",
    "These are reported in a chinese medicine article about the chemicals found in the herb through some analysis.\n"
   ]
  },
  {
   "cell_type": "code",
   "execution_count": 100,
   "id": "373ee2c1-f0b5-4486-8e78-4730ad7c6229",
   "metadata": {
    "tags": []
   },
   "outputs": [],
   "source": [
    "file_path = 'lonicerae_clean.txt'\n",
    "\n",
    "# Open the file and read the lines into a list\n",
    "with open(file_path, 'r') as file:\n",
    "    lines = file.readlines()\n",
    "\n",
    "# Strip newline characters from each line. Also remove empty lines. Also change′ to '\n",
    "lines = [line.strip().replace('′','\\'') for line in lines if line.strip()]\n",
    "lines = [line.replace('β','beta') for line in lines]\n",
    "\n",
    "#lines\n"
   ]
  },
  {
   "cell_type": "code",
   "execution_count": 73,
   "id": "1bb6a027-2335-49b4-a106-1ef86bfac6e0",
   "metadata": {
    "tags": []
   },
   "outputs": [],
   "source": [
    "def getCompounds(names):\n",
    "    data = {}\n",
    "    for chemical_name in names:\n",
    "        compounds = pcp.get_compounds(chemical_name, 'name')\n",
    "        data[chemical_name] = compounds\n",
    "    return data\n"
   ]
  },
  {
   "cell_type": "code",
   "execution_count": 78,
   "id": "6c6b6c6f-ee62-496e-98e5-45289e1d8688",
   "metadata": {
    "tags": []
   },
   "outputs": [],
   "source": [
    "data = getCompounds(lines)"
   ]
  },
  {
   "cell_type": "markdown",
   "id": "a4dbf930-8791-44a1-acaa-02f93befbf83",
   "metadata": {},
   "source": [
    "## Save object to file. It take time to load 100 chemical data from the PubChem. So we save it locally and reuse them later"
   ]
  },
  {
   "cell_type": "code",
   "execution_count": 75,
   "id": "5c1bb92c-aeef-435a-abcc-bc0fb17f90fa",
   "metadata": {
    "tags": []
   },
   "outputs": [
    {
     "name": "stdout",
     "output_type": "stream",
     "text": [
      "Object data has been serialized and saved to file.\n"
     ]
    }
   ],
   "source": [
    "import pickle\n",
    "\n",
    "# File path to save the serialized object\n",
    "file_path = 'data.pkl'\n",
    "\n",
    "# Open the file in binary write mode and dump the object\n",
    "with open(file_path, 'wb') as file:\n",
    "    pickle.dump(data, file)\n",
    "\n",
    "print(\"Object data has been serialized and saved to file.\")"
   ]
  },
  {
   "cell_type": "code",
   "execution_count": 35,
   "id": "1df3c2b3-e4c7-4f5f-aa10-91321c6f8f97",
   "metadata": {
    "tags": []
   },
   "outputs": [
    {
     "name": "stdout",
     "output_type": "stream",
     "text": [
      "Object has been deserialized and loaded from file.\n"
     ]
    }
   ],
   "source": [
    "import pickle\n",
    "\n",
    "# File path to load the serialized object from\n",
    "file_path = 'data.pkl'\n",
    "\n",
    "# Open the file in binary read mode and load the object\n",
    "with open(file_path, 'rb') as file:\n",
    "    data = pickle.load(file)\n",
    "\n",
    "print(\"Object has been deserialized and loaded from file.\")\n"
   ]
  },
  {
   "cell_type": "code",
   "execution_count": 76,
   "id": "56e6e9d8-772c-4b13-aee8-cada3b949fcc",
   "metadata": {
    "tags": []
   },
   "outputs": [
    {
     "name": "stdout",
     "output_type": "stream",
     "text": [
      "112\n",
      "5,7-Dihydroxyflavone [Compound(5281607)]\n",
      "5-Hydroxy-7,4'-dimethoxyflavone [Compound(5281601)]\n",
      "5-Hydroxy-7,3',4'-trimethoxyflavone [Compound(5272653)]\n",
      "5-Hydroxy-7,3',4',5'-tetramethoxyflavone []\n",
      "3',4',5',5,7-Pentamethoxyflavone [Compound(493376)]\n",
      "Luteolin [Compound(5280445)]\n",
      "3'-Methoxyluteolin []\n",
      "5,3'-Dimethoxyluteolin []\n",
      "Luteolin-7-O-beta-D-glucoside []\n",
      "Luteolin-7-O-beta-D-galactoside []\n",
      "Luteolin-5-O-beta-D-glucoside [Compound(5317471)]\n",
      "Luteolin-3'-O-L-rhamnoside []\n",
      "Jaceosidin [Compound(5379096)]\n",
      "Jaceosidin-7-O-neohesperidoside []\n",
      "Lonicerin [Compound(5282152)]\n",
      "Kaempferol-3-O-beta-D-glucoside []\n",
      "Apigenin-7-O-α-L-rhamnoside []\n",
      "Quercetin [Compound(5280343)]\n",
      "Quercetin-3-O-beta-D-glucoside [Compound(25203368)]\n",
      "Quercetin-7-O-beta-D-glucoside []\n",
      "Hyperoside [Compound(5281643)]\n",
      "Medioresinol-7-O-beta-D-glucoside []\n",
      "Medioresinol-7-O-neohesperidoside []\n",
      "Flavo-yadorinin-B []\n",
      "Rhoifolin [Compound(5282150)]\n",
      "Rutin [Compound(5280805)]\n",
      "Loganin [Compound(87691)]\n",
      "7-Epiloganin []\n",
      "8-Epiloganin [Compound(10548420)]\n",
      "Loganic Acid [Compound(89640)]\n",
      "Ketologanin []\n",
      "Secologanin [Compound(161276)]\n",
      "Secologanin Dimethyl Acetal [Compound(157140)]\n",
      "Sweroside [Compound(161036)]\n",
      "7-O-Ethyl Sweroside []\n",
      "Secologanoside-7-Methyl Ester []\n",
      "Kingiside [Compound(12304884)]\n",
      "7α-Morroniside []\n",
      "7beta-Morroniside []\n",
      "Dehydromorroniside []\n",
      "Vogeloside [Compound(14192588), Compound(14192589)]\n",
      "Epi-vogeloside [Compound(14192590)]\n",
      "Secoxyloganin [Compound(162868)]\n",
      "Secoxyloganin 7-Butyl Ester []\n",
      "Secologanic Acid [Compound(71607801)]\n",
      "Secologanoside [Compound(14136854)]\n",
      "Secologanoside A []\n",
      "Dimethyl Secologanoside [Compound(14105070)]\n",
      "Adinoside A []\n",
      "Stryspinoside []\n",
      "Loniceracetalide A [Compound(637857)]\n",
      "Loniceracetalide B []\n",
      "Loniphenyruviridoside A [Compound(57395335)]\n",
      "Loniphenyruviridoside B [Compound(56598467)]\n",
      "Loniphenyruviridoside C [Compound(57398873)]\n",
      "Loniphenyruviridoside D [Compound(56598469)]\n",
      "L-Phenylalaninosecologanin []\n",
      "7-O-(4-beta-D-Glucopyranosyloxy-3-Methoxy Benzoyl) Secologanolic Acid []\n",
      "6'-O-(7α-Hydroxyswerosyloxy) Loganin []\n",
      "(Z)-Aldosecologanin [Compound(6440698)]\n",
      "(E)-Aldosecologanin [Compound(45783101), Compound(75130896), Compound(10908841), Compound(12012212), Compound(167994162)]\n",
      "Centauroside [Compound(6440698)]\n",
      "Lonijaposide A [Compound(24879109), Compound(24879108)]\n",
      "Lonijaposide B [Compound(24879111), Compound(24879110)]\n",
      "Lonijaposide C [Compound(24879107), Compound(24879106)]\n",
      "Lonijaposide D [Compound(56599664)]\n",
      "Lonijaposide E [Compound(56599666)]\n",
      "Lonijaposide F [Compound(56599668)]\n",
      "Lonijaposide G [Compound(56599669)]\n",
      "Lonijaposide H [Compound(56599868)]\n",
      "Lonijaposide I [Compound(56598336)]\n",
      "Lonijaposide J [Compound(56599869)]\n",
      "Lonijaposide K [Compound(56599871)]\n",
      "Lonijaposide L [Compound(56599872)]\n",
      "Lonijaposide M [Compound(56599874)]\n",
      "Lonijaposide N [Compound(56600069)]\n",
      "Lonijaposide O []\n",
      "Lonijaposide P []\n",
      "Lonijaposide Q []\n",
      "Lonijaposide R []\n",
      "Lonijaposide S []\n",
      "Lonijaposide T []\n",
      "Lonijaposide U []\n",
      "Lonijaposide V []\n",
      "Lonijaposide W []\n",
      "Lonijapospiroside A []\n",
      "L-Phenylalaninosecologanin B []\n",
      "L-Phenylalaninosecologanin C []\n",
      "Deoxyoprolinoyiloganin A []\n",
      "Lonicerjaponin A []\n",
      "Lonicerjaponin B []\n",
      "Two Nicotinic Acid Derivatives []\n",
      "Palmitic Acid [Compound(985)]\n",
      "Myristic Acid [Compound(11005)]\n",
      "Protocatechuic Acid [Compound(72)]\n",
      "Caffeic Acid [Compound(689043)]\n",
      "Ferulic Acid [Compound(445858)]\n",
      "2(E)-3-Ethoxyacrylic Acid []\n",
      "Caffeic Acid Methyl Ester [Compound(689075)]\n",
      "3-(3,4-Dihydroxyphenyl) Propionic Acid [Compound(348154)]\n",
      "4-Hydroxycinnamic Acid [Compound(637542)]\n",
      "4-Hydroxycinnamic Acid Methyl Ester [Compound(5319562)]\n",
      "Chlorogenic Acid [Compound(1794427)]\n",
      "3-Caffeoylquinic Acid Methyl Ester []\n",
      "4-Caffeoylquinic Acid [Compound(9798666)]\n",
      "5-Caffeoylquinic Acid [Compound(5280633)]\n",
      "3,4-Dicaffeoylquinic Acid [Compound(5281780)]\n",
      "4,5-Dicaffeoylquinic Acid [Compound(6474309), Compound(5281780), Compound(460890), Compound(153946), Compound(3802778), Compound(10324242), Compound(102170141), Compound(137704517)]\n",
      "3,5-Dicaffeoylquinic Acid [Compound(6474310)]\n",
      "3,5-Dicaffeoylquinic Acid Methyl Ester [Compound(10075681)]\n",
      "3,5-Dicaffeoylquinic Acid Butyl Ester []\n",
      "Vanillic Acid 4-O-beta-D-6-O-Benzoylglucopyranoside []\n"
     ]
    }
   ],
   "source": [
    "print(len(data.items()))\n",
    "for name, compounds in data.items():\n",
    "    print(name, compounds)\n"
   ]
  },
  {
   "cell_type": "markdown",
   "id": "bf187a95-2203-49e0-b3de-a549aca76fed",
   "metadata": {},
   "source": [
    "### The following compounds, we could not find them in pubchem. \n",
    "I plan to ignore them for now. I imagine there should be other ways to find the data, beyond pubchem."
   ]
  },
  {
   "cell_type": "code",
   "execution_count": 80,
   "id": "f5e232d4-518a-44ba-bcf9-f661ac885522",
   "metadata": {
    "tags": []
   },
   "outputs": [
    {
     "data": {
      "text/plain": [
       "[\"5-Hydroxy-7,3',4',5'-tetramethoxyflavone\",\n",
       " \"3'-Methoxyluteolin\",\n",
       " \"5,3'-Dimethoxyluteolin\",\n",
       " 'Luteolin-7-O-beta-D-glucoside',\n",
       " 'Luteolin-7-O-beta-D-galactoside',\n",
       " \"Luteolin-3'-O-L-rhamnoside\",\n",
       " 'Jaceosidin-7-O-neohesperidoside',\n",
       " 'Kaempferol-3-O-beta-D-glucoside',\n",
       " 'Apigenin-7-O-α-L-rhamnoside',\n",
       " 'Quercetin-7-O-beta-D-glucoside',\n",
       " 'Medioresinol-7-O-beta-D-glucoside',\n",
       " 'Medioresinol-7-O-neohesperidoside',\n",
       " 'Flavoyadorinin B',\n",
       " '7-Epiloganin',\n",
       " 'Ketologanin',\n",
       " '7-O-Ethyl Sweroside',\n",
       " 'Secologanoside-7-Methyl Ester',\n",
       " '7α-Morroniside',\n",
       " '7beta-Morroniside',\n",
       " 'Dehydromorroniside',\n",
       " 'Secoxyloganin 7-Butyl Ester',\n",
       " 'Secologanoside A',\n",
       " 'Adinoside A',\n",
       " 'Stryspinoside',\n",
       " 'Loniceracetalide B',\n",
       " 'L-Phenylalaninosecologanin',\n",
       " '7-O-(4-beta-D-Glucopyranosyloxy-3-Methoxy Benzoyl) Secologanolic Acid',\n",
       " \"6'-O-(7α-Hydroxyswerosyloxy) Loganin\",\n",
       " 'Lonijaposide O',\n",
       " 'Lonijaposide P',\n",
       " 'Lonijaposide Q',\n",
       " 'Lonijaposide R',\n",
       " 'Lonijaposide S',\n",
       " 'Lonijaposide T',\n",
       " 'Lonijaposide U',\n",
       " 'Lonijaposide V',\n",
       " 'Lonijaposide W',\n",
       " 'Lonijapospiroside A',\n",
       " 'L-Phenylalaninosecologanin B',\n",
       " 'L-Phenylalaninosecologanin C',\n",
       " 'Deoxyoprolinoyiloganin A',\n",
       " 'Lonicerjaponin A',\n",
       " 'Lonicerjaponin B',\n",
       " 'Two Nicotinic Acid Derivatives',\n",
       " '2(E)-3-Ethoxyacrylic Acid',\n",
       " '3-Caffeoylquinic Acid Methyl Ester',\n",
       " '3,5-Dicaffeoylquinic Acid Butyl Ester',\n",
       " 'Vanillic Acid 4-O-beta-D-6-O-Benzoylglucopyranoside']"
      ]
     },
     "execution_count": 80,
     "metadata": {},
     "output_type": "execute_result"
    }
   ],
   "source": [
    "[key for key, compounds in data.items() if len(compounds)==0]\n"
   ]
  },
  {
   "cell_type": "markdown",
   "id": "980b2577-fbb2-4914-8770-18ef8d371f94",
   "metadata": {
    "tags": []
   },
   "source": [
    "# Now get the known acne medicines\n",
    "\n",
    "I search \"acne\" on PubChem website and found 37 medicines. PubChem allows me to download them as csv."
   ]
  },
  {
   "cell_type": "code",
   "execution_count": 97,
   "id": "8da1001f-020a-4bab-b228-43aea729d16e",
   "metadata": {
    "tags": []
   },
   "outputs": [
    {
     "name": "stdout",
     "output_type": "stream",
     "text": [
      "Headers: ['\\ufeff cid', 'cmpdname', 'cmpdsynonym', 'mw', 'mf', 'polararea', 'complexity', 'xlogp', 'heavycnt', 'hbonddonor', 'hbondacc', 'rotbonds', 'inchi', 'isosmiles', 'canonicalsmiles', 'inchikey', 'iupacname', 'exactmass', 'monoisotopicmass', 'charge', 'covalentunitcnt', 'isotopeatomcnt', 'totalatomstereocnt', 'definedatomstereocnt', 'undefinedatomstereocnt', 'totalbondstereocnt', 'definedbondstereocnt', 'undefinedbondstereocnt', 'pclidcnt', 'gpidcnt', 'gpfamilycnt', 'neighbortype', 'meshheadings', 'annothits', 'annothitcnt', 'aids', 'cidcdate', 'sidsrcname', 'depcatg', 'annotation']\n",
      "{'\\ufeff cid': '5743', 'cmpdname': 'Dexamethasone', 'cmpdsynonym': 'dexamethasone|50-02-2|Decadron|Maxidex|Dexamethazone|Hexadecadrol|Dexasone|Hexadrol|Aeroseb-Dex|Fluormethylprednisolone|Desametasone|Superprednol|Visumetazone|Cortisumman|Decaderm|Decaspray|Dexacortal|Dexacortin|Gammacorten|Millicorten|Oradexon|Auxiron|Calonat|Dexason|Dexone|Dectancyl|Deltafluorene|Desamethasone|Desameton|Fortecortin|Mediamethasone|Mymethasone|Decalix|Dekacort|Dexacort|Dexameth|Dinormon|Loverine|Luxazone|Azium|Dexa-Scheroson|Prednisolone F|Dexa-sine|Isopto-Dex|Aeroseb-D|Anaflogistico|Aphtasolon|Decacortin|Decasone|Dergramin|Desadrene|Deseronil|Dexadeltone|Dexafarma|Dexalona|Dexapolcort|Dexinolon|Dexinoral|Dextelan|Policort|Spoloven|Corsone|Deronil|Dexapos|Mexidex|Sunia Sol D|Bisu DS|Dexa Mamallet|Dexa-Cortidelt|Dexa-Cortisyl|Prednisolon F|Lokalison F|Ocu-trol|Dex-ide|SK-Dexamethasone|Dexamethasonum|Dexaprol|Fluormone|Decagel|Dexone 4|Hexadrol Elixir|Pet Derm III|Dexamethasone Intensol|Hl-dex|Methylfluorprednisolone|Dexone 0.5|Dexone 1.5|Dexametasona|Fluorocort|Decaject|Decameth|Dexone 0.75|Dexpak|Dxms|Dexamethasone alcohol|Hexadrol Tablets|Desametasone [DCIT]|Decacort|Dexamonozon|Dextenza|Turbinaire|Ozurdex|9alpha-Fluoro-16alpha-methylprednisolone|Dexametasona [INN-Spanish]|Dexamethasonum [INN-Latin]|Dezone|Decadron Tablets, Elixir|Azium (Veterinary)|Dexametasone|Dexamethansone|Adexone|Osurdex|Posurdex|Dexycu|DexaSite|OTO-104|Corson|16alpha-Methyl-9alpha-fluoro-1-dehydrocortisol|16alpha-Methyl-9alpha-fluoroprednisolone|(3H)-Dexamethasone|Azimycin (Veterinary)|delta1-9alpha-Fluoro-16alpha-methylcortisol|MK 125|NSC 34521|1-Dehydro-16alpha-methyl-9alpha-fluorohydrocortisone|Naquasone (Veterinary)|Tresaderm (Veterinary)|CCRIS 7067|Diodex|DTXSID3020384|HSDB 3053|ISV-305|(11beta,16alpha)-9-Fluoro-11,17,21-trihydroxy-16-methylpregna-1,4-diene-3,20-dione|Zema-Pak|16-alpha-Methyl-9-alpha-fluoroprednisolone|9-alpha-Fluoro-16-alpha-methylprednisolone|UNII-7S5I7G3JQL|16-alpha-Methyl-9-alpha-fluoro-delta1-hydrocortisone|EINECS 200-003-9|7S5I7G3JQL|MFCD00064136|NSC-34521|16alpha-Methyl-9alpha-fluoro-delta(sup 1)-hydrocortisone|DXM [Steroid]|16-alpha-Methyl-9-alpha-fluoro-delta(sup 1)-hydrocortisone|HEMADY|16-alpha-Methyl-9-alpha-fluoro-1-dehydrocortisol|Dexamethasone (GMP)|Dexamethasone, topical|CHEBI:41879|AI3-50934|delta(sup 1)-9-alpha-Fluoro-16-alpha-methylcortisol|9A-FLUORO-16BETA-METHYLPREDNISOLONE|Prednisolone, 9alpha-fluoro-16alpha-methyl-|DTXCID10384|MLS001332507|16.alpha.-Methyl-9.alpha.-fluoroprednisolone|Dexamethasone [USP:INN:BAN:JAN]|DXM (Steroid)|9-Fluoro-11beta,17,21-trihydroxy-16alpha-methylpregna-1,4-diene-3,20-dione|[3H]-dexamethasone|DEXA|[3H]dexamethasone|CIPRODEX COMPONENT DEXAMETHASONE|Decaject-L.A.|MAXITROL COMPONENT DEXAMETHASONE|TOBRADEX COMPONENT DEXAMETHASONE|(1R,2S,10S,11S,13R,14R,15S,17S)-1-fluoro-14,17-dihydroxy-14-(2-hydroxyacetyl)-2,13,15-trimethyltetracyclo[8.7.0.0^{2,7}.0^{11,15}]heptadeca-3,6-dien-5-one|DEXACIDIN COMPONENT DEXAMETHASONE|DEXASPORIN COMPONENT DEXAMETHASONE|Aphthasolone|DEXAMETHASONE COMPONENT OF CIPRODEX|DEXAMETHASONE COMPONENT OF MAXITROL|DEXAMETHASONE COMPONENT OF TOBRADEX|TOBRADEX ST COMPONENT DEXAMETHASONE|DEXAMETHASONE COMPONENT OF DEXACIDIN|Dexa-Mamallet|DEXAMETHASONE COMPONENT OF DEXASPORIN|DEXAMETHASONE COMPONENT OF TOBRADEX ST|9.alpha.-Fluoro-16.alpha.-methylprednisolone|Dexametasona (INN-Spanish)|Dexamethasonum (INN-Latin)|(8S,9R,10S,11S,13S,14S,16R,17R)-9-fluoro-11,17-dihydroxy-17-(2-hydroxyacetyl)-10,13,16-trimethyl-6,7,8,9,10,11,12,13,14,15,16,17-dodecahydro-3H-cyclopenta[a]phenanthren-3-one|C22H29FO5|DEXAMETHASONE (MART.)|DEXAMETHASONE [MART.]|16.alpha.-Methyl-9.alpha.-fluoro-1-dehydrocortisol|DEXAMETHASONE (USP-RS)|DEXAMETHASONE [USP-RS]|1-Dehydro-16.alpha.-methyl-9.alpha.-fluorohydrocortisone|Dexamethasone (USP:INN:BAN:JAN)|DEXAMETHASONE (EP MONOGRAPH)|DEXAMETHASONE [EP MONOGRAPH]|DEXAMETHASONE (USP MONOGRAPH)|DEXAMETHASONE [USP MONOGRAPH]|Dexamethasone Base|Decadron (TN)|(8S,9R,10S,11S,13S,14S,16R,17R)-9-fluoro-11,17-dihydroxy-17-(2-hydroxyacetyl)-10,13,16-trimethyl-6,7,8,11,12,14,15,16-octahydrocyclopenta[a]phenanthren-3-one|SMR000857119|BETAMETHASONE IMPURITY A (EP IMPURITY)|BETAMETHASONE IMPURITY A [EP IMPURITY]|dexamethasone (tetramethyl-rhodamine conjugated )|Prednisolone, 9.alpha.-fluoro-16.alpha.-methyl-|alin|Amplidermis|Cortidexason|Dexafluorene|Dexamecortin|Dexamethsone|Fluorodelta|Aacidexam|Baycadron|Decadrol|Dexabliss|Dexachel|Dexalocal|Dexasine|Spersadex|.delta.(sup 1)-9-.alpha.-Fluoro-16-.alpha.-methylcortisol|16.alpha.-Methyl-9.alpha.-fluoro-.delta.(sup1)-hydrocortisone|Dxevo|NSC34521|TaperDex|Aknichthol Dexa|Alin Oftalmico|Anemul mono|Azium Solution|Dexium Tablets|Azium Powder|Dexa-Rhinosan|.gamma.corten|ZoDex|9-Fluoro-11,17,21-trihydroxy-16-methylpregna-1,4-diene-3,20-dione|Alin Depot|Baycuten N|Lokalison-F|Apo-dexamethasone|Decadron DP|Dexasone 4mg|Alba-Dex|Zonometh Solution|Dexameth-A-Vet|PHL-dexamethasone|PMS-dexamethasone|TaperDex 6-day|TaperDex 7-day|Decasone R.p.|Dexamethasone-omega|NCGC00091019-08|Dexasone 0.5mg|TaperDex 12-day|HiDex 6-day|Dexasone 0.75mg|Sandoz Dexamethasone|Dexamethasone1.5 mg|Pregna-1,4-diene-3,20-dione, 9-fluoro-11,17,21-trihydroxy-16-methyl-, (11beta,16alpha)-|Dexamethasone Solution|Dexamethasone Injection|DEXYCU KIT|Maxidex Ont 0.1%|Maxidex Sus 0.1%|Azium Boluses 10 mg|Dexamethasone 1.5 mg|Pet Derm III Tablets|Dexameth-A-Vet Injection|Spectrum5_002019|Azium Tablets 0.25 mg|DEXAMETHASONE 6-Day|Azium Oral Solution 2 mg|DEXAMETHASONE [MI]|MolMap_000018|(9R,14S)-Dexamethasone|DEXAMETHASONE [INN]|DEXAMETHASONE [JAN]|SCHEMBL3774|16-alpha-Methyl-9-alpha-fluoro-1,4-pregnadiene-11-beta,17-alpha,21-triol-3,20-dione|16-alpha-Methyl-9-alpha-fluoro-11-beta,17-alpha,21-trihydroxypregna-1,4-diene-3,20-dione|4-alpha-Fluoro-16-alpha-methyl-11-beta,17,21-trihydroxypregna-1,4-diene-3,20-dione|9-alpha-Fluoro-16-alpha-methyl-1,4-pregnadiene-11-beta,17-alpha,21-triol-3,20-dione|DEXAMETHASONE [HSDB]|BIDD:PXR0060|BSPBio_000995|DEXAMETHASONE [VANDF]|MLS001055412|MLS001332508|BIDD:ER0494|Dexamethasone Sterile Solution|sustained-release dexamethasone|DEXAMETHASONE [WHO-DD]|DEXAMETHASONE [WHO-IP]|CHEMBL384467|GTPL2768|GTPL3447|SGCUT00126|9-Fluoro-16-methylprednisolone|Ak Dex Oph Otic Soln 0.1%|DEXAMETHASONE [EMA EPAR]|BDBM18207|Dexamethasone (anti-inflammatory)|Dexamethasone (JP17/USP/INN)|1p93|DEXAMETHASONE [GREEN BOOK]|HMS1792A17|HMS1990A17|HMS2089N13|HMS2235F08|HMS3039L11|HMS3259N11|HMS3403A17|Azium Aqueous Suspension Veterinary|DEXAMETHASONE [ORANGE BOOK]|AMY28815|to_000038|Tox21_200122|Dexamethasone, >=97.0% (HPLC)|HB2521|HY-14648G|IBI-10090|MK-125|s1322|Dexamethasone 1.0 mg/ml in Methanol|DEXAMETHASONUM [WHO-IP LATIN]|PMS Dexamethasone Elixir 0.5mg/5ml|AKOS005259009|AKOS015895509|CCG-264887|CS-1505|DB01234|KS-1451|NC00645|alpha -Fluoro-16-alpha -methylcortisol|CAS-50-02-2|Pregna-1,4-diene-3,20-dione, 9-fluoro-11beta,17,21-trihydroxy-16alpha-methyl-|SMP1_000092|Dexamethasone, >=98% (HPLC), powder|NCGC00091019-01|NCGC00091019-02|NCGC00091019-03|NCGC00091019-04|NCGC00091019-05|NCGC00091019-06|NCGC00091019-07|NCGC00091019-23|NCGC00257676-01|(11beta,16alpha)-9-Fluoro-11,17,21-trihydroxy-16-methylpregna-1,4-diene-3,20-dione labeled with tritium|(8S,9R,10S,11S,13S,14S,16R,17R)-9-Fluoro-11,17-dihydroxy-17-(2-hydroxyacetyl)-10,13,16-trimethyl-6,7,8,9,10,11,12,13,14,15,16,17-dodecahydro-3H-cyclopenta[a]ph|23495-06-9|9alpha-fluoro-16alpha-methyl-Prednisolone|AC-11056|HY-14648|NCI60_003067|Pregna-1,4-diene-3,20-dione, 9-fluoro-11,17,21-trihydroxy-16-methyl-, labeled with tritium, (11beta,16alpha)-|SMR001227192|Fluoro-9alpha Methyl-16alpha Prednisolone|16alpha -Methyl-9alpha -fluoroprednisolone|9alpha -Fluoro-16alpha -methylprednisolone|Dexamethasone, tested according to Ph.Eur.|CS-0626118|NS00000344|EN300-52607|D00292|Dexamethasone, meets USP testing specifications|Prednisolone, 9alpha -fluoro-16alpha -methyl-|9.alpha.-Fluoro-16.alpha.-methyl-1,20-dione|AB00918428-05|AB00918428-08|AB00918428-09|AB00918428_10|16alpha -Methyl-9alpha -fluoro-1-dehydrocortisol|16Alpha-methyl-9alpha-fluoro-delta1-hydrocortisone|Dexamethasone, VETRANAL(TM), analytical standard|Q422252|1-Dehydro-16alpha-methyl-0alpha-fluorohydrocortisone|delta(Sup1)-9-alpha-fluoro-16-alpha-methylcortisol|Q-200939|BRD-K38775274-001-02-3|BRD-K38775274-001-06-4|DEXAMETHASONE ACETATE IMPURITY A [EP IMPURITY]|1-Dehydro-16alpha -methyl-9alpha -fluorohydrocortisone|9-Fluoro-11alpha -methylpregna-1,4-diene-3,20-dione|Dexamethasone, British Pharmacopoeia (BP) Assay Standard|Z756391748|Pregna-1,4-diene-3,20-dione, 9-fluoro-11alpha -methyl-|Dexamethasone, European Pharmacopoeia (EP) Reference Standard|WLN: L E5 B666 OV KU MUTJ A1 BF CQ E1 FV1Q FQ G1|Dexamethasone, powder, BioReagent, suitable for cell culture, >=97%|Dexamethasone, United States Pharmacopeia (USP) Reference Standard|16-.alpha.-Methyl-9-.alpha.-fluoro-1,17-.alpha.,21-triol-3,20-dione|4.alpha.-Fluoro-16.alpha.-methyl-11.beta.-17,4-diene-3,20-dione|Pregna-1,20-dione, 9-fluoro-11.beta.,17,21-trihydroxy-16.alpha.-methyl-|16.alpha.-Methyl-9.alpha.-fluoro-11.beta.-17.alpha.-21-trihydroxypregna-1,20-dione|9-Fluoro-11.beta.,21-trihydroxy-16.alpha.-methylpregna-1,4-diene-3,20-dione|9-fluoro-16alpha-methyl-11beta,17,21-trihydroxypregna-1,4-diene-3,20-dione|9.alpha.-Fluoro-11.beta.-17.alpha.- 21-trihydroxy-16.alpha.-methylpregna-1,20-dione|9alpha-Fluoro-16alpha-methyl-11beta,17alpha,21-trihydroxy-1,4-pregnadiene-3,20-dione|Dexamethasone for peak identification, European Pharmacopoeia (EP) Reference Standard|Dexamethasone for system suitability, European Pharmacopoeia (EP) Reference Standard|Dexamethasone, Pharmaceutical Secondary Standard; Certified Reference Material|Dexamethasone, powder, gamma-irradiated, BioXtra, suitable for cell culture, >=80% (HPLC)|Pregna-1,20-dione, 9-fluoro-11,17,21-trihydroxy-16-methyl-, (11.beta.,16.alpha.)-|(11.BETA.,16.ALPHA.)-9-FLUORO-11,17,21-TRIHYDROXY-16-METHYLPREGNA-1,4-DIENE-3,20-DIONE|(11alpha,14beta,16alpha,17alpha)-9-fluoro-11,17,21-trihydroxy-16-methylpregna-1,4-diene-3,20-dione|(1R,2R', 'mw': '392.500', 'mf': 'C22H29FO5', 'polararea': '94.800', 'complexity': '805.000', 'xlogp': '1.900', 'heavycnt': '28', 'hbonddonor': '3', 'hbondacc': '6', 'rotbonds': '2', 'inchi': 'InChI=1S/C22H29FO5/c1-12-8-16-15-5-4-13-9-14(25)6-7-19(13,2)21(15,23)17(26)10-20(16,3)22(12,28)18(27)11-24/h6-7,9,12,15-17,24,26,28H,4-5,8,10-11H2,1-3H3/t12-,15+,16+,17+,19+,20+,21+,22+/m1/s1', 'isosmiles': 'C[C@@H]1C[C@H]2[C@@H]3CCC4=CC(=O)C=C[C@@]4([C@]3([C@H](C[C@@]2([C@]1(C(=O)CO)O)C)O)F)C', 'canonicalsmiles': 'CC1CC2C3CCC4=CC(=O)C=CC4(C3(C(CC2(C1(C(=O)CO)O)C)O)F)C', 'inchikey': 'UREBDLICKHMUKA-CXSFZGCWSA-N', 'iupacname': '(8S,9R,10S,11S,13S,14S,16R,17R)-9-fluoro-11,17-dihydroxy-17-(2-hydroxyacetyl)-10,13,16-trimethyl-6,7,8,11,12,14,15,16-octahydrocyclopenta[a]phenanthren-3-one', 'exactmass': '392.2', 'monoisotopicmass': '392.2', 'charge': '0', 'covalentunitcnt': '1', 'isotopeatomcnt': '0', 'totalatomstereocnt': '8', 'definedatomstereocnt': '8', 'undefinedatomstereocnt': '0', 'totalbondstereocnt': '0', 'definedbondstereocnt': '0', 'undefinedbondstereocnt': '0', 'pclidcnt': '120247', 'gpidcnt': '199832', 'gpfamilycnt': '56651', 'neighbortype': '2D+3D', 'meshheadings': 'Dexamethasone', 'annothits': 'Biological Test Results|Interactions and Pathways|Chemical and Physical Properties|Classification|Drug and Medication Information|Food Additives and Ingredients|Identification|Literature|Patents|Pharmacology and Biochemistry|Safety and Hazards|Toxicity|Use and Manufacturing|Associated Disorders and Diseases|Spectral Information|Taxonomy|Biological Test Results: Active|Biological Test Results: Micromolar|Biological Test Results: Nanomolar', 'annothitcnt': '19', 'aids': '1|3|5|9|13|15|17|19|21|23|25|27|29|31|33|35|37|39|45|47|49|51|53|55|57|59|63|65|67|69|71|73|75|79|81|99|101|103|105|107|109|115|119|121|123|125|131|137|139|141|143|145|155|157|161|165|167|175|179|180|190|192|196|200|206|208|212|220|248|256|264|268|296|328|330|342|421|426|427|433|434|435|445|530|540|541|542|543|544|545|546|584|585|595|596|603|605|654|655|656|657|658|659|660|661|662|663|664|665|666|667|875|880|881|884|885|886|887|889|892|893|894|900|902|912|921|923|924|925|926|938|946|947|948|955|960|961|962|963|964|965|966|967|968|969|970|971|972|973|974|975|976|977|978|979|980|981|982|983|984|985|986|987|988|989|993|994|995|1030|1189|1195|1204|1208|1452|1457|1458|1460|1463|1468|1469|1471|1476|1477|1478|1479|1490|1511|1554|1662|1663|1672|1766|1768|1813|1814|1832|1850|1863|1865|1875|1885|1899|1903|1906|1910|1947|1948|1950|1962|1974|1979|1987|2016|2023|2025|2029|2052|2057|2066|2094|2097|2098|2099|2101|2107|2112|2120|2129|2130|2156|2174|2177|2216|2221|2227|2234|2235|2237|2239|2240|2241|2247|2275|2280|2300|2313|2314|2315|2316|2322|2330|2380|2382|2391|2435|2445|2451|2462|2472|2517|2520|2521|2524|2528|2540|2544|2546|2549|2550|2551|2553|2557|2563|2599|2606|2629|2642|2648|2650|2661|2676|2685|2690|2716|2717|2718|2751|2796|2797|2805|2806|2825|6808|7077|7783|8002|19262|19419|19424|19427|19468|20050|22293|23672|24428|24434|26304|26380|27580|28233|28235|28236|29360|29421|29423|29811|29925|32842|39012|39320|50906|54923|68901|74220|74244|74246|74373|74374|74375|74376|74377|74378|74386|78478|90104|91224|91480|91778|107280|117871|122891|122892|126285|126435|131935|131937|131938|131941|132323|132324|132692|134687|134690|134693|134695|140447|144364|150751|150752|150753|150754|150755|150756|150757|150758|150759|152781|152782|159080|159248|159548|159550|159551|160896|160908|162590|162613|166393|177034|177814|179054|181693|185435|185788|186124|186288|187585|187586|187587|187588|187589|187590|187591|187592|188016|194295|205635|209811|213396|215260|221922|224258|224269|225651|225653|227718|243152|243422|249546|249547|251749|251803|255211|255663|256204|266763|266764|266765|266771|267709|267710|267771|267772|267773|267774|267775|267776|268293|268301|274990|274991|274992|274993|274995|274997|281280|281328|286319|286321|286323|286325|286326|286329|288184|288185|288192|292548|292549|292550|292551|292552|292895|292897|292936|293006|293009|293010|297837|297838|297839|297840|297841|297842|297845|297847|300612|300613|300614|300615|300618|300619|300916|300917|300918|300919|300921|302098|304379|304380|304381|304382|304383|304384|304385|304386|310931|310932|310933|311367|327509|330359|330373|332633|334022|334024|334025|334026|334027|334028|338894|346025|346462|349564|350879|350880|350881|350887|351549|351552|351553|351941|351942|351943|351946|360335|360337|360411|360412|365558|365559|365560|365567|365568|365569|374988|374989|375006|375007|375303|375304|375305|375306|375307|375308|375309|375310|375311|376629|379153|379448|379449|382421|382422|382423|382424|382425|382431|384955|387831|387832|394153|394157|394162|394163|394164|394166|398496|401469|401470|401563|401579|401580|401582|401583|401585|401586|407366|407369|407492|408833|409954|409956|415129|415130|415131|415134|417707|417711|417715|417719|420358|425652|425653|429115|429117|429130|429131|434955|434959|434962|434973|434989|435003|435005|435022|435030|443585|443586|443588|443590|443592|443593|443594|444050|444051|444052|444053|444054|444055|444056|444057|444058|449728|449762|449763|450810|450811|453203|453204|454141|454142|454144|455986|457538|458284|458288|458291|458299|459145|459147|459149|460594|460595|460596|463079|463082|463104|463111|463141|463165|463190|463195|463210|463212|463254|467424|467425|467612|467613|469716|473408|473409|473411|473415|473491|475024|476929|478062|480591|480592|481439|481442|483905|483906|483907|483908|483909|483920|483921|483922|483923|483924|483925|483926|483927|483928|483929|483930|483931|483932|483933|483934|483935|483940|483941|483942|483943|483945|485270|485272|485273|485275|485281|485290|485294|485297|485298|485313|485317|485341|485344|485346|485347|485349|485350|485353|485358|485360|485364|485367|486249|486250|486251|488837|488839|488847|488862|488890|488895|488896|488899|488922|488965|488966|488975|488977|489030|489031|490940|490941|490942|492947|492953|492956|492972|493005|493008|493011|493012|493014|493033|493036|493056|493083|493084|493085|493087|493091|493098|493131|493160|493187|493244|496817|496818|496819|496820|496821|496823|496824|496825|496826|496827|496828|496829|496830|496831|496832|497005|497377|497378|497379|499645|500076|500077|500080|503305|504326|504327|504329|504332|504333|504339|504357|504406|504408|504411|504414|504423|504441|504444|504454|504462|504466|504467|504490|504523|504558|504577|504582|504621|504634|504648|504651|504652|504660|504690|504692|504700|504706|504707|504720|504734|504766|504775|504803|504810|504812|504832|504834|504842|504845|504847|504884|504891|504894|504937|507145|507146|511563|515514|515515|515516|515517|516371|516372|516373|516374|516375|516377|516378|517026|517033|532000|532238|532240|537733|537734|537735|537736|540209|540210|540211|540212|540213|540253|540263|540267|540275|540277|540295|540303|540308|540317|540336|540364|566275|568215|568216|568217|568218|568219|568366|578355|578564|578565|578569|578571|587910|588209|588210|588211|588212|588213|588214|588215|588216|588217|588218|588219|588334|588335|588342|588352|588354|588358|588391|588405|588413|588436|588453|588456|588458|588473|588475|588478|588489|588492|588493|588497|588499|588501|588511|588513|588514|588515|588516|588519|588526|588527|588532|588533|588534|588535|588536|588537|588541|588543|588544|588545|588546|588547|588549|588579|588590|588591|588621|588627|588664|588674|588675|588676|588689|588692|588726|588727|588795|588812|588813|588814|588819|588827|588832|588834|588847|588850|588852|588855|588856|589039|589050|589056|589397|592681|601264|602123|602141|602162|602163|602179|602229|602233|602244|602247|602248|602250|602252|602261|602266|602274|602281|602310|602313|602314|602329|602332|602340|602342|602346|602363|602393|602396|602399|602405|602410|602429|602438|602440|602449|602472|602481|603439|604795|604797|604799|604800|604854|609789|609817|610928|612358|612359|616800|620568|623674|623681|623682|623683|623687|623690|623870|623877|623901|624037|624038|624040|624101|624125|624126|624127|624137|624156|624168|624169|624170|624171|624172|624173|624178|624202|624204|624246|624256|624260|624263|624267|624268|624288|624296|624297|624304|624330|624349|624352|624354|624377|624414|624415|624416|624417|624418|624463|624464|624465|624466|624467|624483|624622|624623|624626|624628|624629|625144|625145|625146|625147|625148|625149|625150|625151|625152|625153|625154|625155|625156|625157|625158|625159|625160|625161|625162|625163|625164|625165|625166|625167|625168|625169|625170|625171|625172|625173|625174|625175|625176|625177|625178|625179|625180|625181|625182|625183|625184|625185|625186|625187|625188|625189|625190|625191|625192|625193|625194|625195|625196|625197|625198|625199|625200|625201|625202|625203|625204|625205|625206|625207|625208|625209|625210|625211|625212|625213|625214|625215|625216|625217|625218|625219|625220|625221|625222|625223|625224|625225|625226|625227|625228|625229|625230|625231|625232|625233|625234|625235|625236|625237|625238|625239|625240|625241|625242|625243|625244|625245|625246|625247|625248|625249|625250|625251|625252|625253|625254|625255|625256|625257|625258|625259|625260|625261|625262|625263|625264|625265|625266|625267|625268|625269|625270|625271|625272|625273|625274|625275|625277|625279|625280|625281|625282|625283|625284|625285|625286|625287|625288|625289|625290|625291|625292|626140|626141|626142|626146|626200|626202|626476|626817|626821|628386|628411|639529|639532|639575|639578|639579|639584|639590|639591|639626|639627|651548|651550|651560|651572|651582|651602|651608|651610|651631|651632|651633|651634|651635|651636|651640|651644|651647|651654|651658|651661|651687|651699|651702|651704|651710|651711|651718|651719|651723|651724|651725|651741|651743|651749|651751|651754|651755|651757|651758|651768|651777|651778|651800|651802|651819|651820|651821|651828|651838|651957|651958|651965|651999|652010|652017|652025|652039|652048|652051|652054|652067|652104|652105|652106|652115|652126|652154|652162|652163|652197|652257|658655|658657|662759|662760|663988|664333|664573|664752|666240|668008|668011|668014|673089|676828|678712|678713|678714|678715|678716|678717|678721|678722|678833|678990|678991|679056|679274|679342|680031|680126|680445|680874|681061|681119|681120|681121|681122|681128|681136|681164|681167|681337|681354|681385|681477|681484|681492|681606|681737|681738|682041|682136|686940|686964|686970|686971|686978|686979|686992|686996|687014|687016|687408|687411|687413|687415|687421|687422|687427|687428|688610|691200|691202|695747|695888|695891|696173|696175|699539|699540|699541|719931|720504|720508|720509|720511|720516|720522|720523|720524|720532|720533|720542|720543|720551|720552|720553|720554|720579|720580|720582|720596|720634|720635|720636|720637|720641|720647|720648|720652|720653|720659|720674|720675|720678|720679|720680|720681|720682|720683|720684|720685|720686|720687|720691|720692|720693|720700|720702|720704|720707|720708|720709|720711|720717|720719|720725|721753|721754|724393|724394|724395|724396|724397|724398|724399|724400|724401|724402|724403|724404|724405|724406|724407|724408|724409|724410|724411|724412|724413|724414|724415|724416|724417|724418|724423|724424|725919|726799|726800|726801|726808|726809|726810|726811|729607|729895|729897|729898|729900|729901|733140|733149|733151|733175|733176|743012|743014|743015|743033|743035|743036|743040|743041|743042|743053|743054|743063|743064|743065|743066|743067|743069|743074|743075|743077|743078|743079|743080|743081|743083|743084|743085|743086|743091|743094|743122|743126|743139|743140|743191|743194|743199|743202|743203|743209|743210|743211|743212|743213|743215|743217|743218|743219|743220|743221|743222|743223', 'cidcdate': '20050326', 'sidsrcname': \"001Chemical|10X CHEM|3WAY PHARM INC|A&J Pharmtech CO., LTD.|A2B Chem|AA BLOCKS|Aaron Chemicals LLC|AbaChemScene|ABBLIS Chemicals|abcr GmbH|Abe Lab, University of Texas MD Anderson Cancer Center|ABI Chem|AbMole Bioscience|AbovChem LLC|Achemtek|Acmec Biochemical|Acorn PharmaTech Product List|AHH Chemical co.,ltd|AK Scientific, Inc. (AKSCI)|AKos Consulting & Solutions|Aladdin|Alfa Chemistry|Alsachim|Apexmol|Aribo Reagent|Aronis|Assembly Blocks Pvt. Ltd.|AstaTech, Inc.|Aurum Pharmatech LLC|AvaChem Scientific|Axon Medchem|BenchChem|BIDD|BindingDB|BioCrick|BioCyc|Biosynth|BOC Sciences|Boerchem|Broad Institute|C. David Weaver Laboratory, Vanderbilt University|Carcinogenic Potency Database (CPDB)|CCSbase|Center for Chemical Genomics, University of Michigan|Changzhou Highassay Chemical Co., Ltd|ChEBI|Chem-Space.com Database|ChemBank|Chembase.cn|ChEMBL|Chemenu Inc.|ChemExper Chemical Directory|ChemFaces|Chemical Carcinogenesis Research Information System (CCRIS)|ChemIDplus|Chemieliva Pharmaceutical Co., Ltd|ChemMol|ChemShuttle|ChemSpider|Chen Lab, School of Medicine, Emory University|Clearsynth|Collaborative Drug Discovery, Inc.|Comparative Toxicogenomics Database (CTD)|Crystallography Open Database (COD)|CymitQuimica|Davey Lab, Department of Microbiology, NEIDL, Boston University|DC Chemicals|DiscoveryGate|Drug Induced Liver Injury Rank (DILIrank) Dataset|DrugBank|DrugCentral|DTP/NCI|Egon Willighagen, Department of Bioinformatics - BiGCaT, Maastricht University|Enamine|EPA DSSTox|EPA Substance Registry Services|FDA Global Substance Registration System (GSRS)|Fisher Drug Discovery Resource Center|Founder Pharma|Glentham Life Sciences Ltd.|Google Patents|Hangzhou APIChem Technology|Hangzhou Trylead Chemical Technology|Hello Bio|Horrigan Lab, Baylor College of Medicine|Human Metabolome Database (HMDB)|IBM|ICCB-Longwood Screening Facility, Harvard Medical School|ISpharm|IUPHAR/BPS Guide to PHARMACOLOGY|J&H Chemical Co.,ltd|Japan Chemical Substance Dictionary (Nikkaji)|KCS Online|KEGG|Key Organics/BIONET|King Scientific|LabNetwork, a WuXi AppTec Company|labseeker|LeadScope|LGC Standards|LKT Labs|MassBank Europe|MassBank of North America (MoNA)|Matrix Scientific|Mcule|MedChemexpress MCE|Metabolomics Workbench|Milbrandt Lab, Department of Genetics, Washington University School of Medicine|Milwaukee Institute for Drug Discovery|MLSMR|Molecule Market|MolPort|MuseChem|National Center for Advancing Translational Sciences (NCATS)|Nature Chemical Biology|NCBI Structure|NextBio|NextMove Software|NIH/NCATS RNAi|NIST Mass Spectrometry Data Center|NORMAN Suspect List Exchange|Novartis Institutes for BioMedical Research|Oakwood Products|OChem|Parchem|PATENTSCOPE (WIPO)|Phion Ltd|Probes & Drugs portal|Protein Data Bank in Europe (PDBe)|Prous Science Drugs of the Future|PubChem Reference Collection|RR Scientific|Santa Cruz Biotechnology, Inc.|Santagata Laboratory - Brigham and Women's Hospital and Harvard Medical School|SCRIPDB|Selleck Chemicals|Shanghai Institute of Organic Chemistry|Sigma-Aldrich|SLING Consortium|Small Molecule Screening Facility, UW Madison|SMID|Southern Research Institute|Springer Nature|Starshine Chemical|Structural Genomics Consortium|SureChEMBL|Syntree|TargetMol|THE BioTek|Therapeutic Target Database (TTD)|Thermo Fisher Scientific|Thieme Chemistry|Thomson Pharma|TimTec|Tox21|ToxPlanet|Uchem Meditech|VladaChem|VWR, Part of Avantor|Wikidata|WikiPathways|Wiley|Win-Win Chemical|Wolschendorf Lab, School of Medicine, University of Alabama at Birmingham|xPharm: The Comprehensive Pharmacology Reference|Yick-Vic Chemicals & Pharmaceuticals (HK) Ltd.|Yuhao Chemical|ZeroPM - Zero Pollution of Persistent, Mobile Substances|ZINC\", 'depcatg': 'Chemical Vendors|Curation Efforts|Governmental Organizations|Journal Publishers|Legacy Depositors|NIH Initiatives|Research and Development|Subscription Services', 'annotation': 'D - Dermatologicals > D07 - Corticosteroids, dermatological preparations > D07X - Corticosteroids, other combinations > D07XB - Corticosteroids, moderately potent, other combinations|D000970 - Antineoplastic Agents|S - Sensory organs > S03 - Ophthalmological and otological preparations > S03B - Corticosteroids > S03BA - Corticosteroids|C147908 - Hormone Therapy Agent > C548 - Therapeutic Hormone > C1636 - Therapeutic Steroid Hormone|D006730 - Hormones, Hormone Substitutes, and Hormone Antagonists > D006728 - Hormones > D005938 - Glucocorticoids|D005765 - Gastrointestinal Agents > D000932 - Antiemetics|D000893 - Anti-Inflammatory Agents|H - Systemic hormonal preparations, excl. sex hormones and insulins > H02 - Corticosteroids for systemic use > H02A - Corticosteroids for systemic use, plain > H02AB - Glucocorticoids|D002491 - Central Nervous System Agents|C308 - Immunotherapeutic Agent > C574 - Immunosuppressant > C211 - Therapeutic Corticosteroid|C78272 - Agent Affecting Nervous System > C267 - Antiemetic Agent|D - Dermatologicals > D07 - Corticosteroids, dermatological preparations > D07A - Corticosteroids, plain > D07AB - Corticosteroids, moderately potent (group ii)|S - Sensory organs > S01 - Ophthalmologicals > S01C - Antiinflammatory agents and antiinfectives in combination > S01CB - Corticosteroids/antiinfectives/mydriatics in combination|A - Alimentary tract and metabolism > A01 - Stomatological preparations > A01A - Stomatological preparations > A01AC - Corticosteroids for local oral treatment|S - Sensory organs > S01 - Ophthalmologicals > S01B - Antiinflammatory agents > S01BA - Corticosteroids, plain|D018373 - Peripheral Nervous System Agents > D001337 - Autonomic Agents|R - Respiratory system > R01 - Nasal preparations > R01A - Decongestants and other nasal preparations for topical use > R01AD - Corticosteroids|S - Sensory organs > S02 - Otologicals > S02B - Corticosteroids > S02BA - Corticosteroids|D - Dermatologicals > D10 - Anti-acne preparations > D10A - Anti-acne preparations for topical use > D10AA - Corticosteroids, combinations for treatment of acne|C - Cardiovascular system > C05 - Vasoprotectives > C05A - Agents for treatment of hemorrhoids and anal fissures for topical use > C05AA - Corticosteroids|COVID-19|COVID19|Coronavirus|Corona-virus|SARS|SARS2|SARS-CoV|SARS-CoV-2|COVID info from clinicaltrial, clinicaltrials, clinical trial, clinical trials, DrugBank, Guide to PHARMACOLOGY'}\n"
     ]
    }
   ],
   "source": [
    "import csv\n",
    "\n",
    "# the medicine list is downloaded from pubchem after searching \"acne\". It is stored in a csv\n",
    "acne_filename = 'PubChem_compound_text_acne.csv'\n",
    "\n",
    "# Reading from a CSV file with headers\n",
    "with open(acne_filename, newline='') as csvfile:\n",
    "    csvreader = csv.DictReader(csvfile)\n",
    "    \n",
    "    # check the fields. Get the header names\n",
    "    headers = csvreader.fieldnames\n",
    "    print(\"Headers:\", headers) \n",
    "    \n",
    "    # Check one line of data\n",
    "    for row in csvreader:\n",
    "        print(row)\n",
    "        break\n",
    "    csvreader\n",
    "\n",
    "    \n",
    "\n",
    "\n"
   ]
  },
  {
   "cell_type": "markdown",
   "id": "1f896581-5024-46c6-b770-289894ad3aa8",
   "metadata": {},
   "source": [
    "# It seems that we need to collect features\n",
    "\n",
    "Chemical properties: molecular weight, solubility, structure, functional groups, and other chemical properties.\n",
    "Then we can build a model to predict if a model can help with acne based on these features"
   ]
  },
  {
   "cell_type": "markdown",
   "id": "1399a4fe-a3df-49ee-8934-573464c142f2",
   "metadata": {
    "tags": []
   },
   "source": [
    "# Garbage old code bank"
   ]
  },
  {
   "cell_type": "code",
   "execution_count": 71,
   "id": "29a828e1-1929-4d1e-92d8-030fd79ef129",
   "metadata": {
    "tags": []
   },
   "outputs": [],
   "source": [
    "import pubchempy as pcp\n",
    "\n",
    "# Search for a compound by name\n",
    "chemical_name = \"Apigenin-7-O-alpha-L-rhamnoside\" #'aspirin'\n",
    "\n",
    "compounds = pcp.get_compounds(chemical_name, 'name')\n",
    "\n",
    "# Print information about the found compounds\n",
    "for compound in compounds:\n",
    "    print(f\"IUPAC Name: {compound.iupac_name}\")\n",
    "    print(f\"Molecular Formula: {compound.molecular_formula}\")\n",
    "    print(f\"Molecular Weight: {compound.molecular_weight}\")\n",
    "    print(f\"Canonical SMILES: {compound.canonical_smiles}\")\n",
    "    print(f\"Isomeric SMILES: {compound.isomeric_smiles}\")\n",
    "    print(f\"InChI: {compound.inchi}\")\n",
    "    print(f\"InChI Key: {compound.inchikey}\")\n",
    "    print(f\"CID: {compound.cid}\")\n",
    "    print(\"-\" * 30)"
   ]
  },
  {
   "cell_type": "code",
   "execution_count": null,
   "id": "86743771-8659-4674-a987-84bdb2487312",
   "metadata": {},
   "outputs": [],
   "source": [
    "from rdkit import Chem\n",
    "from rdkit.Chem import Descriptors, MACCSkeys\n",
    "from sklearn.ensemble import RandomForestClassifier\n",
    "from sklearn.model_selection import train_test_split, cross_val_score\n",
    "import numpy as np\n",
    "import pandas as np\n",
    "\n",
    "# Sample SMILES data\n",
    "smiles_list = [\"CCO\", \"CC(=O)O\", \"CCC\", \"CCN\"]\n",
    "\n",
    "# Convert SMILES to RDKit molecule objects\n",
    "molecules = [Chem.MolFromSmiles(smiles) for smiles in smiles_list]\n",
    "\n",
    "# Calculate molecular descriptors\n",
    "def calculate_descriptors(mol):\n",
    "    descriptors = {\n",
    "        'MolWt': Descriptors.MolWt(mol),\n",
    "        'LogP': Descriptors.MolLogP(mol),\n",
    "        'NumHDonors': Descriptors.NumHDonors(mol),\n",
    "        'NumHAcceptors': Descriptors.NumHAcceptors(mol)\n",
    "    }\n",
    "    return descriptors\n",
    "\n",
    "descriptor_list = [calculate_descriptors(mol) for mol in molecules]\n",
    "\n",
    "# Create a DataFrame for features\n",
    "df = pd.DataFrame(descriptor_list)\n",
    "\n",
    "# Example labels (binary classification)\n",
    "labels = [0, 1, 0, 1]\n",
    "\n",
    "# Split data into training and test sets\n",
    "X_train, X_test, y_train, y_test = train_test_split(df, labels, test_size=0.2, random_state=42)\n",
    "\n",
    "# Train a Random Forest classifier\n",
    "model = RandomForestClassifier(n_estimators=100, random_state=42)\n",
    "model.fit(X_train, y_train)\n",
    "\n",
    "# Evaluate model using cross-validation\n",
    "scores = cross_val_score(model, X_test, y_test, cv=5)\n",
    "print(\"Model Accuracy: \", np.mean(scores))"
   ]
  }
 ],
 "metadata": {
  "kernelspec": {
   "display_name": "Python 3 (ipykernel)",
   "language": "python",
   "name": "python3"
  },
  "language_info": {
   "codemirror_mode": {
    "name": "ipython",
    "version": 3
   },
   "file_extension": ".py",
   "mimetype": "text/x-python",
   "name": "python",
   "nbconvert_exporter": "python",
   "pygments_lexer": "ipython3",
   "version": "3.11.5"
  }
 },
 "nbformat": 4,
 "nbformat_minor": 5
}
