{
 "cells": [
  {
   "cell_type": "code",
   "execution_count": 2,
   "id": "14734fee-3f6f-4061-a7be-7b6c89cda723",
   "metadata": {
    "tags": []
   },
   "outputs": [
    {
     "name": "stdout",
     "output_type": "stream",
     "text": [
      "Requirement already satisfied: pubchempy in /opt/homebrew/lib/python3.11/site-packages (1.0.4)\n"
     ]
    }
   ],
   "source": [
    "! pip install pubchempy"
   ]
  },
  {
   "cell_type": "markdown",
   "id": "4a32560f-c713-4aa5-addb-209bb61bd535",
   "metadata": {},
   "source": [
    "## The chemicals are recorded in a text file.\n"
   ]
  },
  {
   "cell_type": "code",
   "execution_count": 77,
   "id": "373ee2c1-f0b5-4486-8e78-4730ad7c6229",
   "metadata": {
    "tags": []
   },
   "outputs": [],
   "source": [
    "file_path = 'lonicerae_clean.txt'\n",
    "\n",
    "# Open the file and read the lines into a list\n",
    "with open(file_path, 'r') as file:\n",
    "    lines = file.readlines()\n",
    "\n",
    "# Strip newline characters from each line. Also remove empty lines. Also change′ to '\n",
    "lines = [line.strip().replace('′','\\'') for line in lines if line.strip()]\n",
    "lines = [line.replace('β','beta') for line in lines]\n",
    "\n",
    "#lines\n"
   ]
  },
  {
   "cell_type": "code",
   "execution_count": 73,
   "id": "1bb6a027-2335-49b4-a106-1ef86bfac6e0",
   "metadata": {
    "tags": []
   },
   "outputs": [],
   "source": [
    "def getCompounds(names):\n",
    "    data = {}\n",
    "    for chemical_name in names:\n",
    "        compounds = pcp.get_compounds(chemical_name, 'name')\n",
    "        data[chemical_name] = compounds\n",
    "    return data\n"
   ]
  },
  {
   "cell_type": "code",
   "execution_count": 78,
   "id": "6c6b6c6f-ee62-496e-98e5-45289e1d8688",
   "metadata": {
    "tags": []
   },
   "outputs": [],
   "source": [
    "data = getCompounds(lines)"
   ]
  },
  {
   "cell_type": "markdown",
   "id": "a4dbf930-8791-44a1-acaa-02f93befbf83",
   "metadata": {},
   "source": [
    "## Save object to file. It tool time to load 100 chemical data from the PubChem. So we save it locally and reuse them later"
   ]
  },
  {
   "cell_type": "code",
   "execution_count": 75,
   "id": "5c1bb92c-aeef-435a-abcc-bc0fb17f90fa",
   "metadata": {
    "tags": []
   },
   "outputs": [
    {
     "name": "stdout",
     "output_type": "stream",
     "text": [
      "Object data has been serialized and saved to file.\n"
     ]
    }
   ],
   "source": [
    "import pickle\n",
    "\n",
    "# File path to save the serialized object\n",
    "file_path = 'data.pkl'\n",
    "\n",
    "# Open the file in binary write mode and dump the object\n",
    "with open(file_path, 'wb') as file:\n",
    "    pickle.dump(data, file)\n",
    "\n",
    "print(\"Object data has been serialized and saved to file.\")"
   ]
  },
  {
   "cell_type": "code",
   "execution_count": 35,
   "id": "1df3c2b3-e4c7-4f5f-aa10-91321c6f8f97",
   "metadata": {
    "tags": []
   },
   "outputs": [
    {
     "name": "stdout",
     "output_type": "stream",
     "text": [
      "Object has been deserialized and loaded from file.\n"
     ]
    }
   ],
   "source": [
    "import pickle\n",
    "\n",
    "# File path to load the serialized object from\n",
    "file_path = 'data.pkl'\n",
    "\n",
    "# Open the file in binary read mode and load the object\n",
    "with open(file_path, 'rb') as file:\n",
    "    data = pickle.load(file)\n",
    "\n",
    "print(\"Object has been deserialized and loaded from file.\")\n"
   ]
  },
  {
   "cell_type": "code",
   "execution_count": 76,
   "id": "56e6e9d8-772c-4b13-aee8-cada3b949fcc",
   "metadata": {
    "tags": []
   },
   "outputs": [
    {
     "name": "stdout",
     "output_type": "stream",
     "text": [
      "112\n",
      "5,7-Dihydroxyflavone [Compound(5281607)]\n",
      "5-Hydroxy-7,4'-dimethoxyflavone [Compound(5281601)]\n",
      "5-Hydroxy-7,3',4'-trimethoxyflavone [Compound(5272653)]\n",
      "5-Hydroxy-7,3',4',5'-tetramethoxyflavone []\n",
      "3',4',5',5,7-Pentamethoxyflavone [Compound(493376)]\n",
      "Luteolin [Compound(5280445)]\n",
      "3'-Methoxyluteolin []\n",
      "5,3'-Dimethoxyluteolin []\n",
      "Luteolin-7-O-beta-D-glucoside []\n",
      "Luteolin-7-O-beta-D-galactoside []\n",
      "Luteolin-5-O-beta-D-glucoside [Compound(5317471)]\n",
      "Luteolin-3'-O-L-rhamnoside []\n",
      "Jaceosidin [Compound(5379096)]\n",
      "Jaceosidin-7-O-neohesperidoside []\n",
      "Lonicerin [Compound(5282152)]\n",
      "Kaempferol-3-O-beta-D-glucoside []\n",
      "Apigenin-7-O-α-L-rhamnoside []\n",
      "Quercetin [Compound(5280343)]\n",
      "Quercetin-3-O-beta-D-glucoside [Compound(25203368)]\n",
      "Quercetin-7-O-beta-D-glucoside []\n",
      "Hyperoside [Compound(5281643)]\n",
      "Medioresinol-7-O-beta-D-glucoside []\n",
      "Medioresinol-7-O-neohesperidoside []\n",
      "Flavo-yadorinin-B []\n",
      "Rhoifolin [Compound(5282150)]\n",
      "Rutin [Compound(5280805)]\n",
      "Loganin [Compound(87691)]\n",
      "7-Epiloganin []\n",
      "8-Epiloganin [Compound(10548420)]\n",
      "Loganic Acid [Compound(89640)]\n",
      "Ketologanin []\n",
      "Secologanin [Compound(161276)]\n",
      "Secologanin Dimethyl Acetal [Compound(157140)]\n",
      "Sweroside [Compound(161036)]\n",
      "7-O-Ethyl Sweroside []\n",
      "Secologanoside-7-Methyl Ester []\n",
      "Kingiside [Compound(12304884)]\n",
      "7α-Morroniside []\n",
      "7beta-Morroniside []\n",
      "Dehydromorroniside []\n",
      "Vogeloside [Compound(14192588), Compound(14192589)]\n",
      "Epi-vogeloside [Compound(14192590)]\n",
      "Secoxyloganin [Compound(162868)]\n",
      "Secoxyloganin 7-Butyl Ester []\n",
      "Secologanic Acid [Compound(71607801)]\n",
      "Secologanoside [Compound(14136854)]\n",
      "Secologanoside A []\n",
      "Dimethyl Secologanoside [Compound(14105070)]\n",
      "Adinoside A []\n",
      "Stryspinoside []\n",
      "Loniceracetalide A [Compound(637857)]\n",
      "Loniceracetalide B []\n",
      "Loniphenyruviridoside A [Compound(57395335)]\n",
      "Loniphenyruviridoside B [Compound(56598467)]\n",
      "Loniphenyruviridoside C [Compound(57398873)]\n",
      "Loniphenyruviridoside D [Compound(56598469)]\n",
      "L-Phenylalaninosecologanin []\n",
      "7-O-(4-beta-D-Glucopyranosyloxy-3-Methoxy Benzoyl) Secologanolic Acid []\n",
      "6'-O-(7α-Hydroxyswerosyloxy) Loganin []\n",
      "(Z)-Aldosecologanin [Compound(6440698)]\n",
      "(E)-Aldosecologanin [Compound(45783101), Compound(75130896), Compound(10908841), Compound(12012212), Compound(167994162)]\n",
      "Centauroside [Compound(6440698)]\n",
      "Lonijaposide A [Compound(24879109), Compound(24879108)]\n",
      "Lonijaposide B [Compound(24879111), Compound(24879110)]\n",
      "Lonijaposide C [Compound(24879107), Compound(24879106)]\n",
      "Lonijaposide D [Compound(56599664)]\n",
      "Lonijaposide E [Compound(56599666)]\n",
      "Lonijaposide F [Compound(56599668)]\n",
      "Lonijaposide G [Compound(56599669)]\n",
      "Lonijaposide H [Compound(56599868)]\n",
      "Lonijaposide I [Compound(56598336)]\n",
      "Lonijaposide J [Compound(56599869)]\n",
      "Lonijaposide K [Compound(56599871)]\n",
      "Lonijaposide L [Compound(56599872)]\n",
      "Lonijaposide M [Compound(56599874)]\n",
      "Lonijaposide N [Compound(56600069)]\n",
      "Lonijaposide O []\n",
      "Lonijaposide P []\n",
      "Lonijaposide Q []\n",
      "Lonijaposide R []\n",
      "Lonijaposide S []\n",
      "Lonijaposide T []\n",
      "Lonijaposide U []\n",
      "Lonijaposide V []\n",
      "Lonijaposide W []\n",
      "Lonijapospiroside A []\n",
      "L-Phenylalaninosecologanin B []\n",
      "L-Phenylalaninosecologanin C []\n",
      "Deoxyoprolinoyiloganin A []\n",
      "Lonicerjaponin A []\n",
      "Lonicerjaponin B []\n",
      "Two Nicotinic Acid Derivatives []\n",
      "Palmitic Acid [Compound(985)]\n",
      "Myristic Acid [Compound(11005)]\n",
      "Protocatechuic Acid [Compound(72)]\n",
      "Caffeic Acid [Compound(689043)]\n",
      "Ferulic Acid [Compound(445858)]\n",
      "2(E)-3-Ethoxyacrylic Acid []\n",
      "Caffeic Acid Methyl Ester [Compound(689075)]\n",
      "3-(3,4-Dihydroxyphenyl) Propionic Acid [Compound(348154)]\n",
      "4-Hydroxycinnamic Acid [Compound(637542)]\n",
      "4-Hydroxycinnamic Acid Methyl Ester [Compound(5319562)]\n",
      "Chlorogenic Acid [Compound(1794427)]\n",
      "3-Caffeoylquinic Acid Methyl Ester []\n",
      "4-Caffeoylquinic Acid [Compound(9798666)]\n",
      "5-Caffeoylquinic Acid [Compound(5280633)]\n",
      "3,4-Dicaffeoylquinic Acid [Compound(5281780)]\n",
      "4,5-Dicaffeoylquinic Acid [Compound(6474309), Compound(5281780), Compound(460890), Compound(153946), Compound(3802778), Compound(10324242), Compound(102170141), Compound(137704517)]\n",
      "3,5-Dicaffeoylquinic Acid [Compound(6474310)]\n",
      "3,5-Dicaffeoylquinic Acid Methyl Ester [Compound(10075681)]\n",
      "3,5-Dicaffeoylquinic Acid Butyl Ester []\n",
      "Vanillic Acid 4-O-beta-D-6-O-Benzoylglucopyranoside []\n"
     ]
    }
   ],
   "source": [
    "print(len(data.items()))\n",
    "for name, compounds in data.items():\n",
    "    print(name, compounds)\n"
   ]
  },
  {
   "cell_type": "markdown",
   "id": "bf187a95-2203-49e0-b3de-a549aca76fed",
   "metadata": {},
   "source": [
    "### The following compounds, we could not find them in pubchem. "
   ]
  },
  {
   "cell_type": "code",
   "execution_count": 80,
   "id": "f5e232d4-518a-44ba-bcf9-f661ac885522",
   "metadata": {
    "tags": []
   },
   "outputs": [
    {
     "data": {
      "text/plain": [
       "[\"5-Hydroxy-7,3',4',5'-tetramethoxyflavone\",\n",
       " \"3'-Methoxyluteolin\",\n",
       " \"5,3'-Dimethoxyluteolin\",\n",
       " 'Luteolin-7-O-beta-D-glucoside',\n",
       " 'Luteolin-7-O-beta-D-galactoside',\n",
       " \"Luteolin-3'-O-L-rhamnoside\",\n",
       " 'Jaceosidin-7-O-neohesperidoside',\n",
       " 'Kaempferol-3-O-beta-D-glucoside',\n",
       " 'Apigenin-7-O-α-L-rhamnoside',\n",
       " 'Quercetin-7-O-beta-D-glucoside',\n",
       " 'Medioresinol-7-O-beta-D-glucoside',\n",
       " 'Medioresinol-7-O-neohesperidoside',\n",
       " 'Flavoyadorinin B',\n",
       " '7-Epiloganin',\n",
       " 'Ketologanin',\n",
       " '7-O-Ethyl Sweroside',\n",
       " 'Secologanoside-7-Methyl Ester',\n",
       " '7α-Morroniside',\n",
       " '7beta-Morroniside',\n",
       " 'Dehydromorroniside',\n",
       " 'Secoxyloganin 7-Butyl Ester',\n",
       " 'Secologanoside A',\n",
       " 'Adinoside A',\n",
       " 'Stryspinoside',\n",
       " 'Loniceracetalide B',\n",
       " 'L-Phenylalaninosecologanin',\n",
       " '7-O-(4-beta-D-Glucopyranosyloxy-3-Methoxy Benzoyl) Secologanolic Acid',\n",
       " \"6'-O-(7α-Hydroxyswerosyloxy) Loganin\",\n",
       " 'Lonijaposide O',\n",
       " 'Lonijaposide P',\n",
       " 'Lonijaposide Q',\n",
       " 'Lonijaposide R',\n",
       " 'Lonijaposide S',\n",
       " 'Lonijaposide T',\n",
       " 'Lonijaposide U',\n",
       " 'Lonijaposide V',\n",
       " 'Lonijaposide W',\n",
       " 'Lonijapospiroside A',\n",
       " 'L-Phenylalaninosecologanin B',\n",
       " 'L-Phenylalaninosecologanin C',\n",
       " 'Deoxyoprolinoyiloganin A',\n",
       " 'Lonicerjaponin A',\n",
       " 'Lonicerjaponin B',\n",
       " 'Two Nicotinic Acid Derivatives',\n",
       " '2(E)-3-Ethoxyacrylic Acid',\n",
       " '3-Caffeoylquinic Acid Methyl Ester',\n",
       " '3,5-Dicaffeoylquinic Acid Butyl Ester',\n",
       " 'Vanillic Acid 4-O-beta-D-6-O-Benzoylglucopyranoside']"
      ]
     },
     "execution_count": 80,
     "metadata": {},
     "output_type": "execute_result"
    }
   ],
   "source": [
    "[key for key, compounds in data.items() if len(compounds)==0]\n"
   ]
  },
  {
   "cell_type": "markdown",
   "id": "980b2577-fbb2-4914-8770-18ef8d371f94",
   "metadata": {
    "tags": []
   },
   "source": [
    "## Now get the acne medicines"
   ]
  },
  {
   "cell_type": "code",
   "execution_count": 92,
   "id": "8da1001f-020a-4bab-b228-43aea729d16e",
   "metadata": {
    "tags": []
   },
   "outputs": [
    {
     "data": {
      "text/plain": [
       "{'Fault': {'Code': 'PUGREST.BadRequest',\n",
       "  'Message': 'Assay target input type must be gi, accession, proteinname, geneid, or genesymbol'}}"
      ]
     },
     "execution_count": 92,
     "metadata": {},
     "output_type": "execute_result"
    }
   ],
   "source": [
    "import requests\n",
    "import json\n",
    "\n",
    "# Define the search term for acne-related bioassays\n",
    "search_term = \"acne\"\n",
    "\n",
    "# URL for searching bioassays related to acne\n",
    "url = f\"https://pubchem.ncbi.nlm.nih.gov/rest/pug/assay/target/description/{search_term}/JSON\"\n",
    "\n",
    "# Make the request to PubChem\n",
    "response = requests.get(url)\n",
    "data = response.json()\n",
    "\n",
    "data\n"
   ]
  },
  {
   "cell_type": "code",
   "execution_count": 90,
   "id": "0b8b520e-d3a4-428b-b4ee-87ffdd1352cd",
   "metadata": {
    "tags": []
   },
   "outputs": [
    {
     "data": {
      "text/plain": [
       "{'Fault': {'Code': 'PUGREST.BadRequest',\n",
       "  'Message': 'Invalid identifier namespace',\n",
       "  'Details': ['Expected identifier namespace: aid, listkey, type, sourceall, target, or activity']}}"
      ]
     },
     "execution_count": 90,
     "metadata": {},
     "output_type": "execute_result"
    }
   ],
   "source": [
    "import requests\n",
    "\n",
    "# Define the search term\n",
    "search_term = \"acne\"\n",
    "\n",
    "# Search for bioassays related to acne\n",
    "url = f\"https://pubchem.ncbi.nlm.nih.gov/rest/pug/assay/description/{search_term}/JSON\"\n",
    "response = requests.get(url)\n",
    "data = response.json()\n",
    "data"
   ]
  },
  {
   "cell_type": "code",
   "execution_count": 54,
   "id": "2ec7acb6-4c2c-4610-bd63-8ee24b2f4386",
   "metadata": {
    "tags": []
   },
   "outputs": [
    {
     "name": "stdout",
     "output_type": "stream",
     "text": [
      "5-Hydroxy-7,4-dimethoxyflavone []\n",
      "5-Hydroxy-7,3,4-trimethoxyflavone []\n",
      "5-Hydroxy-7,3,4,5-tetramethoxyflavone []\n",
      "3,4,5,5,7-Pentamethoxyflavone []\n",
      "3-Methoxyluteolin [Compound(5280681)]\n",
      "5,3-Dimethoxyluteolin []\n",
      "Luteolin-7-O-β-D-glucoside []\n",
      "Luteolin-7-O-β-D-galactoside []\n",
      "Luteolin-5-O-β-D-glucoside []\n",
      "Luteolin-3-O-L-rhamnoside []\n",
      "Jaceosidin-7-O-neohesperidoside []\n",
      "Kaempferol-3-O-β-D-glucoside []\n",
      "Apigenin-7-O-α-L-rhamnoside []\n",
      "Quercetin-3-O-β-D-glucoside []\n",
      "Quercetin-7-O-β-D-glucoside []\n",
      "Medioresinol-7-O-β-D-glucoside []\n",
      "Medioresinol-7-O-neohesperidoside []\n",
      "Flavo-yadorinin-B []\n",
      "7-Epiloganin []\n",
      "Ketologanin []\n",
      "7-O-Ethyl Sweroside []\n",
      "Secologanoside-7-Methyl Ester []\n",
      "7α-Morroniside []\n",
      "7β-Morroniside []\n",
      "Dehydromorroniside []\n",
      "Secoxyloganin 7-Butyl Ester []\n",
      "Secologanoside A []\n",
      "Adinoside A []\n",
      "Stryspinoside []\n",
      "Loniceracetalide B []\n",
      "L-Phenylalaninosecologanin []\n",
      "7-O-(4-β-D-Glucopyranosyloxy-3-Methoxy Benzoyl) Secologanolic Acid []\n",
      "6-O-(7α-Hydroxyswerosyloxy) Loganin []\n",
      "Lonijaposide O []\n",
      "Lonijaposide P []\n",
      "Lonijaposide Q []\n",
      "Lonijaposide R []\n",
      "Lonijaposide S []\n",
      "Lonijaposide T []\n",
      "Lonijaposide U []\n",
      "Lonijaposide V []\n",
      "Lonijaposide W []\n",
      "Lonijapospiroside A []\n",
      "L-Phenylalaninosecologanin B []\n",
      "L-Phenylalaninosecologanin C []\n",
      "Deoxyoprolinoyiloganin A []\n",
      "Lonicerjaponin A []\n",
      "Lonicerjaponin B []\n",
      "Two Nicotinic Acid Derivatives []\n",
      "2(E)-3-Ethoxyacrylic Acid []\n",
      "3-Caffeoylquinic Acid Methyl Ester []\n",
      "3,5-Dicaffeoylquinic Acid Butyl Ester []\n",
      "Vanillic Acid 4-O-β-D-6-O-Benzoylglucopyranoside []\n"
     ]
    }
   ],
   "source": [
    "for name, compounds in data_batch_2.items():\n",
    "    print(name, compounds)\n",
    "    # for compound in compounds:\n",
    "    #     print(f\"IUPAC Name: {compound.iupac_name}\")\n",
    "    #     print(f\"Molecular Formula: {compound.molecular_formula}\")\n",
    "    #     print(f\"Molecular Weight: {compound.molecular_weight}\")\n",
    "    #     print(f\"Canonical SMILES: {compound.canonical_smiles}\")\n",
    "    #     print(f\"Isomeric SMILES: {compound.isomeric_smiles}\")\n",
    "    #     print(f\"InChI: {compound.inchi}\")\n",
    "    #     print(f\"InChI Key: {compound.inchikey}\")\n",
    "    #     print(f\"CID: {compound.cid}\")\n",
    "    #     print(\"-\" * 30)\n"
   ]
  },
  {
   "cell_type": "code",
   "execution_count": 71,
   "id": "29a828e1-1929-4d1e-92d8-030fd79ef129",
   "metadata": {
    "tags": []
   },
   "outputs": [],
   "source": [
    "import pubchempy as pcp\n",
    "\n",
    "# Search for a compound by name\n",
    "chemical_name = \"Apigenin-7-O-alpha-L-rhamnoside\" #'aspirin'\n",
    "\n",
    "compounds = pcp.get_compounds(chemical_name, 'name')\n",
    "\n",
    "# Print information about the found compounds\n",
    "for compound in compounds:\n",
    "    print(f\"IUPAC Name: {compound.iupac_name}\")\n",
    "    print(f\"Molecular Formula: {compound.molecular_formula}\")\n",
    "    print(f\"Molecular Weight: {compound.molecular_weight}\")\n",
    "    print(f\"Canonical SMILES: {compound.canonical_smiles}\")\n",
    "    print(f\"Isomeric SMILES: {compound.isomeric_smiles}\")\n",
    "    print(f\"InChI: {compound.inchi}\")\n",
    "    print(f\"InChI Key: {compound.inchikey}\")\n",
    "    print(f\"CID: {compound.cid}\")\n",
    "    print(\"-\" * 30)"
   ]
  },
  {
   "cell_type": "code",
   "execution_count": 59,
   "id": "752aac17-5280-491b-b03f-c21e97cd3ce1",
   "metadata": {
    "tags": []
   },
   "outputs": [
    {
     "data": {
      "text/plain": [
       "['5,7-Dihydroxyflavone',\n",
       " \"5-Hydroxy-7,4'-dimethoxyflavone\",\n",
       " \"5-Hydroxy-7,3',4'-trimethoxyflavone\",\n",
       " \"5-Hydroxy-7,3',4',5'-tetramethoxyflavone\",\n",
       " \"3',4',5',5,7-Pentamethoxyflavone\",\n",
       " 'Luteolin',\n",
       " \"3'-Methoxyluteolin\",\n",
       " \"5,3'-Dimethoxyluteolin\",\n",
       " 'Luteolin-7-O-β-D-glucoside',\n",
       " 'Luteolin-7-O-β-D-galactoside',\n",
       " 'Luteolin-5-O-β-D-glucoside',\n",
       " \"Luteolin-3'-O-L-rhamnoside\",\n",
       " 'Jaceosidin',\n",
       " 'Jaceosidin-7-O-neohesperidoside',\n",
       " 'Lonicerin',\n",
       " 'Kaempferol-3-O-β-D-glucoside',\n",
       " 'Apigenin-7-O-α-L-rhamnoside',\n",
       " 'Quercetin',\n",
       " 'Quercetin-3-O-β-D-glucoside',\n",
       " 'Quercetin-7-O-β-D-glucoside',\n",
       " 'Hyperoside',\n",
       " 'Medioresinol-7-O-β-D-glucoside',\n",
       " 'Medioresinol-7-O-neohesperidoside',\n",
       " 'Flavo-yadorinin-B',\n",
       " 'Rhoifolin',\n",
       " 'Rutin',\n",
       " 'Loganin',\n",
       " '7-Epiloganin',\n",
       " '8-Epiloganin',\n",
       " 'Loganic Acid',\n",
       " 'Ketologanin',\n",
       " 'Secologanin',\n",
       " 'Secologanin Dimethyl Acetal',\n",
       " 'Sweroside',\n",
       " '7-O-Ethyl Sweroside',\n",
       " 'Secologanoside-7-Methyl Ester',\n",
       " 'Kingiside',\n",
       " '7α-Morroniside',\n",
       " '7β-Morroniside',\n",
       " 'Dehydromorroniside',\n",
       " 'Vogeloside',\n",
       " 'Epi-vogeloside',\n",
       " 'Secoxyloganin',\n",
       " 'Secoxyloganin 7-Butyl Ester',\n",
       " 'Secologanic Acid',\n",
       " 'Secologanoside',\n",
       " 'Secologanoside A',\n",
       " 'Dimethyl Secologanoside',\n",
       " 'Adinoside A',\n",
       " 'Stryspinoside',\n",
       " 'Loniceracetalide A',\n",
       " 'Loniceracetalide B',\n",
       " 'Loniphenyruviridoside A',\n",
       " 'Loniphenyruviridoside B',\n",
       " 'Loniphenyruviridoside C',\n",
       " 'Loniphenyruviridoside D',\n",
       " 'L-Phenylalaninosecologanin',\n",
       " '7-O-(4-β-D-Glucopyranosyloxy-3-Methoxy Benzoyl) Secologanolic Acid',\n",
       " \"6'-O-(7α-Hydroxyswerosyloxy) Loganin\",\n",
       " '(Z)-Aldosecologanin',\n",
       " '(E)-Aldosecologanin',\n",
       " 'Centauroside',\n",
       " 'Lonijaposide A',\n",
       " 'Lonijaposide B',\n",
       " 'Lonijaposide C',\n",
       " 'Lonijaposide D',\n",
       " 'Lonijaposide E',\n",
       " 'Lonijaposide F',\n",
       " 'Lonijaposide G',\n",
       " 'Lonijaposide H',\n",
       " 'Lonijaposide I',\n",
       " 'Lonijaposide J',\n",
       " 'Lonijaposide K',\n",
       " 'Lonijaposide L',\n",
       " 'Lonijaposide M',\n",
       " 'Lonijaposide N',\n",
       " 'Lonijaposide O',\n",
       " 'Lonijaposide P',\n",
       " 'Lonijaposide Q',\n",
       " 'Lonijaposide R',\n",
       " 'Lonijaposide S',\n",
       " 'Lonijaposide T',\n",
       " 'Lonijaposide U',\n",
       " 'Lonijaposide V',\n",
       " 'Lonijaposide W',\n",
       " 'Lonijapospiroside A',\n",
       " 'L-Phenylalaninosecologanin B',\n",
       " 'L-Phenylalaninosecologanin C',\n",
       " 'Deoxyoprolinoyiloganin A',\n",
       " 'Lonicerjaponin A',\n",
       " 'Lonicerjaponin B',\n",
       " 'Two Nicotinic Acid Derivatives',\n",
       " 'Palmitic Acid',\n",
       " 'Myristic Acid',\n",
       " 'Protocatechuic Acid',\n",
       " 'Caffeic Acid',\n",
       " 'Ferulic Acid',\n",
       " '2(E)-3-Ethoxyacrylic Acid',\n",
       " 'Caffeic Acid Methyl Ester',\n",
       " '3-(3,4-Dihydroxyphenyl) Propionic Acid',\n",
       " '4-Hydroxycinnamic Acid',\n",
       " '4-Hydroxycinnamic Acid Methyl Ester',\n",
       " 'Chlorogenic Acid',\n",
       " '3-Caffeoylquinic Acid Methyl Ester',\n",
       " '4-Caffeoylquinic Acid',\n",
       " '5-Caffeoylquinic Acid',\n",
       " '3,4-Dicaffeoylquinic Acid',\n",
       " '4,5-Dicaffeoylquinic Acid',\n",
       " '3,5-Dicaffeoylquinic Acid',\n",
       " '3,5-Dicaffeoylquinic Acid Methyl Ester',\n",
       " '3,5-Dicaffeoylquinic Acid Butyl Ester',\n",
       " 'Vanillic Acid 4-O-β-D-6-O-Benzoylglucopyranoside']"
      ]
     },
     "execution_count": 59,
     "metadata": {},
     "output_type": "execute_result"
    }
   ],
   "source": [
    "lines"
   ]
  },
  {
   "cell_type": "code",
   "execution_count": null,
   "id": "86743771-8659-4674-a987-84bdb2487312",
   "metadata": {},
   "outputs": [],
   "source": [
    "from rdkit import Chem\n",
    "from rdkit.Chem import Descriptors, MACCSkeys\n",
    "from sklearn.ensemble import RandomForestClassifier\n",
    "from sklearn.model_selection import train_test_split, cross_val_score\n",
    "import numpy as np\n",
    "import pandas as np\n",
    "\n",
    "# Sample SMILES data\n",
    "smiles_list = [\"CCO\", \"CC(=O)O\", \"CCC\", \"CCN\"]\n",
    "\n",
    "# Convert SMILES to RDKit molecule objects\n",
    "molecules = [Chem.MolFromSmiles(smiles) for smiles in smiles_list]\n",
    "\n",
    "# Calculate molecular descriptors\n",
    "def calculate_descriptors(mol):\n",
    "    descriptors = {\n",
    "        'MolWt': Descriptors.MolWt(mol),\n",
    "        'LogP': Descriptors.MolLogP(mol),\n",
    "        'NumHDonors': Descriptors.NumHDonors(mol),\n",
    "        'NumHAcceptors': Descriptors.NumHAcceptors(mol)\n",
    "    }\n",
    "    return descriptors\n",
    "\n",
    "descriptor_list = [calculate_descriptors(mol) for mol in molecules]\n",
    "\n",
    "# Create a DataFrame for features\n",
    "df = pd.DataFrame(descriptor_list)\n",
    "\n",
    "# Example labels (binary classification)\n",
    "labels = [0, 1, 0, 1]\n",
    "\n",
    "# Split data into training and test sets\n",
    "X_train, X_test, y_train, y_test = train_test_split(df, labels, test_size=0.2, random_state=42)\n",
    "\n",
    "# Train a Random Forest classifier\n",
    "model = RandomForestClassifier(n_estimators=100, random_state=42)\n",
    "model.fit(X_train, y_train)\n",
    "\n",
    "# Evaluate model using cross-validation\n",
    "scores = cross_val_score(model, X_test, y_test, cv=5)\n",
    "print(\"Model Accuracy: \", np.mean(scores))"
   ]
  }
 ],
 "metadata": {
  "kernelspec": {
   "display_name": "Python 3 (ipykernel)",
   "language": "python",
   "name": "python3"
  },
  "language_info": {
   "codemirror_mode": {
    "name": "ipython",
    "version": 3
   },
   "file_extension": ".py",
   "mimetype": "text/x-python",
   "name": "python",
   "nbconvert_exporter": "python",
   "pygments_lexer": "ipython3",
   "version": "3.11.5"
  }
 },
 "nbformat": 4,
 "nbformat_minor": 5
}
