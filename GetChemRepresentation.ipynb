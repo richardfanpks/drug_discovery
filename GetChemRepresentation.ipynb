{
 "cells": [
  {
   "cell_type": "markdown",
   "id": "3a5ed1f7-ee85-4d9c-a3d7-96c92bb6122b",
   "metadata": {},
   "source": [
    "# Installed Python libraries"
   ]
  },
  {
   "cell_type": "code",
   "execution_count": 360,
   "id": "14734fee-3f6f-4061-a7be-7b6c89cda723",
   "metadata": {
    "tags": []
   },
   "outputs": [
    {
     "name": "stdout",
     "output_type": "stream",
     "text": [
      "Requirement already satisfied: pubchempy in /opt/homebrew/lib/python3.11/site-packages (1.0.4)\n",
      "Requirement already satisfied: rdkit in /opt/homebrew/lib/python3.11/site-packages (2023.9.6)\n",
      "Requirement already satisfied: numpy in /opt/homebrew/lib/python3.11/site-packages (from rdkit) (1.24.2)\n",
      "Requirement already satisfied: Pillow in /opt/homebrew/lib/python3.11/site-packages (from rdkit) (9.4.0)\n",
      "Requirement already satisfied: pandas in /opt/homebrew/lib/python3.11/site-packages (2.2.2)\n",
      "Requirement already satisfied: numpy>=1.23.2 in /opt/homebrew/lib/python3.11/site-packages (from pandas) (1.24.2)\n",
      "Requirement already satisfied: python-dateutil>=2.8.2 in /opt/homebrew/lib/python3.11/site-packages (from pandas) (2.8.2)\n",
      "Requirement already satisfied: pytz>=2020.1 in /opt/homebrew/lib/python3.11/site-packages (from pandas) (2024.1)\n",
      "Requirement already satisfied: tzdata>=2022.7 in /opt/homebrew/lib/python3.11/site-packages (from pandas) (2024.1)\n",
      "Requirement already satisfied: six>=1.5 in /opt/homebrew/lib/python3.11/site-packages (from python-dateutil>=2.8.2->pandas) (1.16.0)\n",
      "Requirement already satisfied: scikit-learn in /opt/homebrew/lib/python3.11/site-packages (1.5.0)\n",
      "Requirement already satisfied: numpy>=1.19.5 in /opt/homebrew/lib/python3.11/site-packages (from scikit-learn) (1.24.2)\n",
      "Requirement already satisfied: scipy>=1.6.0 in /opt/homebrew/lib/python3.11/site-packages (from scikit-learn) (1.13.1)\n",
      "Requirement already satisfied: joblib>=1.2.0 in /opt/homebrew/lib/python3.11/site-packages (from scikit-learn) (1.4.2)\n",
      "Requirement already satisfied: threadpoolctl>=3.1.0 in /opt/homebrew/lib/python3.11/site-packages (from scikit-learn) (3.5.0)\n"
     ]
    }
   ],
   "source": [
    "! pip install pubchempy\n",
    "! pip install rdkit\n",
    "! pip install pandas\n",
    "! pip install scikit-learn"
   ]
  },
  {
   "cell_type": "code",
   "execution_count": 73,
   "id": "1bb6a027-2335-49b4-a106-1ef86bfac6e0",
   "metadata": {
    "tags": []
   },
   "outputs": [],
   "source": [
    "def getCompounds(names):\n",
    "    data = {}\n",
    "    for chemical_name in names:\n",
    "        compounds = pcp.get_compounds(chemical_name, 'name')\n",
    "        data[chemical_name] = compounds\n",
    "    return data\n"
   ]
  },
  {
   "cell_type": "code",
   "execution_count": 78,
   "id": "6c6b6c6f-ee62-496e-98e5-45289e1d8688",
   "metadata": {
    "tags": []
   },
   "outputs": [],
   "source": [
    "data = getCompounds(lines)"
   ]
  },
  {
   "cell_type": "markdown",
   "id": "a4dbf930-8791-44a1-acaa-02f93befbf83",
   "metadata": {},
   "source": [
    "## Save object to file. It take time to load 100 chemical data from the PubChem. So we save it locally and reuse them later"
   ]
  },
  {
   "cell_type": "code",
   "execution_count": 177,
   "id": "5c1bb92c-aeef-435a-abcc-bc0fb17f90fa",
   "metadata": {
    "tags": []
   },
   "outputs": [],
   "source": [
    "import pickle\n",
    "\n",
    "def save_object_to_disk(data, file_path):\n",
    "\n",
    "    # Open the file in binary write mode and dump the object\n",
    "    with open(file_path, 'wb') as file:\n",
    "        pickle.dump(data, file)\n",
    "\n",
    "        print(\"Object data has been serialized and saved to file.\")\n",
    "\n",
    "def load_object_from_disk(file_path):\n",
    "    # Open the file in binary read mode and load the object\n",
    "    with open(file_path, 'rb') as file:\n",
    "        data = pickle.load(file)\n",
    "        print(\"Object has been deserialized and loaded from file.\")\n",
    "        return data\n",
    "\n"
   ]
  },
  {
   "cell_type": "code",
   "execution_count": 121,
   "id": "d9c9797d-5fc5-4b7a-8651-1ada746c27fe",
   "metadata": {
    "tags": []
   },
   "outputs": [
    {
     "name": "stdout",
     "output_type": "stream",
     "text": [
      "Object data has been serialized and saved to file.\n"
     ]
    }
   ],
   "source": [
    "save_object_to_disk(data, 'data.pkl')\n"
   ]
  },
  {
   "cell_type": "code",
   "execution_count": 35,
   "id": "1df3c2b3-e4c7-4f5f-aa10-91321c6f8f97",
   "metadata": {
    "tags": []
   },
   "outputs": [
    {
     "name": "stdout",
     "output_type": "stream",
     "text": [
      "Object has been deserialized and loaded from file.\n"
     ]
    }
   ],
   "source": [
    "import pickle\n",
    "\n",
    "# File path to load the serialized object from\n",
    "file_path = 'data.pkl'\n",
    "\n",
    "# Open the file in binary read mode and load the object\n",
    "with open(file_path, 'rb') as file:\n",
    "    data = pickle.load(file)\n",
    "\n",
    "print(\"Object has been deserialized and loaded from file.\")\n"
   ]
  },
  {
   "cell_type": "code",
   "execution_count": 76,
   "id": "56e6e9d8-772c-4b13-aee8-cada3b949fcc",
   "metadata": {
    "tags": []
   },
   "outputs": [
    {
     "name": "stdout",
     "output_type": "stream",
     "text": [
      "112\n",
      "5,7-Dihydroxyflavone [Compound(5281607)]\n",
      "5-Hydroxy-7,4'-dimethoxyflavone [Compound(5281601)]\n",
      "5-Hydroxy-7,3',4'-trimethoxyflavone [Compound(5272653)]\n",
      "5-Hydroxy-7,3',4',5'-tetramethoxyflavone []\n",
      "3',4',5',5,7-Pentamethoxyflavone [Compound(493376)]\n",
      "Luteolin [Compound(5280445)]\n",
      "3'-Methoxyluteolin []\n",
      "5,3'-Dimethoxyluteolin []\n",
      "Luteolin-7-O-beta-D-glucoside []\n",
      "Luteolin-7-O-beta-D-galactoside []\n",
      "Luteolin-5-O-beta-D-glucoside [Compound(5317471)]\n",
      "Luteolin-3'-O-L-rhamnoside []\n",
      "Jaceosidin [Compound(5379096)]\n",
      "Jaceosidin-7-O-neohesperidoside []\n",
      "Lonicerin [Compound(5282152)]\n",
      "Kaempferol-3-O-beta-D-glucoside []\n",
      "Apigenin-7-O-α-L-rhamnoside []\n",
      "Quercetin [Compound(5280343)]\n",
      "Quercetin-3-O-beta-D-glucoside [Compound(25203368)]\n",
      "Quercetin-7-O-beta-D-glucoside []\n",
      "Hyperoside [Compound(5281643)]\n",
      "Medioresinol-7-O-beta-D-glucoside []\n",
      "Medioresinol-7-O-neohesperidoside []\n",
      "Flavo-yadorinin-B []\n",
      "Rhoifolin [Compound(5282150)]\n",
      "Rutin [Compound(5280805)]\n",
      "Loganin [Compound(87691)]\n",
      "7-Epiloganin []\n",
      "8-Epiloganin [Compound(10548420)]\n",
      "Loganic Acid [Compound(89640)]\n",
      "Ketologanin []\n",
      "Secologanin [Compound(161276)]\n",
      "Secologanin Dimethyl Acetal [Compound(157140)]\n",
      "Sweroside [Compound(161036)]\n",
      "7-O-Ethyl Sweroside []\n",
      "Secologanoside-7-Methyl Ester []\n",
      "Kingiside [Compound(12304884)]\n",
      "7α-Morroniside []\n",
      "7beta-Morroniside []\n",
      "Dehydromorroniside []\n",
      "Vogeloside [Compound(14192588), Compound(14192589)]\n",
      "Epi-vogeloside [Compound(14192590)]\n",
      "Secoxyloganin [Compound(162868)]\n",
      "Secoxyloganin 7-Butyl Ester []\n",
      "Secologanic Acid [Compound(71607801)]\n",
      "Secologanoside [Compound(14136854)]\n",
      "Secologanoside A []\n",
      "Dimethyl Secologanoside [Compound(14105070)]\n",
      "Adinoside A []\n",
      "Stryspinoside []\n",
      "Loniceracetalide A [Compound(637857)]\n",
      "Loniceracetalide B []\n",
      "Loniphenyruviridoside A [Compound(57395335)]\n",
      "Loniphenyruviridoside B [Compound(56598467)]\n",
      "Loniphenyruviridoside C [Compound(57398873)]\n",
      "Loniphenyruviridoside D [Compound(56598469)]\n",
      "L-Phenylalaninosecologanin []\n",
      "7-O-(4-beta-D-Glucopyranosyloxy-3-Methoxy Benzoyl) Secologanolic Acid []\n",
      "6'-O-(7α-Hydroxyswerosyloxy) Loganin []\n",
      "(Z)-Aldosecologanin [Compound(6440698)]\n",
      "(E)-Aldosecologanin [Compound(45783101), Compound(75130896), Compound(10908841), Compound(12012212), Compound(167994162)]\n",
      "Centauroside [Compound(6440698)]\n",
      "Lonijaposide A [Compound(24879109), Compound(24879108)]\n",
      "Lonijaposide B [Compound(24879111), Compound(24879110)]\n",
      "Lonijaposide C [Compound(24879107), Compound(24879106)]\n",
      "Lonijaposide D [Compound(56599664)]\n",
      "Lonijaposide E [Compound(56599666)]\n",
      "Lonijaposide F [Compound(56599668)]\n",
      "Lonijaposide G [Compound(56599669)]\n",
      "Lonijaposide H [Compound(56599868)]\n",
      "Lonijaposide I [Compound(56598336)]\n",
      "Lonijaposide J [Compound(56599869)]\n",
      "Lonijaposide K [Compound(56599871)]\n",
      "Lonijaposide L [Compound(56599872)]\n",
      "Lonijaposide M [Compound(56599874)]\n",
      "Lonijaposide N [Compound(56600069)]\n",
      "Lonijaposide O []\n",
      "Lonijaposide P []\n",
      "Lonijaposide Q []\n",
      "Lonijaposide R []\n",
      "Lonijaposide S []\n",
      "Lonijaposide T []\n",
      "Lonijaposide U []\n",
      "Lonijaposide V []\n",
      "Lonijaposide W []\n",
      "Lonijapospiroside A []\n",
      "L-Phenylalaninosecologanin B []\n",
      "L-Phenylalaninosecologanin C []\n",
      "Deoxyoprolinoyiloganin A []\n",
      "Lonicerjaponin A []\n",
      "Lonicerjaponin B []\n",
      "Two Nicotinic Acid Derivatives []\n",
      "Palmitic Acid [Compound(985)]\n",
      "Myristic Acid [Compound(11005)]\n",
      "Protocatechuic Acid [Compound(72)]\n",
      "Caffeic Acid [Compound(689043)]\n",
      "Ferulic Acid [Compound(445858)]\n",
      "2(E)-3-Ethoxyacrylic Acid []\n",
      "Caffeic Acid Methyl Ester [Compound(689075)]\n",
      "3-(3,4-Dihydroxyphenyl) Propionic Acid [Compound(348154)]\n",
      "4-Hydroxycinnamic Acid [Compound(637542)]\n",
      "4-Hydroxycinnamic Acid Methyl Ester [Compound(5319562)]\n",
      "Chlorogenic Acid [Compound(1794427)]\n",
      "3-Caffeoylquinic Acid Methyl Ester []\n",
      "4-Caffeoylquinic Acid [Compound(9798666)]\n",
      "5-Caffeoylquinic Acid [Compound(5280633)]\n",
      "3,4-Dicaffeoylquinic Acid [Compound(5281780)]\n",
      "4,5-Dicaffeoylquinic Acid [Compound(6474309), Compound(5281780), Compound(460890), Compound(153946), Compound(3802778), Compound(10324242), Compound(102170141), Compound(137704517)]\n",
      "3,5-Dicaffeoylquinic Acid [Compound(6474310)]\n",
      "3,5-Dicaffeoylquinic Acid Methyl Ester [Compound(10075681)]\n",
      "3,5-Dicaffeoylquinic Acid Butyl Ester []\n",
      "Vanillic Acid 4-O-beta-D-6-O-Benzoylglucopyranoside []\n"
     ]
    }
   ],
   "source": [
    "print(len(data.items()))\n",
    "for name, compounds in data.items():\n",
    "    print(name, compounds)\n"
   ]
  },
  {
   "cell_type": "markdown",
   "id": "bf187a95-2203-49e0-b3de-a549aca76fed",
   "metadata": {},
   "source": [
    "### The following compounds, we could not find them in pubchem. \n",
    "I plan to ignore them for now. I imagine there should be other ways to find the data, beyond pubchem."
   ]
  },
  {
   "cell_type": "code",
   "execution_count": 80,
   "id": "f5e232d4-518a-44ba-bcf9-f661ac885522",
   "metadata": {
    "tags": []
   },
   "outputs": [
    {
     "data": {
      "text/plain": [
       "[\"5-Hydroxy-7,3',4',5'-tetramethoxyflavone\",\n",
       " \"3'-Methoxyluteolin\",\n",
       " \"5,3'-Dimethoxyluteolin\",\n",
       " 'Luteolin-7-O-beta-D-glucoside',\n",
       " 'Luteolin-7-O-beta-D-galactoside',\n",
       " \"Luteolin-3'-O-L-rhamnoside\",\n",
       " 'Jaceosidin-7-O-neohesperidoside',\n",
       " 'Kaempferol-3-O-beta-D-glucoside',\n",
       " 'Apigenin-7-O-α-L-rhamnoside',\n",
       " 'Quercetin-7-O-beta-D-glucoside',\n",
       " 'Medioresinol-7-O-beta-D-glucoside',\n",
       " 'Medioresinol-7-O-neohesperidoside',\n",
       " 'Flavoyadorinin B',\n",
       " '7-Epiloganin',\n",
       " 'Ketologanin',\n",
       " '7-O-Ethyl Sweroside',\n",
       " 'Secologanoside-7-Methyl Ester',\n",
       " '7α-Morroniside',\n",
       " '7beta-Morroniside',\n",
       " 'Dehydromorroniside',\n",
       " 'Secoxyloganin 7-Butyl Ester',\n",
       " 'Secologanoside A',\n",
       " 'Adinoside A',\n",
       " 'Stryspinoside',\n",
       " 'Loniceracetalide B',\n",
       " 'L-Phenylalaninosecologanin',\n",
       " '7-O-(4-beta-D-Glucopyranosyloxy-3-Methoxy Benzoyl) Secologanolic Acid',\n",
       " \"6'-O-(7α-Hydroxyswerosyloxy) Loganin\",\n",
       " 'Lonijaposide O',\n",
       " 'Lonijaposide P',\n",
       " 'Lonijaposide Q',\n",
       " 'Lonijaposide R',\n",
       " 'Lonijaposide S',\n",
       " 'Lonijaposide T',\n",
       " 'Lonijaposide U',\n",
       " 'Lonijaposide V',\n",
       " 'Lonijaposide W',\n",
       " 'Lonijapospiroside A',\n",
       " 'L-Phenylalaninosecologanin B',\n",
       " 'L-Phenylalaninosecologanin C',\n",
       " 'Deoxyoprolinoyiloganin A',\n",
       " 'Lonicerjaponin A',\n",
       " 'Lonicerjaponin B',\n",
       " 'Two Nicotinic Acid Derivatives',\n",
       " '2(E)-3-Ethoxyacrylic Acid',\n",
       " '3-Caffeoylquinic Acid Methyl Ester',\n",
       " '3,5-Dicaffeoylquinic Acid Butyl Ester',\n",
       " 'Vanillic Acid 4-O-beta-D-6-O-Benzoylglucopyranoside']"
      ]
     },
     "execution_count": 80,
     "metadata": {},
     "output_type": "execute_result"
    }
   ],
   "source": [
    "[key for key, compounds in data.items() if len(compounds)==0]\n"
   ]
  },
  {
   "cell_type": "markdown",
   "id": "f50fe051-29a2-436e-9f44-b43a2298629a",
   "metadata": {
    "tags": []
   },
   "source": [
    "# Training Data\n",
    "\n",
    "It seems that we need to develop a \"classifier\" to answer yes/no: is the chemical helpful for acne? Yes samples: all 37 SMILES that we get from PubChem No samples: I need to randomly find some chemicals SMILES"
   ]
  },
  {
   "cell_type": "markdown",
   "id": "980b2577-fbb2-4914-8770-18ef8d371f94",
   "metadata": {
    "tags": []
   },
   "source": [
    "## Get the known acne medicines\n",
    "\n",
    "I search \"acne\" on PubChem website and found 37 medicines. PubChem allows me to download them as csv."
   ]
  },
  {
   "cell_type": "code",
   "execution_count": 306,
   "id": "8da1001f-020a-4bab-b228-43aea729d16e",
   "metadata": {
    "tags": []
   },
   "outputs": [
    {
     "name": "stdout",
     "output_type": "stream",
     "text": [
      "Headers: ['\\ufeff cid', 'cmpdname', 'cmpdsynonym', 'mw', 'mf', 'polararea', 'complexity', 'xlogp', 'heavycnt', 'hbonddonor', 'hbondacc', 'rotbonds', 'inchi', 'isosmiles', 'canonicalsmiles', 'inchikey', 'iupacname', 'exactmass', 'monoisotopicmass', 'charge', 'covalentunitcnt', 'isotopeatomcnt', 'totalatomstereocnt', 'definedatomstereocnt', 'undefinedatomstereocnt', 'totalbondstereocnt', 'definedbondstereocnt', 'undefinedbondstereocnt', 'pclidcnt', 'gpidcnt', 'gpfamilycnt', 'neighbortype', 'meshheadings', 'annothits', 'annothitcnt', 'aids', 'cidcdate', 'sidsrcname', 'depcatg', 'annotation']\n"
     ]
    },
    {
     "data": {
      "text/plain": [
       "['Dexamethasone',\n",
       " 'Chloramphenicol',\n",
       " 'Retinol',\n",
       " 'Salicylic Acid',\n",
       " 'Hydrogen Sulfide',\n",
       " 'Hydroquinone',\n",
       " 'Benzoyl Peroxide',\n",
       " 'Erythromycin',\n",
       " 'Isotretinoin',\n",
       " 'Methylprednisolone',\n",
       " 'Tretinoin',\n",
       " 'Resorcinol',\n",
       " 'Azelaic Acid',\n",
       " 'Thymol',\n",
       " 'Alpha-Tocopherol',\n",
       " 'Sulfacetamide',\n",
       " 'Bithionol',\n",
       " 'Dapsone',\n",
       " 'Eucalyptol',\n",
       " 'Fluorometholone',\n",
       " 'Clindamycin',\n",
       " 'Pyrithione Zinc',\n",
       " 'Sulfur',\n",
       " 'Adapalene',\n",
       " 'Minocycline',\n",
       " 'Aluminum Oxide',\n",
       " 'Nitric Oxide',\n",
       " 'Trifarotene',\n",
       " 'Aluminum Chloride',\n",
       " 'Clascoterone',\n",
       " 'Tioxolone',\n",
       " 'Nadifloxacin',\n",
       " 'Meclocycline',\n",
       " 'Zinc Oxide',\n",
       " 'Mesulfen',\n",
       " 'Motretinide',\n",
       " 'Sulfur iodide']"
      ]
     },
     "execution_count": 306,
     "metadata": {},
     "output_type": "execute_result"
    }
   ],
   "source": [
    "import csv\n",
    "\n",
    "def readPubChemFromDownloadedFile(file_name):\n",
    "    # Reading from a CSV file with headers\n",
    "    with open(file_name, newline='') as csvfile:\n",
    "        csvreader = csv.DictReader(csvfile)\n",
    "\n",
    "        # check the fields. Get the header names\n",
    "        headers = csvreader.fieldnames\n",
    "        print(\"Headers:\", headers) \n",
    "\n",
    "        # Check one line of data\n",
    "        # for row in csvreader:\n",
    "        #     print(row)\n",
    "        #     break\n",
    "        names = [row[\"cmpdname\"] for row in csvreader]\n",
    "\n",
    "        return names\n",
    "\n",
    "# the medicine list is downloaded from pubchem after searching \"acne\". It is stored in a csv\n",
    "acne_filename = 'PubChem_compound_text_acne.csv'\n",
    "\n",
    "pos_cpmd_names = readPubChemFromDownloadedFile(acne_filename)\n",
    "pos_cpmd_names\n"
   ]
  },
  {
   "cell_type": "code",
   "execution_count": 238,
   "id": "1aaa85a6-dfc5-44f6-a02a-f63f199aa87d",
   "metadata": {
    "tags": []
   },
   "outputs": [
    {
     "name": "stdout",
     "output_type": "stream",
     "text": [
      "Object data has been serialized and saved to file.\n"
     ]
    }
   ],
   "source": [
    "save_object_to_disk(positive_data, 'positive_data.pkl')"
   ]
  },
  {
   "cell_type": "code",
   "execution_count": 307,
   "id": "ab6b6ccd-dfa9-4931-b93d-285be57ac0d1",
   "metadata": {
    "tags": []
   },
   "outputs": [],
   "source": [
    "positive_compounds = [item for i in positive_data.items() for item in i[1]]"
   ]
  },
  {
   "cell_type": "code",
   "execution_count": 310,
   "id": "c161fbe2-203a-4e13-8971-2d7cf315d324",
   "metadata": {
    "tags": []
   },
   "outputs": [
    {
     "data": {
      "text/plain": [
       "'392.19990218'"
      ]
     },
     "execution_count": 310,
     "metadata": {},
     "output_type": "execute_result"
    }
   ],
   "source": [
    "positive_compounds[0].to_dict()[\"exact_mass\"]"
   ]
  },
  {
   "cell_type": "code",
   "execution_count": 341,
   "id": "7bca4d33-4e13-4dc7-abce-244b70b355f7",
   "metadata": {
    "tags": []
   },
   "outputs": [],
   "source": [
    "def getFeaturesFromPubChem(compound):\n",
    "    x_dict = compound.to_dict()\n",
    "    count_keys = ['atom_stereo_count', 'bond_stereo_count', 'charge', 'complexity', 'covalent_unit_count', 'defined_atom_stereo_count', 'defined_bond_stereo_count', \n",
    "              'exact_mass', 'h_bond_acceptor_count', 'h_bond_donor_count', \n",
    "              'heavy_atom_count', \n",
    "              'isotope_atom_count', \n",
    "              'molecular_weight', 'monoisotopic_mass', \n",
    "              'rotatable_bond_count', 'tpsa', 'undefined_atom_stereo_count', 'undefined_bond_stereo_count', \n",
    "              'volume_3d', 'xlogp']\n",
    "    subset_dict = {key: x_dict[key] for key in count_keys}\n",
    "    #print(subset_dict[\"exact_mass\"])\n",
    "\n",
    "    return subset_dict\n",
    "    "
   ]
  },
  {
   "cell_type": "code",
   "execution_count": 339,
   "id": "2a14abb5-ac16-46c9-88d2-d60049915c14",
   "metadata": {
    "tags": []
   },
   "outputs": [],
   "source": [
    "from rdkit import Chem\n",
    "from rdkit.ML.Descriptors import MoleculeDescriptors\n",
    "from rdkit.Chem import Descriptors\n",
    "\n",
    "\n",
    "from rdkit import Chem\n",
    "from rdkit.ML.Descriptors import MoleculeDescriptors\n",
    "from rdkit.Chem import Descriptors\n",
    "\n",
    "DESCRIPTOR_NAMES = [desc_name[0] for desc_name in Descriptors._descList]\n",
    "\n",
    "def getRdkitMoleculeFromPubChemCompound(compound):\n",
    "    return Chem.MolFromInchi(compound.inchi) \n",
    "\n",
    "def getFeaturesFromChem(molelcule, descriptor_names=DESCRIPTOR_NAMES):\n",
    "    calculator = MoleculeDescriptors.MolecularDescriptorCalculator(descriptor_names)\n",
    "    descriptors = calculator.CalcDescriptors(molelcule)\n",
    "\n",
    "    descriptor_dict = dict(zip(DESCRIPTOR_NAMES, descriptors))\n",
    "\n",
    "    return descriptor_dict\n",
    "\n",
    "def getFeaturesFromRdkit(compound, descriptor_names=DESCRIPTOR_NAMES):\n",
    "    molecule = getRdkitMoleculeFromPubChemCompound(compound)\n",
    "    \n",
    "    calculator = MoleculeDescriptors.MolecularDescriptorCalculator(descriptor_names)\n",
    "    descriptors = calculator.CalcDescriptors(molecule)\n",
    "\n",
    "    descriptor_dict = dict(zip(descriptor_names, descriptors))\n",
    "    return descriptor_dict\n",
    "\n",
    "def getFeatures(compound):\n",
    "    dict_1 = getFeaturesFromPubChem(compound);\n",
    "    dict_2 = getFeaturesFromRdkit(compound, DESCRIPTOR_NAMES)\n",
    "    return dict_1 | dict_2\n"
   ]
  },
  {
   "cell_type": "code",
   "execution_count": 342,
   "id": "ed73510e-2504-4d5f-964c-c7901f3d87d1",
   "metadata": {
    "tags": []
   },
   "outputs": [
    {
     "name": "stdout",
     "output_type": "stream",
     "text": [
      "230\n"
     ]
    },
    {
     "data": {
      "text/plain": [
       "{'atom_stereo_count': 2,\n",
       " 'bond_stereo_count': 0,\n",
       " 'charge': 0,\n",
       " 'complexity': 342,\n",
       " 'covalent_unit_count': 1,\n",
       " 'defined_atom_stereo_count': 2,\n",
       " 'defined_bond_stereo_count': 0,\n",
       " 'exact_mass': '322.0123269',\n",
       " 'h_bond_acceptor_count': 5,\n",
       " 'h_bond_donor_count': 3,\n",
       " 'heavy_atom_count': 20,\n",
       " 'isotope_atom_count': 0,\n",
       " 'molecular_weight': '323.13',\n",
       " 'monoisotopic_mass': '322.0123269',\n",
       " 'rotatable_bond_count': 5,\n",
       " 'tpsa': 115,\n",
       " 'undefined_atom_stereo_count': 0,\n",
       " 'undefined_bond_stereo_count': 0,\n",
       " 'volume_3d': None,\n",
       " 'xlogp': 1.1,\n",
       " 'MaxAbsEStateIndex': 10.511390825384332,\n",
       " 'MaxEStateIndex': 10.511390825384332,\n",
       " 'MinAbsEStateIndex': 0.13015983245149898,\n",
       " 'MinEStateIndex': -1.2702678003146979,\n",
       " 'qed': 0.24239102318486783,\n",
       " 'SPS': 15.15,\n",
       " 'MolWt': 323.13200000000006,\n",
       " 'HeavyAtomMolWt': 311.03600000000006,\n",
       " 'ExactMolWt': 322.0123268439999,\n",
       " 'NumValenceElectrons': 110,\n",
       " 'NumRadicalElectrons': 0,\n",
       " 'MaxPartialCharge': 0.26894513311907337,\n",
       " 'MinPartialCharge': -0.4946452178785763,\n",
       " 'MaxAbsPartialCharge': 0.4946452178785763,\n",
       " 'MinAbsPartialCharge': 0.26894513311907337,\n",
       " 'FpDensityMorgan1': 1.35,\n",
       " 'FpDensityMorgan2': 1.9,\n",
       " 'FpDensityMorgan3': 2.3,\n",
       " 'BCUT2D_MWHI': 35.53916854998571,\n",
       " 'BCUT2D_MWLOW': 10.028456224159367,\n",
       " 'BCUT2D_CHGHI': 2.219990829422456,\n",
       " 'BCUT2D_CHGLO': -2.176564421995962,\n",
       " 'BCUT2D_LOGPHI': 2.221937001493054,\n",
       " 'BCUT2D_LOGPLOW': -2.237502370589128,\n",
       " 'BCUT2D_MRHI': 6.528444730811748,\n",
       " 'BCUT2D_MRLOW': -0.3844526046095225,\n",
       " 'AvgIpc': 2.4316702479283396,\n",
       " 'BalabanJ': 2.9328031878961176,\n",
       " 'BertzCT': 492.09178067086935,\n",
       " 'Chi0': 15.284092571446669,\n",
       " 'Chi0n': 10.057052169959901,\n",
       " 'Chi0v': 11.56891006199681,\n",
       " 'Chi1': 9.362279762904677,\n",
       " 'Chi1n': 5.4453291889359345,\n",
       " 'Chi1v': 6.318200749879903,\n",
       " 'Chi2n': 3.8313959835123557,\n",
       " 'Chi2v': 4.927660643058197,\n",
       " 'Chi3n': 2.4902228310752967,\n",
       " 'Chi3v': 2.8805828602547106,\n",
       " 'Chi4n': 1.4528750336853737,\n",
       " 'Chi4v': 1.565562267649176,\n",
       " 'HallKierAlpha': -1.4100000000000001,\n",
       " 'Ipc': 20854.00404623344,\n",
       " 'Kappa1': 16.64379236148467,\n",
       " 'Kappa2': 7.392954608862727,\n",
       " 'Kappa3': 4.309031435917423,\n",
       " 'LabuteASA': 123.79364561019129,\n",
       " 'PEOE_VSA1': 15.319582184522117,\n",
       " 'PEOE_VSA10': 12.145807216896262,\n",
       " 'PEOE_VSA11': 4.836269690250055,\n",
       " 'PEOE_VSA12': 5.897745344357611,\n",
       " 'PEOE_VSA13': 5.687386274683562,\n",
       " 'PEOE_VSA14': 0.0,\n",
       " 'PEOE_VSA2': 10.114318268765572,\n",
       " 'PEOE_VSA3': 4.992404732635668,\n",
       " 'PEOE_VSA4': 0.0,\n",
       " 'PEOE_VSA5': 0.0,\n",
       " 'PEOE_VSA6': 23.20187978046503,\n",
       " 'PEOE_VSA7': 17.696185628620217,\n",
       " 'PEOE_VSA8': 12.13273413692322,\n",
       " 'PEOE_VSA9': 11.530193013330589,\n",
       " 'SMR_VSA1': 20.24289323333979,\n",
       " 'SMR_VSA10': 34.787011399506206,\n",
       " 'SMR_VSA2': 0.0,\n",
       " 'SMR_VSA3': 0.0,\n",
       " 'SMR_VSA4': 4.992404732635668,\n",
       " 'SMR_VSA5': 16.98207690714632,\n",
       " 'SMR_VSA6': 6.606881964512918,\n",
       " 'SMR_VSA7': 39.94323803430901,\n",
       " 'SMR_VSA8': 0.0,\n",
       " 'SMR_VSA9': 0.0,\n",
       " 'SlogP_VSA1': 0.0,\n",
       " 'SlogP_VSA10': 5.687386274683562,\n",
       " 'SlogP_VSA11': 0.0,\n",
       " 'SlogP_VSA12': 23.20187978046503,\n",
       " 'SlogP_VSA2': 43.62563106160833,\n",
       " 'SlogP_VSA3': 0.0,\n",
       " 'SlogP_VSA4': 10.114318268765572,\n",
       " 'SlogP_VSA5': 11.6674178794453,\n",
       " 'SlogP_VSA6': 29.257873006482107,\n",
       " 'SlogP_VSA7': 0.0,\n",
       " 'SlogP_VSA8': 0.0,\n",
       " 'SlogP_VSA9': 0.0,\n",
       " 'TPSA': 116.19,\n",
       " 'EState_VSA1': 34.41001526483452,\n",
       " 'EState_VSA10': 20.327373058446984,\n",
       " 'EState_VSA11': 0.0,\n",
       " 'EState_VSA2': 5.687386274683562,\n",
       " 'EState_VSA3': 5.563451491696996,\n",
       " 'EState_VSA4': 0.0,\n",
       " 'EState_VSA5': 24.26546827384644,\n",
       " 'EState_VSA6': 0.0,\n",
       " 'EState_VSA7': 0.0,\n",
       " 'EState_VSA8': 4.992404732635668,\n",
       " 'EState_VSA9': 28.30840717530574,\n",
       " 'VSA_EState1': 0.0,\n",
       " 'VSA_EState10': 10.764015153828765,\n",
       " 'VSA_EState2': 12.269747433753116,\n",
       " 'VSA_EState3': 38.99151287188174,\n",
       " 'VSA_EState4': 0.16789099899218973,\n",
       " 'VSA_EState5': -0.6311620265390101,\n",
       " 'VSA_EState6': 3.9954556493379254,\n",
       " 'VSA_EState7': -1.268483875031494,\n",
       " 'VSA_EState8': -0.5667539840010076,\n",
       " 'VSA_EState9': 0.0,\n",
       " 'FractionCSP3': 0.36363636363636365,\n",
       " 'HeavyAtomCount': 20,\n",
       " 'NHOHCount': 3,\n",
       " 'NOCount': 7,\n",
       " 'NumAliphaticCarbocycles': 0,\n",
       " 'NumAliphaticHeterocycles': 0,\n",
       " 'NumAliphaticRings': 0,\n",
       " 'NumAromaticCarbocycles': 1,\n",
       " 'NumAromaticHeterocycles': 0,\n",
       " 'NumAromaticRings': 1,\n",
       " 'NumHAcceptors': 5,\n",
       " 'NumHDonors': 3,\n",
       " 'NumHeteroatoms': 9,\n",
       " 'NumRotatableBonds': 6,\n",
       " 'NumSaturatedCarbocycles': 0,\n",
       " 'NumSaturatedHeterocycles': 0,\n",
       " 'NumSaturatedRings': 0,\n",
       " 'RingCount': 1,\n",
       " 'MolLogP': 1.7493000000000003,\n",
       " 'MolMR': 74.48780000000001,\n",
       " 'fr_Al_COO': 0,\n",
       " 'fr_Al_OH': 3,\n",
       " 'fr_Al_OH_noTert': 3,\n",
       " 'fr_ArN': 0,\n",
       " 'fr_Ar_COO': 0,\n",
       " 'fr_Ar_N': 0,\n",
       " 'fr_Ar_NH': 0,\n",
       " 'fr_Ar_OH': 0,\n",
       " 'fr_COO': 0,\n",
       " 'fr_COO2': 0,\n",
       " 'fr_C_O': 0,\n",
       " 'fr_C_O_noCOO': 0,\n",
       " 'fr_C_S': 0,\n",
       " 'fr_HOCCN': 0,\n",
       " 'fr_Imine': 1,\n",
       " 'fr_NH0': 2,\n",
       " 'fr_NH1': 0,\n",
       " 'fr_NH2': 0,\n",
       " 'fr_N_O': 0,\n",
       " 'fr_Ndealkylation1': 0,\n",
       " 'fr_Ndealkylation2': 0,\n",
       " 'fr_Nhpyrrole': 0,\n",
       " 'fr_SH': 0,\n",
       " 'fr_aldehyde': 0,\n",
       " 'fr_alkyl_carbamate': 0,\n",
       " 'fr_alkyl_halide': 2,\n",
       " 'fr_allylic_oxid': 0,\n",
       " 'fr_amide': 0,\n",
       " 'fr_amidine': 0,\n",
       " 'fr_aniline': 0,\n",
       " 'fr_aryl_methyl': 0,\n",
       " 'fr_azide': 0,\n",
       " 'fr_azo': 0,\n",
       " 'fr_barbitur': 0,\n",
       " 'fr_benzene': 1,\n",
       " 'fr_benzodiazepine': 0,\n",
       " 'fr_bicyclic': 0,\n",
       " 'fr_diazo': 0,\n",
       " 'fr_dihydropyridine': 0,\n",
       " 'fr_epoxide': 0,\n",
       " 'fr_ester': 0,\n",
       " 'fr_ether': 0,\n",
       " 'fr_furan': 0,\n",
       " 'fr_guanido': 0,\n",
       " 'fr_halogen': 2,\n",
       " 'fr_hdrzine': 0,\n",
       " 'fr_hdrzone': 0,\n",
       " 'fr_imidazole': 0,\n",
       " 'fr_imide': 0,\n",
       " 'fr_isocyan': 0,\n",
       " 'fr_isothiocyan': 0,\n",
       " 'fr_ketone': 0,\n",
       " 'fr_ketone_Topliss': 0,\n",
       " 'fr_lactam': 0,\n",
       " 'fr_lactone': 0,\n",
       " 'fr_methoxy': 0,\n",
       " 'fr_morpholine': 0,\n",
       " 'fr_nitrile': 0,\n",
       " 'fr_nitro': 1,\n",
       " 'fr_nitro_arom': 1,\n",
       " 'fr_nitro_arom_nonortho': 1,\n",
       " 'fr_nitroso': 0,\n",
       " 'fr_oxazole': 0,\n",
       " 'fr_oxime': 0,\n",
       " 'fr_para_hydroxylation': 0,\n",
       " 'fr_phenol': 0,\n",
       " 'fr_phenol_noOrthoHbond': 0,\n",
       " 'fr_phos_acid': 0,\n",
       " 'fr_phos_ester': 0,\n",
       " 'fr_piperdine': 0,\n",
       " 'fr_piperzine': 0,\n",
       " 'fr_priamide': 0,\n",
       " 'fr_prisulfonamd': 0,\n",
       " 'fr_pyridine': 0,\n",
       " 'fr_quatN': 0,\n",
       " 'fr_sulfide': 0,\n",
       " 'fr_sulfonamd': 0,\n",
       " 'fr_sulfone': 0,\n",
       " 'fr_term_acetylene': 0,\n",
       " 'fr_tetrazole': 0,\n",
       " 'fr_thiazole': 0,\n",
       " 'fr_thiocyan': 0,\n",
       " 'fr_thiophene': 0,\n",
       " 'fr_unbrch_alkane': 0,\n",
       " 'fr_urea': 0}"
      ]
     },
     "execution_count": 342,
     "metadata": {},
     "output_type": "execute_result"
    }
   ],
   "source": [
    "feature_dict = getFeatures(positive_compounds[1])\n",
    "print(len(feature_dict))\n",
    "feature_dict"
   ]
  },
  {
   "cell_type": "code",
   "execution_count": 273,
   "id": "6720e3a4-1ed9-4414-917c-b28392fc2d83",
   "metadata": {
    "tags": []
   },
   "outputs": [
    {
     "data": {
      "text/plain": [
       "['Water',\n",
       " 'Glycerin',\n",
       " 'Petrolatum',\n",
       " 'Mineral Oil',\n",
       " 'Dimethicone',\n",
       " 'Ethanol',\n",
       " 'Lanolin',\n",
       " 'Sodium Lauryl Sulfate',\n",
       " 'Methylparaben',\n",
       " 'Propylparaben',\n",
       " 'Isopropyl Myristate',\n",
       " 'Cocoa Butter',\n",
       " 'Coconut Oil',\n",
       " 'Shea Butter',\n",
       " 'Stearic Acid',\n",
       " 'Oleic Acid',\n",
       " 'Chlorhexidine',\n",
       " 'Cyclopentasiloxane',\n",
       " 'Polyethylene Glycol',\n",
       " 'Triclosan',\n",
       " 'Benzyl Alcohol',\n",
       " 'Carbomer',\n",
       " 'Cetyl Alcohol',\n",
       " 'Cetearyl Alcohol',\n",
       " 'Propylene Glycol',\n",
       " 'Triethanolamine',\n",
       " 'Paraffin',\n",
       " 'Isopropyl Palmitate',\n",
       " 'Octyl Stearate',\n",
       " 'Butylene Glycol',\n",
       " 'Phenoxyethanol',\n",
       " 'Polysorbate 20',\n",
       " 'Polysorbate 80',\n",
       " 'Stearyl Alcohol',\n",
       " 'Myristyl Myristate',\n",
       " 'Sorbitan Oleate',\n",
       " 'Sorbitan Stearate',\n",
       " 'Lauric Acid',\n",
       " 'Caprylic/Capric Triglyceride',\n",
       " 'Beeswax',\n",
       " 'Squalane',\n",
       " 'Ceteareth-20',\n",
       " 'Sodium Chloride',\n",
       " 'PEG-40 Hydrogenated Castor Oil',\n",
       " 'Sodium Benzoate',\n",
       " 'Potassium Sorbate',\n",
       " 'Hydroxyethylcellulose',\n",
       " 'Poloxamer 407',\n",
       " 'Caprylyl Glycol',\n",
       " 'Glyceryl Stearate',\n",
       " 'Glyceryl Stearate SE',\n",
       " 'Sodium Hydroxide',\n",
       " 'Xanthan Gum',\n",
       " 'Cocamidopropyl Betaine',\n",
       " 'Phenyl Trimethicone',\n",
       " 'Hydrogenated Polyisobutene',\n",
       " 'Octyldodecanol',\n",
       " 'Hydrogenated Castor Oil',\n",
       " 'C12-15 Alkyl Benzoate',\n",
       " 'Methyl Gluceth-20',\n",
       " 'Tocopheryl Acetate',\n",
       " 'Butylparaben',\n",
       " 'Ethylparaben',\n",
       " 'PEG-100 Stearate',\n",
       " 'Benzalkonium Chloride',\n",
       " 'Cetrimonium Chloride',\n",
       " 'Steareth-20',\n",
       " 'Polyquaternium-10',\n",
       " 'Dimethiconol',\n",
       " 'Octinoxate',\n",
       " 'Octocrylene',\n",
       " 'Oxybenzone',\n",
       " 'PABA',\n",
       " 'Benzophenone-3',\n",
       " 'Homosalate',\n",
       " 'Avobenzone',\n",
       " 'Octyl Methoxycinnamate',\n",
       " 'Ensulizole',\n",
       " 'Ethylhexyl Salicylate',\n",
       " 'Ammonium Lauryl Sulfate',\n",
       " 'Magnesium Stearate',\n",
       " 'Potassium Cetyl Phosphate',\n",
       " 'PEG-8',\n",
       " 'PEG-12 Dimethicone',\n",
       " 'PEG-6 Caprylic/Capric Glycerides',\n",
       " 'Disodium EDTA',\n",
       " 'Sodium Citrate',\n",
       " 'Isobutylparaben',\n",
       " 'Ethylhexylglycerin',\n",
       " 'Carbamide',\n",
       " 'PEG-7 Glyceryl Cocoate',\n",
       " 'PEG-14M',\n",
       " 'PEG-75 Lanolin',\n",
       " 'PEG-40 Stearate',\n",
       " 'Cocamide MEA',\n",
       " 'Sodium Laurate',\n",
       " 'Potassium Laurate',\n",
       " 'Isostearyl Alcohol',\n",
       " 'Caprylyl Methicone',\n",
       " 'Sodium Methyl Cocoyl Taurate',\n",
       " 'Sodium Lauroyl Sarcosinate',\n",
       " 'C12-20 Acid PEG-8 Ester',\n",
       " 'C14-22 Alcohols',\n",
       " 'Cocamidopropyl Hydroxysultaine',\n",
       " 'Ceteareth-12',\n",
       " 'Hydroxypropyl Methylcellulose',\n",
       " 'Methylcellulose',\n",
       " 'Hydrolyzed Soy Protein',\n",
       " 'Hydrolyzed Wheat Protein',\n",
       " 'Arachidyl Glucoside',\n",
       " 'C20-22 Alkyl Phosphate',\n",
       " 'Sodium PCA',\n",
       " 'Sodium Cetearyl Sulfate',\n",
       " 'Cocamide DEA',\n",
       " 'Oleth-10',\n",
       " 'Isopropyl Lanolate',\n",
       " 'Ammonium Xylenesulfonate',\n",
       " 'Steareth-2',\n",
       " 'Steareth-21',\n",
       " 'TEA-Stearate',\n",
       " 'Polyquaternium-7',\n",
       " 'Polyquaternium-11',\n",
       " 'Polyquaternium-37',\n",
       " 'Trideceth-9',\n",
       " 'Sodium Stearoyl Glutamate',\n",
       " 'Methylisothiazolinone',\n",
       " 'Methyldibromo Glutaronitrile',\n",
       " 'Hexylene Glycol',\n",
       " 'Dipropylene Glycol',\n",
       " 'Sodium Polyacrylate',\n",
       " 'Sodium Acrylates Copolymer',\n",
       " 'Polyvinyl Alcohol',\n",
       " 'Sodium Styrene/Acrylates Copolymer',\n",
       " 'Hydroxyethyl Acrylate/Sodium Acryloyldimethyl Taurate Copolymer',\n",
       " 'Sodium Cocoyl Glycinate',\n",
       " 'Disodium Laureth Sulfosuccinate',\n",
       " 'Disodium Cocoamphodiacetate',\n",
       " 'Sodium Cocoamphoacetate',\n",
       " 'Sodium Myreth Sulfate',\n",
       " 'Ammonium Myreth Sulfate']"
      ]
     },
     "execution_count": 273,
     "metadata": {},
     "output_type": "execute_result"
    }
   ],
   "source": [
    "ineff_file_name = \"ineffective_for_acne_clean.csv\"\n",
    "\n",
    "# Open the file and read the lines into a list\n",
    "with open(ineff_file_name, 'r') as file:\n",
    "    lines = file.readlines()\n",
    "\n",
    "# Strip newline characters from each line. Also remove empty lines. Also change′ to '\n",
    "negative_names = [line.strip() for line in lines if line.strip()]\n",
    "negative_names"
   ]
  },
  {
   "cell_type": "markdown",
   "id": "d052d4d9-244d-4837-af67-af70d4b26c84",
   "metadata": {},
   "source": [
    "## Ineffective chemicals as negative training data\n"
   ]
  },
  {
   "cell_type": "code",
   "execution_count": 119,
   "id": "7a65afa7-46db-4a81-a818-367b9e959278",
   "metadata": {
    "tags": []
   },
   "outputs": [],
   "source": [
    "negative_data = getCompounds(lines)"
   ]
  },
  {
   "cell_type": "code",
   "execution_count": 122,
   "id": "4eccf5c3-e392-4a6e-8981-8cac6683dc09",
   "metadata": {
    "tags": []
   },
   "outputs": [
    {
     "name": "stdout",
     "output_type": "stream",
     "text": [
      "Object data has been serialized and saved to file.\n"
     ]
    }
   ],
   "source": [
    "save_object_to_disk(negative_data, 'negative_data.pkl')"
   ]
  },
  {
   "cell_type": "code",
   "execution_count": 178,
   "id": "94fb7be5-6cfa-4dec-840c-45c676241d26",
   "metadata": {
    "tags": []
   },
   "outputs": [],
   "source": [
    "# if previously saved, load the data from disk instead\n",
    "negative_data = load_object_from_disk('negative_data.pkl')"
   ]
  },
  {
   "cell_type": "code",
   "execution_count": 246,
   "id": "bb751e59-7da6-480d-bb49-84175bb5c164",
   "metadata": {
    "tags": []
   },
   "outputs": [],
   "source": [
    "negative_compounds = [item for i in negative_data.items() for item in i[1]]"
   ]
  },
  {
   "cell_type": "code",
   "execution_count": 274,
   "id": "1df5f69b-61c7-453e-a66e-6ddc0a07ce71",
   "metadata": {
    "tags": []
   },
   "outputs": [
    {
     "name": "stdout",
     "output_type": "stream",
     "text": [
      "230\n"
     ]
    },
    {
     "data": {
      "text/plain": [
       "{'atom_stereo_count': 0,\n",
       " 'bond_stereo_count': 0,\n",
       " 'charge': 0,\n",
       " 'complexity': 0,\n",
       " 'covalent_unit_count': 1,\n",
       " 'defined_atom_stereo_count': 0,\n",
       " 'defined_bond_stereo_count': 0,\n",
       " 'exact_mass': '18.010564683',\n",
       " 'h_bond_acceptor_count': 1,\n",
       " 'h_bond_donor_count': 1,\n",
       " 'heavy_atom_count': 1,\n",
       " 'isotope_atom_count': 0,\n",
       " 'molecular_weight': '18.015',\n",
       " 'monoisotopic_mass': '18.010564683',\n",
       " 'rotatable_bond_count': 0,\n",
       " 'tpsa': 1,\n",
       " 'undefined_atom_stereo_count': 0,\n",
       " 'undefined_bond_stereo_count': 0,\n",
       " 'volume_3d': None,\n",
       " 'xlogp': -0.5,\n",
       " 'MaxAbsEStateIndex': 0.0,\n",
       " 'MaxEStateIndex': 0.0,\n",
       " 'MinAbsEStateIndex': 0.0,\n",
       " 'MinEStateIndex': 0.0,\n",
       " 'qed': 0.3277476769246249,\n",
       " 'SPS': 0.0,\n",
       " 'MolWt': 18.015,\n",
       " 'HeavyAtomMolWt': 15.999,\n",
       " 'ExactMolWt': 18.010564684,\n",
       " 'NumValenceElectrons': 8,\n",
       " 'NumRadicalElectrons': 0,\n",
       " 'MaxPartialCharge': -0.41150952193742263,\n",
       " 'MinPartialCharge': -0.41150952193742263,\n",
       " 'MaxAbsPartialCharge': 0.41150952193742263,\n",
       " 'MinAbsPartialCharge': 0.41150952193742263,\n",
       " 'FpDensityMorgan1': 1.0,\n",
       " 'FpDensityMorgan2': 1.0,\n",
       " 'FpDensityMorgan3': 1.0,\n",
       " 'BCUT2D_MWHI': 15.999,\n",
       " 'BCUT2D_MWLOW': 15.999,\n",
       " 'BCUT2D_CHGHI': -0.41150952193742263,\n",
       " 'BCUT2D_CHGLO': -0.41150952193742263,\n",
       " 'BCUT2D_LOGPHI': -0.2893,\n",
       " 'BCUT2D_LOGPLOW': -0.2893,\n",
       " 'BCUT2D_MRHI': 0.8238,\n",
       " 'BCUT2D_MRLOW': 0.8238,\n",
       " 'AvgIpc': 0.0,\n",
       " 'BalabanJ': 0.0,\n",
       " 'BertzCT': 0,\n",
       " 'Chi0': 0,\n",
       " 'Chi0n': 0.5,\n",
       " 'Chi0v': 0.5,\n",
       " 'Chi1': 0,\n",
       " 'Chi1n': 0.0,\n",
       " 'Chi1v': 0.0,\n",
       " 'Chi2n': 0.0,\n",
       " 'Chi2v': 0.0,\n",
       " 'Chi3n': 0.0,\n",
       " 'Chi3v': 0.0,\n",
       " 'Chi4n': 0.0,\n",
       " 'Chi4v': 0.0,\n",
       " 'HallKierAlpha': -0.04,\n",
       " 'Ipc': 0.0,\n",
       " 'Kappa1': 0.9600000000000016,\n",
       " 'Kappa2': -27.040000000000028,\n",
       " 'Kappa3': -104.0400000000001,\n",
       " 'LabuteASA': 6.84923118831809,\n",
       " 'PEOE_VSA1': 5.476191835881363,\n",
       " 'PEOE_VSA10': 0.0,\n",
       " 'PEOE_VSA11': 0.0,\n",
       " 'PEOE_VSA12': 0.0,\n",
       " 'PEOE_VSA13': 0.0,\n",
       " 'PEOE_VSA14': 0.0,\n",
       " 'PEOE_VSA2': 0.0,\n",
       " 'PEOE_VSA3': 0.0,\n",
       " 'PEOE_VSA4': 0.0,\n",
       " 'PEOE_VSA5': 0.0,\n",
       " 'PEOE_VSA6': 0.0,\n",
       " 'PEOE_VSA7': 0.0,\n",
       " 'PEOE_VSA8': 0.0,\n",
       " 'PEOE_VSA9': 0.0,\n",
       " 'SMR_VSA1': 5.476191835881363,\n",
       " 'SMR_VSA10': 0.0,\n",
       " 'SMR_VSA2': 0.0,\n",
       " 'SMR_VSA3': 0.0,\n",
       " 'SMR_VSA4': 0.0,\n",
       " 'SMR_VSA5': 0.0,\n",
       " 'SMR_VSA6': 0.0,\n",
       " 'SMR_VSA7': 0.0,\n",
       " 'SMR_VSA8': 0.0,\n",
       " 'SMR_VSA9': 0.0,\n",
       " 'SlogP_VSA1': 0.0,\n",
       " 'SlogP_VSA10': 0.0,\n",
       " 'SlogP_VSA11': 0.0,\n",
       " 'SlogP_VSA12': 0.0,\n",
       " 'SlogP_VSA2': 5.476191835881363,\n",
       " 'SlogP_VSA3': 0.0,\n",
       " 'SlogP_VSA4': 0.0,\n",
       " 'SlogP_VSA5': 0.0,\n",
       " 'SlogP_VSA6': 0.0,\n",
       " 'SlogP_VSA7': 0.0,\n",
       " 'SlogP_VSA8': 0.0,\n",
       " 'SlogP_VSA9': 0.0,\n",
       " 'TPSA': 31.5,\n",
       " 'EState_VSA1': 0.0,\n",
       " 'EState_VSA10': 0.0,\n",
       " 'EState_VSA11': 0.0,\n",
       " 'EState_VSA2': 5.476191835881363,\n",
       " 'EState_VSA3': 0.0,\n",
       " 'EState_VSA4': 0.0,\n",
       " 'EState_VSA5': 0.0,\n",
       " 'EState_VSA6': 0.0,\n",
       " 'EState_VSA7': 0.0,\n",
       " 'EState_VSA8': 0.0,\n",
       " 'EState_VSA9': 0.0,\n",
       " 'VSA_EState1': 0.0,\n",
       " 'VSA_EState10': 0.0,\n",
       " 'VSA_EState2': 0.0,\n",
       " 'VSA_EState3': 0.0,\n",
       " 'VSA_EState4': 0.0,\n",
       " 'VSA_EState5': 0.0,\n",
       " 'VSA_EState6': 0.0,\n",
       " 'VSA_EState7': 0.0,\n",
       " 'VSA_EState8': 0.0,\n",
       " 'VSA_EState9': 0.0,\n",
       " 'FractionCSP3': 0.0,\n",
       " 'HeavyAtomCount': 1,\n",
       " 'NHOHCount': 2,\n",
       " 'NOCount': 1,\n",
       " 'NumAliphaticCarbocycles': 0,\n",
       " 'NumAliphaticHeterocycles': 0,\n",
       " 'NumAliphaticRings': 0,\n",
       " 'NumAromaticCarbocycles': 0,\n",
       " 'NumAromaticHeterocycles': 0,\n",
       " 'NumAromaticRings': 0,\n",
       " 'NumHAcceptors': 0,\n",
       " 'NumHDonors': 0,\n",
       " 'NumHeteroatoms': 1,\n",
       " 'NumRotatableBonds': 0,\n",
       " 'NumSaturatedCarbocycles': 0,\n",
       " 'NumSaturatedHeterocycles': 0,\n",
       " 'NumSaturatedRings': 0,\n",
       " 'RingCount': 0,\n",
       " 'MolLogP': -0.8247,\n",
       " 'MolMR': 3.6138,\n",
       " 'fr_Al_COO': 0,\n",
       " 'fr_Al_OH': 0,\n",
       " 'fr_Al_OH_noTert': 0,\n",
       " 'fr_ArN': 0,\n",
       " 'fr_Ar_COO': 0,\n",
       " 'fr_Ar_N': 0,\n",
       " 'fr_Ar_NH': 0,\n",
       " 'fr_Ar_OH': 0,\n",
       " 'fr_COO': 0,\n",
       " 'fr_COO2': 0,\n",
       " 'fr_C_O': 0,\n",
       " 'fr_C_O_noCOO': 0,\n",
       " 'fr_C_S': 0,\n",
       " 'fr_HOCCN': 0,\n",
       " 'fr_Imine': 0,\n",
       " 'fr_NH0': 0,\n",
       " 'fr_NH1': 0,\n",
       " 'fr_NH2': 0,\n",
       " 'fr_N_O': 0,\n",
       " 'fr_Ndealkylation1': 0,\n",
       " 'fr_Ndealkylation2': 0,\n",
       " 'fr_Nhpyrrole': 0,\n",
       " 'fr_SH': 0,\n",
       " 'fr_aldehyde': 0,\n",
       " 'fr_alkyl_carbamate': 0,\n",
       " 'fr_alkyl_halide': 0,\n",
       " 'fr_allylic_oxid': 0,\n",
       " 'fr_amide': 0,\n",
       " 'fr_amidine': 0,\n",
       " 'fr_aniline': 0,\n",
       " 'fr_aryl_methyl': 0,\n",
       " 'fr_azide': 0,\n",
       " 'fr_azo': 0,\n",
       " 'fr_barbitur': 0,\n",
       " 'fr_benzene': 0,\n",
       " 'fr_benzodiazepine': 0,\n",
       " 'fr_bicyclic': 0,\n",
       " 'fr_diazo': 0,\n",
       " 'fr_dihydropyridine': 0,\n",
       " 'fr_epoxide': 0,\n",
       " 'fr_ester': 0,\n",
       " 'fr_ether': 0,\n",
       " 'fr_furan': 0,\n",
       " 'fr_guanido': 0,\n",
       " 'fr_halogen': 0,\n",
       " 'fr_hdrzine': 0,\n",
       " 'fr_hdrzone': 0,\n",
       " 'fr_imidazole': 0,\n",
       " 'fr_imide': 0,\n",
       " 'fr_isocyan': 0,\n",
       " 'fr_isothiocyan': 0,\n",
       " 'fr_ketone': 0,\n",
       " 'fr_ketone_Topliss': 0,\n",
       " 'fr_lactam': 0,\n",
       " 'fr_lactone': 0,\n",
       " 'fr_methoxy': 0,\n",
       " 'fr_morpholine': 0,\n",
       " 'fr_nitrile': 0,\n",
       " 'fr_nitro': 0,\n",
       " 'fr_nitro_arom': 0,\n",
       " 'fr_nitro_arom_nonortho': 0,\n",
       " 'fr_nitroso': 0,\n",
       " 'fr_oxazole': 0,\n",
       " 'fr_oxime': 0,\n",
       " 'fr_para_hydroxylation': 0,\n",
       " 'fr_phenol': 0,\n",
       " 'fr_phenol_noOrthoHbond': 0,\n",
       " 'fr_phos_acid': 0,\n",
       " 'fr_phos_ester': 0,\n",
       " 'fr_piperdine': 0,\n",
       " 'fr_piperzine': 0,\n",
       " 'fr_priamide': 0,\n",
       " 'fr_prisulfonamd': 0,\n",
       " 'fr_pyridine': 0,\n",
       " 'fr_quatN': 0,\n",
       " 'fr_sulfide': 0,\n",
       " 'fr_sulfonamd': 0,\n",
       " 'fr_sulfone': 0,\n",
       " 'fr_term_acetylene': 0,\n",
       " 'fr_tetrazole': 0,\n",
       " 'fr_thiazole': 0,\n",
       " 'fr_thiocyan': 0,\n",
       " 'fr_thiophene': 0,\n",
       " 'fr_unbrch_alkane': 0,\n",
       " 'fr_urea': 0}"
      ]
     },
     "execution_count": 274,
     "metadata": {},
     "output_type": "execute_result"
    }
   ],
   "source": [
    "feature_dict = getFeatures(negative_compounds[0])\n",
    "print(len(feature_dict))\n",
    "feature_dict"
   ]
  },
  {
   "cell_type": "markdown",
   "id": "2ae45750-b11a-4cf3-b932-8b103f45fd88",
   "metadata": {
    "tags": []
   },
   "source": [
    "## Generate Training Data and train a model\n",
    "It seems that we need to develop a \"classifier\" to answer yes/no: is the chemical helpful for acne?\n",
    "Yes samples: all 37 SMILES that we get from PubChem \n",
    "No samples: I need to randomly find some chemicals SMILES\n",
    "\n"
   ]
  },
  {
   "cell_type": "code",
   "execution_count": 352,
   "id": "dd57e109-50a8-4c83-ae2c-178ae9fc8215",
   "metadata": {
    "tags": []
   },
   "outputs": [],
   "source": [
    "negative_features = [getFeatures(compound) for compound in negative_compounds] \n",
    "positive_features = [getFeatures(compound) for compound in positive_compounds]"
   ]
  },
  {
   "cell_type": "code",
   "execution_count": 353,
   "id": "9443a2ed-eb50-4a63-81d9-4e61fadbe385",
   "metadata": {
    "tags": []
   },
   "outputs": [],
   "source": [
    "X = negative_features + positive_features"
   ]
  },
  {
   "cell_type": "code",
   "execution_count": 354,
   "id": "26b021c1-f63f-46da-81d8-32f7be82bbc2",
   "metadata": {
    "tags": []
   },
   "outputs": [],
   "source": [
    "Y = [0] * len(negative_features) + [1] * len(positive_features)"
   ]
  },
  {
   "cell_type": "code",
   "execution_count": 355,
   "id": "410cf9fd-acaf-463a-b447-1f3e740cbf61",
   "metadata": {
    "tags": []
   },
   "outputs": [
    {
     "data": {
      "text/plain": [
       "'282.255880323'"
      ]
     },
     "execution_count": 355,
     "metadata": {},
     "output_type": "execute_result"
    }
   ],
   "source": [
    "negative_features[10][\"exact_mass\"]"
   ]
  },
  {
   "cell_type": "code",
   "execution_count": 372,
   "id": "252b0aab-dab4-4dfd-a1f7-df841c558892",
   "metadata": {
    "tags": []
   },
   "outputs": [
    {
     "name": "stdout",
     "output_type": "stream",
     "text": [
      "Model Accuracy:  0.86\n"
     ]
    }
   ],
   "source": [
    "import pandas as pd\n",
    "from sklearn.model_selection import train_test_split, cross_val_score\n",
    "from sklearn.ensemble import RandomForestClassifier\n",
    "import numpy as np\n",
    "\n",
    "# Create a DataFrame for features\n",
    "df_X = pd.DataFrame(X)\n",
    "\n",
    "X_train, X_test, y_train, y_test = train_test_split(df_X, Y, test_size=0.2, random_state=42)\n",
    "\n",
    "# Train a Random Forest classifier\n",
    "model = RandomForestClassifier(n_estimators=200, random_state=45)\n",
    "model.fit(X_train, y_train)\n",
    "\n",
    "# Evaluate model using cross-validation\n",
    "scores = cross_val_score(model, X_test, y_test, cv=5)\n",
    "print(\"Model Accuracy: \", np.mean(scores))"
   ]
  },
  {
   "cell_type": "code",
   "execution_count": null,
   "id": "fd8b0060-5358-470b-9d4f-748c59f1a607",
   "metadata": {},
   "outputs": [],
   "source": []
  },
  {
   "cell_type": "markdown",
   "id": "643cb72d-dbcc-47ea-993a-6cf46e8026c0",
   "metadata": {},
   "source": [
    "# Prediction: apply the model on compounds in the herb "
   ]
  },
  {
   "cell_type": "markdown",
   "id": "ddbffc40-7e70-4be5-a24e-35c03810c227",
   "metadata": {
    "tags": []
   },
   "source": [
    "## Find chemical data for lonicerae flos\n",
    "The chemicals are recorded in a text file.\n",
    "These are reported in a chinese medicine article about the chemicals found in the herb through some analysis."
   ]
  },
  {
   "cell_type": "code",
   "execution_count": 377,
   "id": "373ee2c1-f0b5-4486-8e78-4730ad7c6229",
   "metadata": {
    "tags": []
   },
   "outputs": [],
   "source": [
    "file_path = 'lonicerae_clean.txt'\n",
    "\n",
    "# Open the file and read the lines into a list\n",
    "with open(file_path, 'r') as file:\n",
    "    lines = file.readlines()\n",
    "\n",
    "# Strip newline characters from each line. Also remove empty lines. Also change′ to '\n",
    "lines = [line.strip().replace('′','\\'') for line in lines if line.strip()]\n",
    "lines = [line.replace('β','beta') for line in lines]\n",
    "prediction_names = lines\n",
    "\n",
    "#lines\n"
   ]
  },
  {
   "cell_type": "code",
   "execution_count": 378,
   "id": "d4db3ab8-85b2-4c8b-886f-a6fdfb612c87",
   "metadata": {
    "tags": []
   },
   "outputs": [],
   "source": [
    "prediction_data = getCompounds(prediction_names)"
   ]
  },
  {
   "cell_type": "code",
   "execution_count": 379,
   "id": "3cdba2a6-8b83-40e9-b0e9-fdb5e3484245",
   "metadata": {
    "tags": []
   },
   "outputs": [
    {
     "name": "stdout",
     "output_type": "stream",
     "text": [
      "Object data has been serialized and saved to file.\n"
     ]
    }
   ],
   "source": [
    "save_object_to_disk(data, 'prediction_data.pkl') #data.pkl"
   ]
  },
  {
   "cell_type": "code",
   "execution_count": null,
   "id": "995c1913-89f1-4269-9ef0-abba647268e4",
   "metadata": {},
   "outputs": [],
   "source": [
    "prediction_data = load_object_from_disk('prediction_data.pkl')"
   ]
  },
  {
   "cell_type": "code",
   "execution_count": 382,
   "id": "227462a6-c34d-4285-951a-79c80d704099",
   "metadata": {
    "tags": []
   },
   "outputs": [
    {
     "name": "stdout",
     "output_type": "stream",
     "text": [
      "112\n",
      "5,7-Dihydroxyflavone [Compound(5281607)]\n",
      "5-Hydroxy-7,4'-dimethoxyflavone [Compound(5281601)]\n",
      "5-Hydroxy-7,3',4'-trimethoxyflavone [Compound(5272653)]\n",
      "5-Hydroxy-7,3',4',5'-tetramethoxyflavone []\n",
      "3',4',5',5,7-Pentamethoxyflavone [Compound(493376)]\n",
      "Luteolin [Compound(5280445)]\n",
      "3'-Methoxyluteolin []\n",
      "5,3'-Dimethoxyluteolin []\n",
      "Luteolin-7-O-beta-D-glucoside []\n",
      "Luteolin-7-O-beta-D-galactoside []\n",
      "Luteolin-5-O-beta-D-glucoside [Compound(5317471)]\n",
      "Luteolin-3'-O-L-rhamnoside []\n",
      "Jaceosidin [Compound(5379096)]\n",
      "Jaceosidin-7-O-neohesperidoside []\n",
      "Lonicerin [Compound(5282152)]\n",
      "Kaempferol-3-O-beta-D-glucoside []\n",
      "Apigenin-7-O-α-L-rhamnoside []\n",
      "Quercetin [Compound(5280343)]\n",
      "Quercetin-3-O-beta-D-glucoside [Compound(25203368)]\n",
      "Quercetin-7-O-beta-D-glucoside []\n",
      "Hyperoside [Compound(5281643)]\n",
      "Medioresinol-7-O-beta-D-glucoside []\n",
      "Medioresinol-7-O-neohesperidoside []\n",
      "Flavoyadorinin B []\n",
      "Rhoifolin [Compound(5282150)]\n",
      "Rutin [Compound(5280805)]\n",
      "Loganin [Compound(87691)]\n",
      "7-Epiloganin []\n",
      "8-Epiloganin [Compound(10548420)]\n",
      "Loganic Acid [Compound(89640)]\n",
      "Ketologanin []\n",
      "Secologanin [Compound(161276)]\n",
      "Secologanin Dimethyl Acetal [Compound(157140)]\n",
      "Sweroside [Compound(161036)]\n",
      "7-O-Ethyl Sweroside []\n",
      "Secologanoside-7-Methyl Ester []\n",
      "Kingiside [Compound(12304884)]\n",
      "7α-Morroniside []\n",
      "7beta-Morroniside []\n",
      "Dehydromorroniside []\n",
      "Vogeloside [Compound(14192588), Compound(14192589)]\n",
      "Epi-vogeloside [Compound(14192590)]\n",
      "Secoxyloganin [Compound(162868)]\n",
      "Secoxyloganin 7-Butyl Ester []\n",
      "Secologanic Acid [Compound(71607801)]\n",
      "Secologanoside [Compound(14136854)]\n",
      "Secologanoside A []\n",
      "Dimethyl Secologanoside [Compound(14105070)]\n",
      "Adinoside A []\n",
      "Stryspinoside []\n",
      "Loniceracetalide A [Compound(637857)]\n",
      "Loniceracetalide B []\n",
      "Loniphenyruviridoside A [Compound(57395335)]\n",
      "Loniphenyruviridoside B [Compound(56598467)]\n",
      "Loniphenyruviridoside C [Compound(57398873)]\n",
      "Loniphenyruviridoside D [Compound(56598469)]\n",
      "L-Phenylalaninosecologanin []\n",
      "7-O-(4-beta-D-Glucopyranosyloxy-3-Methoxy Benzoyl) Secologanolic Acid []\n",
      "6'-O-(7α-Hydroxyswerosyloxy) Loganin []\n",
      "(Z)-Aldosecologanin [Compound(6440698)]\n",
      "(E)-Aldosecologanin [Compound(45783101), Compound(75130896), Compound(10908841), Compound(12012212), Compound(167994162)]\n",
      "Centauroside [Compound(6440698)]\n",
      "Lonijaposide A [Compound(24879109), Compound(24879108)]\n",
      "Lonijaposide B [Compound(24879111), Compound(24879110)]\n",
      "Lonijaposide C [Compound(24879107), Compound(24879106)]\n",
      "Lonijaposide D [Compound(56599664)]\n",
      "Lonijaposide E [Compound(56599666)]\n",
      "Lonijaposide F [Compound(56599668)]\n",
      "Lonijaposide G [Compound(56599669)]\n",
      "Lonijaposide H [Compound(56599868)]\n",
      "Lonijaposide I [Compound(56598336)]\n",
      "Lonijaposide J [Compound(56599869)]\n",
      "Lonijaposide K [Compound(56599871)]\n",
      "Lonijaposide L [Compound(56599872)]\n",
      "Lonijaposide M [Compound(56599874)]\n",
      "Lonijaposide N [Compound(56600069)]\n",
      "Lonijaposide O []\n",
      "Lonijaposide P []\n",
      "Lonijaposide Q []\n",
      "Lonijaposide R []\n",
      "Lonijaposide S []\n",
      "Lonijaposide T []\n",
      "Lonijaposide U []\n",
      "Lonijaposide V []\n",
      "Lonijaposide W []\n",
      "Lonijapospiroside A []\n",
      "L-Phenylalaninosecologanin B []\n",
      "L-Phenylalaninosecologanin C []\n",
      "Deoxyoprolinoyiloganin A []\n",
      "Lonicerjaponin A []\n",
      "Lonicerjaponin B []\n",
      "Two Nicotinic Acid Derivatives []\n",
      "Palmitic Acid [Compound(985)]\n",
      "Myristic Acid [Compound(11005)]\n",
      "Protocatechuic Acid [Compound(72)]\n",
      "Caffeic Acid [Compound(689043)]\n",
      "Ferulic Acid [Compound(445858)]\n",
      "2(E)-3-Ethoxyacrylic Acid []\n",
      "Caffeic Acid Methyl Ester [Compound(689075)]\n",
      "3-(3,4-Dihydroxyphenyl) Propionic Acid [Compound(348154)]\n",
      "4-Hydroxycinnamic Acid [Compound(637542)]\n",
      "4-Hydroxycinnamic Acid Methyl Ester [Compound(5319562)]\n",
      "Chlorogenic Acid [Compound(1794427)]\n",
      "3-Caffeoylquinic Acid Methyl Ester []\n",
      "4-Caffeoylquinic Acid [Compound(9798666)]\n",
      "5-Caffeoylquinic Acid [Compound(5280633)]\n",
      "3,4-Dicaffeoylquinic Acid [Compound(5281780)]\n",
      "4,5-Dicaffeoylquinic Acid [Compound(6474309), Compound(5281780), Compound(460890), Compound(153946), Compound(3802778), Compound(10324242), Compound(102170141), Compound(137704517)]\n",
      "3,5-Dicaffeoylquinic Acid [Compound(6474310)]\n",
      "3,5-Dicaffeoylquinic Acid Methyl Ester [Compound(10075681)]\n",
      "3,5-Dicaffeoylquinic Acid Butyl Ester []\n",
      "Vanillic Acid 4-O-beta-D-6-O-Benzoylglucopyranoside []\n"
     ]
    }
   ],
   "source": [
    "print(len(prediction_data.items()))\n",
    "for name, compounds in prediction_data.items():\n",
    "    print(name, compounds)"
   ]
  },
  {
   "cell_type": "code",
   "execution_count": 383,
   "id": "b49185c1-2cd3-4c40-8d91-cb55ee2344e2",
   "metadata": {
    "tags": []
   },
   "outputs": [],
   "source": [
    "prediction_compounds = [item for i in prediction_data.items() for item in i[1]]"
   ]
  },
  {
   "cell_type": "code",
   "execution_count": 384,
   "id": "e22c76f8-662b-4e25-b7b9-d4ca0446788c",
   "metadata": {
    "tags": []
   },
   "outputs": [],
   "source": [
    "prediction_features = [getFeatures(compound) for compound in prediction_compounds] "
   ]
  },
  {
   "cell_type": "code",
   "execution_count": 391,
   "id": "1c831c91-a69f-4431-8783-991d7da914b4",
   "metadata": {
    "tags": []
   },
   "outputs": [],
   "source": [
    "X_pred = pd.DataFrame(prediction_features)\n",
    "Y_pred = model.predict_proba(X_pred)"
   ]
  },
  {
   "cell_type": "code",
   "execution_count": 392,
   "id": "0cd2cbec-7318-4bba-95e2-86a61fb28c1d",
   "metadata": {
    "tags": []
   },
   "outputs": [
    {
     "data": {
      "text/plain": [
       "array([[0.525, 0.475],\n",
       "       [0.635, 0.365],\n",
       "       [0.66 , 0.34 ],\n",
       "       [0.505, 0.495],\n",
       "       [0.56 , 0.44 ],\n",
       "       [0.385, 0.615],\n",
       "       [0.555, 0.445],\n",
       "       [0.43 , 0.57 ],\n",
       "       [0.52 , 0.48 ],\n",
       "       [0.395, 0.605],\n",
       "       [0.375, 0.625],\n",
       "       [0.435, 0.565],\n",
       "       [0.455, 0.545],\n",
       "       [0.31 , 0.69 ],\n",
       "       [0.31 , 0.69 ],\n",
       "       [0.3  , 0.7  ],\n",
       "       [0.45 , 0.55 ],\n",
       "       [0.575, 0.425],\n",
       "       [0.41 , 0.59 ],\n",
       "       [0.375, 0.625],\n",
       "       [0.385, 0.615],\n",
       "       [0.375, 0.625],\n",
       "       [0.375, 0.625],\n",
       "       [0.46 , 0.54 ],\n",
       "       [0.405, 0.595],\n",
       "       [0.44 , 0.56 ],\n",
       "       [0.49 , 0.51 ],\n",
       "       [0.4  , 0.6  ],\n",
       "       [0.22 , 0.78 ],\n",
       "       [0.375, 0.625],\n",
       "       [0.375, 0.625],\n",
       "       [0.41 , 0.59 ],\n",
       "       [0.625, 0.375],\n",
       "       [0.62 , 0.38 ],\n",
       "       [0.635, 0.365],\n",
       "       [0.62 , 0.38 ],\n",
       "       [0.62 , 0.38 ],\n",
       "       [0.635, 0.365],\n",
       "       [0.625, 0.375],\n",
       "       [0.61 , 0.39 ],\n",
       "       [0.625, 0.375],\n",
       "       [0.615, 0.385],\n",
       "       [0.63 , 0.37 ],\n",
       "       [0.6  , 0.4  ],\n",
       "       [0.61 , 0.39 ],\n",
       "       [0.64 , 0.36 ],\n",
       "       [0.575, 0.425],\n",
       "       [0.515, 0.485],\n",
       "       [0.445, 0.555],\n",
       "       [0.66 , 0.34 ],\n",
       "       [0.49 , 0.51 ],\n",
       "       [0.64 , 0.36 ],\n",
       "       [0.505, 0.495],\n",
       "       [0.585, 0.415],\n",
       "       [0.62 , 0.38 ],\n",
       "       [0.595, 0.405],\n",
       "       [0.99 , 0.01 ],\n",
       "       [0.98 , 0.02 ],\n",
       "       [0.445, 0.555],\n",
       "       [0.45 , 0.55 ],\n",
       "       [0.665, 0.335],\n",
       "       [0.615, 0.385],\n",
       "       [0.58 , 0.42 ],\n",
       "       [0.645, 0.355],\n",
       "       [0.835, 0.165],\n",
       "       [0.43 , 0.57 ],\n",
       "       [0.435, 0.565],\n",
       "       [0.43 , 0.57 ],\n",
       "       [0.47 , 0.53 ],\n",
       "       [0.47 , 0.53 ],\n",
       "       [0.47 , 0.53 ],\n",
       "       [0.47 , 0.53 ],\n",
       "       [0.47 , 0.53 ],\n",
       "       [0.48 , 0.52 ],\n",
       "       [0.47 , 0.53 ],\n",
       "       [0.47 , 0.53 ],\n",
       "       [0.48 , 0.52 ],\n",
       "       [0.47 , 0.53 ],\n",
       "       [0.49 , 0.51 ]])"
      ]
     },
     "execution_count": 392,
     "metadata": {},
     "output_type": "execute_result"
    }
   ],
   "source": [
    "Y_pred"
   ]
  },
  {
   "cell_type": "code",
   "execution_count": 397,
   "id": "f45a12a0-7492-4a32-bc48-e6c3f5d12c0a",
   "metadata": {
    "tags": []
   },
   "outputs": [],
   "source": [
    "# zip the compounds with \n",
    "compounds_with_prediction = list(zip(prediction_compounds, Y_pred))"
   ]
  },
  {
   "cell_type": "code",
   "execution_count": 401,
   "id": "b3cd1a9b-907f-4222-8879-9026c18aa701",
   "metadata": {
    "tags": []
   },
   "outputs": [
    {
     "data": {
      "text/plain": [
       "0.475"
      ]
     },
     "execution_count": 401,
     "metadata": {},
     "output_type": "execute_result"
    }
   ],
   "source": [
    "compounds_with_prediction[0][1][1]"
   ]
  },
  {
   "cell_type": "code",
   "execution_count": 418,
   "id": "0da0d600-1927-412f-aeb6-282c83f1bb0d",
   "metadata": {
    "tags": []
   },
   "outputs": [
    {
     "data": {
      "text/plain": [
       "['CHEBI:69638',\n",
       " 'Loniphenyruviridoside A',\n",
       " 'CHEMBL1928038',\n",
       " 'Loniphenyruviridoside A, (rel)-',\n",
       " 'Q27137979']"
      ]
     },
     "execution_count": 418,
     "metadata": {},
     "output_type": "execute_result"
    }
   ],
   "source": [
    "best_compound = [c for c in compounds_with_prediction if c[1][1] == 0.78]\n",
    "best_compound[0][0].synonyms"
   ]
  },
  {
   "cell_type": "code",
   "execution_count": 423,
   "id": "37bf8740-5573-4602-9b99-a4ac060cf760",
   "metadata": {
    "tags": []
   },
   "outputs": [
    {
     "data": {
      "text/plain": [
       "'InChI=1S/C24H28O10/c25-8-17-19(26)20(27)21(28)24(33-17)34-23-18-13(15(10-32-23)22(29)30)6-12-7-16(18)31-9-14(12)11-4-2-1-3-5-11/h1-5,9-10,12-13,16-21,23-28H,6-8H2,(H,29,30)/t12-,13-,16-,17-,18+,19-,20+,21-,23+,24+/m1/s1'"
      ]
     },
     "execution_count": 423,
     "metadata": {},
     "output_type": "execute_result"
    }
   ],
   "source": [
    "best_compound[0][0].inchi"
   ]
  },
  {
   "cell_type": "code",
   "execution_count": 420,
   "id": "27317177-967b-4969-a087-6b049eb9ba7d",
   "metadata": {
    "tags": []
   },
   "outputs": [],
   "source": [
    "best_modlecule = getRdkitMoleculeFromPubChemCompound(best_compound[0][0])"
   ]
  },
  {
   "cell_type": "code",
   "execution_count": 421,
   "id": "19c6e4c0-986f-4db5-9220-2a0128a1c476",
   "metadata": {
    "tags": []
   },
   "outputs": [
    {
     "data": {
      "image/png": "[encoded data removed]",
      "text/plain": [
       "<rdkit.Chem.rdchem.Mol at 0x1575e2dc0>"
      ]
     },
     "execution_count": 421,
     "metadata": {},
     "output_type": "execute_result"
    }
   ],
   "source": [
    "best_modlecule"
   ]
  },
  {
   "cell_type": "markdown",
   "id": "77c6248c-6e62-4e00-82c1-50cc33aacfab",
   "metadata": {},
   "source": [
    "# Next Step: designing a synthetic pathway. "
   ]
  },
  {
   "cell_type": "code",
   "execution_count": 425,
   "id": "b55a85bb-5544-4c87-ac00-79c64a4a6e0f",
   "metadata": {
    "tags": []
   },
   "outputs": [
    {
     "data": {
      "image/png": "[encoded data removed]",
      "text/plain": [
       "<PIL.PngImagePlugin.PngImageFile image mode=RGB size=300x300>"
      ]
     },
     "execution_count": 425,
     "metadata": {},
     "output_type": "execute_result"
    }
   ],
   "source": [
    "from rdkit import Chem\n",
    "from rdkit.Chem import Draw\n",
    "Draw.MolToImage(best_modlecule)"
   ]
  },
  {
   "cell_type": "markdown",
   "id": "3026462c-c06f-4a7c-99dd-0245dccc9157",
   "metadata": {
    "tags": []
   },
   "source": [
    "## Understanding the structure of this molecule"
   ]
  },
  {
   "cell_type": "markdown",
   "id": "1106712d-46c7-4a2c-943a-581815cc8188",
   "metadata": {},
   "source": [
    "Mark the index on the atoms"
   ]
  },
  {
   "cell_type": "code",
   "execution_count": 472,
   "id": "76cf3a13-ef80-4bf5-a79d-aeee212c9220",
   "metadata": {
    "tags": []
   },
   "outputs": [
    {
     "data": {
      "image/png": "[encoded data removed]",
      "text/plain": [
       "<PIL.PngImagePlugin.PngImageFile image mode=RGB size=600x600>"
      ]
     },
     "execution_count": 472,
     "metadata": {},
     "output_type": "execute_result"
    }
   ],
   "source": [
    "from rdkit import Chem\n",
    "from rdkit.Chem import Draw\n",
    "\n",
    "# Provided InChI string for Loniphenyruviridoside A\n",
    "inchi_str = 'InChI=1S/C24H28O10/c25-8-17-19(26)20(27)21(28)24(33-17)34-23-18-13(15(10-32-23)22(29)30)6-12-7-16(18)31-9-14(12)11-4-2-1-3-5-11/h1-5,9-10,12-13,16-21,23-28H,6-8H2,(H,29,30)/t12-,13-,16-,17-,18+,19-,20+,21-,23+,24+/m1/s1'\n",
    "\n",
    "# Convert InChI to molecule\n",
    "molecule = Chem.MolFromInchi(inchi_str)\n",
    "\n",
    "# Add atom indices to the molecule\n",
    "for atom in molecule.GetAtoms():\n",
    "    atom.SetProp('atomNote', str(atom.GetIdx()))\n",
    "\n",
    "# Draw the molecule with atom indices labeled\n",
    "molecule_with_indices = Draw.MolToImage(molecule, size=(600, 600), kekulize=True)\n",
    "\n",
    "# Display the image with atom indices\n",
    "molecule_with_indices"
   ]
  },
  {
   "cell_type": "markdown",
   "id": "80bce9d7-cbc8-4e5f-8e96-19e0485fb362",
   "metadata": {
    "tags": []
   },
   "source": [
    "chiral centers"
   ]
  },
  {
   "cell_type": "code",
   "execution_count": 486,
   "id": "f729e9ad-edea-4640-8994-53fd21b6dc08",
   "metadata": {
    "tags": []
   },
   "outputs": [
    {
     "name": "stdout",
     "output_type": "stream",
     "text": [
      "Chiral Centers: [(11, 'R'), (12, 'S'), (15, 'R'), (16, 'R'), (17, 'S'), (18, 'S'), (19, 'S'), (20, 'R'), (22, 'S'), (23, 'S')]\n"
     ]
    },
    {
     "data": {
      "image/png": "[encoded data removed]",
      "text/plain": [
       "<PIL.PngImagePlugin.PngImageFile image mode=RGB size=300x300>"
      ]
     },
     "execution_count": 486,
     "metadata": {},
     "output_type": "execute_result"
    }
   ],
   "source": [
    "from rdkit.Chem import Draw\n",
    "chiral_centers = Chem.FindMolChiralCenters(molecule, includeUnassigned=True)\n",
    "print(\"Chiral Centers:\", chiral_centers)\n",
    "\n",
    "# Draw the molecule with chiral centers highlighted\n",
    "Draw.MolToImage(molecule, highlightAtoms=[center[0] for center in chiral_centers])\n"
   ]
  },
  {
   "cell_type": "markdown",
   "id": "a8134e4f-02c2-4d9e-991f-714ceb0c8ea6",
   "metadata": {
    "tags": []
   },
   "source": [
    "Glycoside Moiety"
   ]
  },
  {
   "cell_type": "code",
   "execution_count": 484,
   "id": "b2c379a4-2b80-4069-9cb8-f81587dc6b8c",
   "metadata": {
    "tags": []
   },
   "outputs": [
    {
     "data": {
      "image/png": "[encoded data removed]",
      "text/plain": [
       "<PIL.PngImagePlugin.PngImageFile image mode=RGB size=300x300>"
      ]
     },
     "execution_count": 484,
     "metadata": {},
     "output_type": "execute_result"
    }
   ],
   "source": [
    "glycoside_atom_indices = [16, 18, 19, 20, 23]\n",
    "Draw.MolToImage(molecule, highlightAtoms=glycoside_atom_indices)\n"
   ]
  },
  {
   "cell_type": "markdown",
   "id": "a69f41a9-afcc-4eac-87f1-bfd94303f181",
   "metadata": {
    "tags": []
   },
   "source": [
    "phenyl group"
   ]
  },
  {
   "cell_type": "code",
   "execution_count": 481,
   "id": "26d7005b-34f3-4d95-b245-8b8d267110bd",
   "metadata": {
    "tags": []
   },
   "outputs": [
    {
     "data": {
      "image/png": "[encoded data removed]",
      "text/plain": [
       "<PIL.PngImagePlugin.PngImageFile image mode=RGB size=300x300>"
      ]
     },
     "execution_count": 481,
     "metadata": {},
     "output_type": "execute_result"
    }
   ],
   "source": [
    "phenyl_atom_indices = [0,1,2,3,4,10]\n",
    "Draw.MolToImage(molecule, highlightAtoms=phenyl_atom_indices)"
   ]
  },
  {
   "cell_type": "markdown",
   "id": "2def9e6a-625a-49f6-8aa3-1964192edf01",
   "metadata": {},
   "source": [
    "Carboxyl Group (O-C-OH)"
   ]
  },
  {
   "cell_type": "code",
   "execution_count": 483,
   "id": "c0b718e0-56c0-4c33-9f6b-02526cac314f",
   "metadata": {
    "tags": []
   },
   "outputs": [
    {
     "data": {
      "image/png": "[encoded data removed]",
      "text/plain": [
       "<PIL.PngImagePlugin.PngImageFile image mode=RGB size=300x300>"
      ]
     },
     "execution_count": 483,
     "metadata": {},
     "output_type": "execute_result"
    }
   ],
   "source": [
    "carboxyl_indices = [21,28,29] \n",
    "Draw.MolToImage(molecule, highlightAtoms=carboxyl_indices)\n"
   ]
  },
  {
   "cell_type": "markdown",
   "id": "0ad3de7a-4407-46cd-895f-b4419899144b",
   "metadata": {},
   "source": [
    "the last part -- I don't know what they are called. Not sure how to build this CORE part. It has 3 six-member rings. Two of them has a O. The middle are all C. "
   ]
  },
  {
   "cell_type": "code",
   "execution_count": 490,
   "id": "70aa8f0d-521d-46be-b55d-b06381141c24",
   "metadata": {
    "tags": []
   },
   "outputs": [
    {
     "data": {
      "image/png": "[encoded data removed]",
      "text/plain": [
       "<PIL.PngImagePlugin.PngImageFile image mode=RGB size=300x300>"
      ]
     },
     "execution_count": 490,
     "metadata": {},
     "output_type": "execute_result"
    }
   ],
   "source": [
    "some_indices = [6,5, 8,9,11,12,13,14,15, 17,22] \n",
    "Draw.MolToImage(molecule, highlightAtoms=some_indices)"
   ]
  },
  {
   "cell_type": "code",
   "execution_count": 492,
   "id": "44dc3bf1-1b38-493d-aaf4-72ec02a70d35",
   "metadata": {
    "tags": []
   },
   "outputs": [
    {
     "data": {
      "image/png": "[encoded data removed]",
      "text/plain": [
       "<PIL.PngImagePlugin.PngImageFile image mode=RGB size=800x800>"
      ]
     },
     "execution_count": 492,
     "metadata": {},
     "output_type": "execute_result"
    }
   ],
   "source": [
    "from rdkit import Chem\n",
    "from rdkit.Chem import Draw\n",
    "\n",
    "# Example SMILES string for a tricyclic structure (this is just a representative example)\n",
    "# In a real case, you would use the exact SMILES or InChI string for your specific molecule\n",
    "smiles_str = 'C1CCC2C(C1)CCC3C2CCC(O3)O'  # Example tricyclic structure with oxygen atoms\n",
    "\n",
    "# Convert SMILES to molecule\n",
    "molecule = Chem.MolFromSmiles(smiles_str)\n",
    "\n",
    "# Add atom indices to the molecule for visualization\n",
    "for atom in molecule.GetAtoms():\n",
    "    atom.SetProp('atomNote', str(atom.GetIdx()))\n",
    "\n",
    "# Draw the molecule with atom indices labeled\n",
    "Draw.MolToImage(molecule, size=(800, 800))"
   ]
  },
  {
   "cell_type": "markdown",
   "id": "1399a4fe-a3df-49ee-8934-573464c142f2",
   "metadata": {
    "tags": []
   },
   "source": [
    "# Garbage old code bank"
   ]
  },
  {
   "cell_type": "code",
   "execution_count": 416,
   "id": "aee4594a-cc82-4a18-bd12-9b3af1054751",
   "metadata": {
    "tags": []
   },
   "outputs": [
    {
     "data": {
      "text/plain": [
       "['__class__',\n",
       " '__delattr__',\n",
       " '__dict__',\n",
       " '__dir__',\n",
       " '__doc__',\n",
       " '__eq__',\n",
       " '__format__',\n",
       " '__ge__',\n",
       " '__getattribute__',\n",
       " '__getstate__',\n",
       " '__gt__',\n",
       " '__hash__',\n",
       " '__init__',\n",
       " '__init_subclass__',\n",
       " '__le__',\n",
       " '__lt__',\n",
       " '__module__',\n",
       " '__ne__',\n",
       " '__new__',\n",
       " '__reduce__',\n",
       " '__reduce_ex__',\n",
       " '__repr__',\n",
       " '__setattr__',\n",
       " '__sizeof__',\n",
       " '__slotnames__',\n",
       " '__str__',\n",
       " '__subclasshook__',\n",
       " '__weakref__',\n",
       " '_atoms',\n",
       " '_bonds',\n",
       " '_record',\n",
       " '_setup_atoms',\n",
       " '_setup_bonds',\n",
       " 'aids',\n",
       " 'atom_stereo_count',\n",
       " 'atoms',\n",
       " 'bond_stereo_count',\n",
       " 'bonds',\n",
       " 'cactvs_fingerprint',\n",
       " 'canonical_smiles',\n",
       " 'charge',\n",
       " 'cid',\n",
       " 'complexity',\n",
       " 'conformer_id_3d',\n",
       " 'conformer_rmsd_3d',\n",
       " 'coordinate_type',\n",
       " 'covalent_unit_count',\n",
       " 'defined_atom_stereo_count',\n",
       " 'defined_bond_stereo_count',\n",
       " 'effective_rotor_count_3d',\n",
       " 'elements',\n",
       " 'exact_mass',\n",
       " 'feature_selfoverlap_3d',\n",
       " 'fingerprint',\n",
       " 'from_cid',\n",
       " 'h_bond_acceptor_count',\n",
       " 'h_bond_donor_count',\n",
       " 'heavy_atom_count',\n",
       " 'inchi',\n",
       " 'inchikey',\n",
       " 'isomeric_smiles',\n",
       " 'isotope_atom_count',\n",
       " 'iupac_name',\n",
       " 'mmff94_energy_3d',\n",
       " 'mmff94_partial_charges_3d',\n",
       " 'molecular_formula',\n",
       " 'molecular_weight',\n",
       " 'monoisotopic_mass',\n",
       " 'multipoles_3d',\n",
       " 'pharmacophore_features_3d',\n",
       " 'record',\n",
       " 'rotatable_bond_count',\n",
       " 'shape_fingerprint_3d',\n",
       " 'shape_selfoverlap_3d',\n",
       " 'sids',\n",
       " 'synonyms',\n",
       " 'to_dict',\n",
       " 'to_series',\n",
       " 'tpsa',\n",
       " 'undefined_atom_stereo_count',\n",
       " 'undefined_bond_stereo_count',\n",
       " 'volume_3d',\n",
       " 'xlogp']"
      ]
     },
     "execution_count": 416,
     "metadata": {},
     "output_type": "execute_result"
    }
   ],
   "source": [
    "dir(best_compound[0][0])"
   ]
  },
  {
   "cell_type": "code",
   "execution_count": 104,
   "id": "29a828e1-1929-4d1e-92d8-030fd79ef129",
   "metadata": {
    "tags": []
   },
   "outputs": [],
   "source": [
    "import pubchempy as pcp\n",
    "\n",
    "# Search for a compound by name\n",
    "chemical_name = \"Apigenin-7-O-alpha-L-rhamnoside\" #'aspirin'\n",
    "\n",
    "compounds = pcp.get_compounds(chemical_name, 'name')\n",
    "\n",
    "# Print information about the found compounds\n",
    "for compound in compounds:\n",
    "    print(f\"IUPAC Name: {compound.iupac_name}\")\n",
    "    print(f\"Molecular Formula: {compound.molecular_formula}\")\n",
    "    print(f\"Molecular Weight: {compound.molecular_weight}\")\n",
    "    print(f\"Canonical SMILES: {compound.canonical_smiles}\")\n",
    "    print(f\"Isomeric SMILES: {compound.isomeric_smiles}\")\n",
    "    print(f\"InChI: {compound.inchi}\")\n",
    "    print(f\"InChI Key: {compound.inchikey}\")\n",
    "    print(f\"CID: {compound.cid}\")\n",
    "    print(\"-\" * 30)"
   ]
  },
  {
   "cell_type": "code",
   "execution_count": 113,
   "id": "94be8fd7-1ccc-4f47-a664-c84f5c3c867d",
   "metadata": {
    "tags": []
   },
   "outputs": [
    {
     "ename": "ModuleNotFoundError",
     "evalue": "No module named 'sklearn'",
     "output_type": "error",
     "traceback": [
      "\u001b[0;31m---------------------------------------------------------------------------\u001b[0m",
      "\u001b[0;31mModuleNotFoundError\u001b[0m                       Traceback (most recent call last)",
      "Cell \u001b[0;32mIn[113], line 3\u001b[0m\n\u001b[1;32m      1\u001b[0m \u001b[38;5;66;03m# Code copied online. Need to figure out how it works\u001b[39;00m\n\u001b[0;32m----> 3\u001b[0m \u001b[38;5;28;01mfrom\u001b[39;00m \u001b[38;5;21;01msklearn\u001b[39;00m\u001b[38;5;21;01m.\u001b[39;00m\u001b[38;5;21;01mensemble\u001b[39;00m \u001b[38;5;28;01mimport\u001b[39;00m RandomForestClassifier\n\u001b[1;32m      4\u001b[0m \u001b[38;5;28;01mfrom\u001b[39;00m \u001b[38;5;21;01msklearn\u001b[39;00m\u001b[38;5;21;01m.\u001b[39;00m\u001b[38;5;21;01mmodel_selection\u001b[39;00m \u001b[38;5;28;01mimport\u001b[39;00m train_test_split, cross_val_score\n\u001b[1;32m      5\u001b[0m \u001b[38;5;28;01mimport\u001b[39;00m \u001b[38;5;21;01mnumpy\u001b[39;00m \u001b[38;5;28;01mas\u001b[39;00m \u001b[38;5;21;01mnp\u001b[39;00m\n",
      "\u001b[0;31mModuleNotFoundError\u001b[0m: No module named 'sklearn'"
     ]
    }
   ],
   "source": [
    "# Code copied online. Need to figure out how it works\n",
    "\n",
    "from sklearn.ensemble import RandomForestClassifier\n",
    "from sklearn.model_selection import train_test_split, cross_val_score\n",
    "import numpy as np\n",
    "import pandas as np\n",
    "\n",
    "\n",
    "\n",
    "# Create a DataFrame for features\n",
    "df = pd.DataFrame(descriptor_list)\n",
    "\n",
    "# Example labels (binary classification)\n",
    "labels = [0, 1, 0, 1]\n",
    "\n",
    "# Split data into training and test sets\n",
    "X_train, X_test, y_train, y_test = train_test_split(df, labels, test_size=0.2, random_state=42)\n",
    "\n",
    "# Train a Random Forest classifier\n",
    "model = RandomForestClassifier(n_estimators=100, random_state=42)\n",
    "model.fit(X_train, y_train)\n",
    "\n",
    "# Evaluate model using cross-validation\n",
    "scores = cross_val_score(model, X_test, y_test, cv=5)\n",
    "print(\"Model Accuracy: \", np.mean(scores))\n"
   ]
  },
  {
   "cell_type": "code",
   "execution_count": 434,
   "id": "73aa740a-79c0-47ec-b241-10147a6f4965",
   "metadata": {
    "tags": []
   },
   "outputs": [],
   "source": [
    "from rdkit import Chem\n",
    "from rdkit.Chem import Draw\n",
    "from rdkit.Chem.Draw import IPythonConsole\n",
    "\n",
    "IPythonConsole.molSize = 450,450 \n",
    "# Define the Iridoid core structure using SMILES notation\n",
    "# This is a simplified representation of the core structure\n",
    "iridoid_core_smiles = \"C1[C@H]2C[C@H](C1)OC2\"\n",
    "\n",
    "# Convert SMILES to molecule\n",
    "iridoid_core_molecule = Chem.MolFromSmiles(iridoid_core_smiles)\n",
    "\n",
    "# Draw the molecule\n",
    "iridoid_core_image = Draw.MolToImage(iridoid_core_molecule)\n",
    "\n",
    "# Display the image"
   ]
  },
  {
   "cell_type": "code",
   "execution_count": 436,
   "id": "9df3251f-487e-4eb1-bf2e-feb17e0996c7",
   "metadata": {
    "tags": []
   },
   "outputs": [
    {
     "data": {
      "image/png": "[encoded data removed]",
      "text/plain": [
       "<rdkit.Chem.rdchem.Mol at 0x157f74200>"
      ]
     },
     "execution_count": 436,
     "metadata": {},
     "output_type": "execute_result"
    }
   ],
   "source": [
    "iridoid_core_molecule"
   ]
  },
  {
   "cell_type": "code",
   "execution_count": 437,
   "id": "79accf79-cd8a-4bab-a448-566e2009acd8",
   "metadata": {
    "tags": []
   },
   "outputs": [
    {
     "data": {
      "image/png": "[encoded data removed]",
      "text/plain": [
       "<PIL.PngImagePlugin.PngImageFile image mode=RGB size=300x300>"
      ]
     },
     "execution_count": 437,
     "metadata": {},
     "output_type": "execute_result"
    }
   ],
   "source": [
    "iridoid_core_image"
   ]
  },
  {
   "cell_type": "code",
   "execution_count": 438,
   "id": "edb7fa7b-baa2-4b5c-9697-80a53bd7a008",
   "metadata": {
    "tags": []
   },
   "outputs": [],
   "source": [
    "from rdkit import Chem\n",
    "from rdkit.Chem import Draw\n",
    "\n",
    "# Define the Iridoid core structure using SMILES notation\n",
    "iridoid_core_smiles = \"C1C[C@H]2C[C@@H](C1)OC2\"\n",
    "\n",
    "# Convert SMILES to molecule\n",
    "iridoid_core_molecule = Chem.MolFromSmiles(iridoid_core_smiles)\n",
    "\n",
    "# Draw the molecule\n",
    "iridoid_core_image = Draw.MolToImage(iridoid_core_molecule)\n",
    "\n",
    "# Display the image\n",
    "iridoid_core_image.show()"
   ]
  },
  {
   "cell_type": "code",
   "execution_count": 439,
   "id": "dcfb4407-7729-4038-9148-f36ef564a552",
   "metadata": {
    "tags": []
   },
   "outputs": [
    {
     "data": {
      "image/png": "[encoded data removed]",
      "text/plain": [
       "<PIL.PngImagePlugin.PngImageFile image mode=RGB size=300x300>"
      ]
     },
     "execution_count": 439,
     "metadata": {},
     "output_type": "execute_result"
    }
   ],
   "source": [
    "iridoid_core_image"
   ]
  },
  {
   "cell_type": "code",
   "execution_count": 441,
   "id": "8439b8be-0c73-4949-986a-ae673bfaf82f",
   "metadata": {
    "tags": []
   },
   "outputs": [
    {
     "data": {
      "image/png": "[encoded data removed]",
      "text/plain": [
       "<PIL.PngImagePlugin.PngImageFile image mode=RGB size=300x300>"
      ]
     },
     "execution_count": 441,
     "metadata": {},
     "output_type": "execute_result"
    }
   ],
   "source": [
    "from rdkit import Chem\n",
    "from rdkit.Chem import Draw\n",
    "\n",
    "# Define the glucose structure using SMILES notation\n",
    "glucose_smiles = \"C(C1C(C(C(C(O1)O)O)O)O)O\"\n",
    "\n",
    "# Convert SMILES to molecule\n",
    "glucose_molecule = Chem.MolFromSmiles(glucose_smiles)\n",
    "\n",
    "# Draw the molecule\n",
    "glucose_image = Draw.MolToImage(glucose_molecule)\n",
    "\n",
    "# Display the image\n",
    "glucose_image"
   ]
  },
  {
   "cell_type": "code",
   "execution_count": 442,
   "id": "50a0acbf-2293-4e06-8f42-8e60249d5d6d",
   "metadata": {
    "tags": []
   },
   "outputs": [
    {
     "name": "stdout",
     "output_type": "stream",
     "text": [
      "Chiral Centers: [(11, 'R'), (12, 'S'), (15, 'R'), (16, 'R'), (17, 'S'), (18, 'S'), (19, 'S'), (20, 'R'), (22, 'S'), (23, 'S')]\n"
     ]
    },
    {
     "data": {
      "image/png": "[encoded data removed]",
      "text/plain": [
       "<PIL.PngImagePlugin.PngImageFile image mode=RGB size=300x300>"
      ]
     },
     "execution_count": 442,
     "metadata": {},
     "output_type": "execute_result"
    }
   ],
   "source": [
    "from rdkit import Chem\n",
    "from rdkit.Chem import Draw\n",
    "\n",
    "# Provided InChI string\n",
    "inchi_str = 'InChI=1S/C24H28O10/c25-8-17-19(26)20(27)21(28)24(33-17)34-23-18-13(15(10-32-23)22(29)30)6-12-7-16(18)31-9-14(12)11-4-2-1-3-5-11/h1-5,9-10,12-13,16-21,23-28H,6-8H2,(H,29,30)/t12-,13-,16-,17-,18+,19-,20+,21-,23+,24+/m1/s1'\n",
    "\n",
    "# Convert InChI to molecule\n",
    "molecule = Chem.MolFromInchi(inchi_str)\n",
    "\n",
    "# Get chiral centers\n",
    "chiral_centers = Chem.FindMolChiralCenters(molecule, includeUnassigned=True)\n",
    "print(\"Chiral Centers:\", chiral_centers)\n",
    "\n",
    "# Draw the molecule with chiral centers highlighted\n",
    "molecule_with_chirality = Draw.MolToImage(molecule, highlightAtoms=[center[0] for center in chiral_centers])\n",
    "\n",
    "# Display the image\n",
    "molecule_with_chirality"
   ]
  },
  {
   "cell_type": "code",
   "execution_count": null,
   "id": "19b70e21-7ede-40dd-aca5-ab9ba0edf47e",
   "metadata": {},
   "outputs": [],
   "source": []
  }
 ],
 "metadata": {
  "kernelspec": {
   "display_name": "Python 3 (ipykernel)",
   "language": "python",
   "name": "python3"
  },
  "language_info": {
   "codemirror_mode": {
    "name": "ipython",
    "version": 3
   },
   "file_extension": ".py",
   "mimetype": "text/x-python",
   "name": "python",
   "nbconvert_exporter": "python",
   "pygments_lexer": "ipython3",
   "version": "3.11.5"
  }
 },
 "nbformat": 4,
 "nbformat_minor": 5
}
