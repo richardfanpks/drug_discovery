{
 "cells": [
  {
   "cell_type": "code",
   "execution_count": 2,
   "id": "14734fee-3f6f-4061-a7be-7b6c89cda723",
   "metadata": {
    "tags": []
   },
   "outputs": [
    {
     "name": "stdout",
     "output_type": "stream",
     "text": [
      "Requirement already satisfied: pubchempy in /opt/homebrew/lib/python3.11/site-packages (1.0.4)\n"
     ]
    }
   ],
   "source": [
    "! pip install pubchempy"
   ]
  },
  {
   "cell_type": "markdown",
   "id": "4a32560f-c713-4aa5-addb-209bb61bd535",
   "metadata": {},
   "source": [
    "The chemicals are recorded in a text file\n"
   ]
  },
  {
   "cell_type": "code",
   "execution_count": 4,
   "id": "29a828e1-1929-4d1e-92d8-030fd79ef129",
   "metadata": {
    "tags": []
   },
   "outputs": [
    {
     "name": "stdout",
     "output_type": "stream",
     "text": [
      "IUPAC Name: 5,7-dihydroxy-2-phenylchromen-4-one\n",
      "Molecular Formula: C15H10O4\n",
      "Molecular Weight: 254.24\n",
      "Canonical SMILES: C1=CC=C(C=C1)C2=CC(=O)C3=C(C=C(C=C3O2)O)O\n",
      "Isomeric SMILES: C1=CC=C(C=C1)C2=CC(=O)C3=C(C=C(C=C3O2)O)O\n",
      "InChI: InChI=1S/C15H10O4/c16-10-6-11(17)15-12(18)8-13(19-14(15)7-10)9-4-2-1-3-5-9/h1-8,16-17H\n",
      "InChI Key: RTIXKCRFFJGDFG-UHFFFAOYSA-N\n",
      "CID: 5281607\n",
      "------------------------------\n"
     ]
    }
   ],
   "source": [
    "import pubchempy as pcp\n",
    "\n",
    "# Search for a compound by name\n",
    "chemical_name = '5,7-Dihydroxyflavone' #'aspirin'\n",
    "compounds = pcp.get_compounds(chemical_name, 'name')\n",
    "\n",
    "# Print information about the found compounds\n",
    "for compound in compounds:\n",
    "    print(f\"IUPAC Name: {compound.iupac_name}\")\n",
    "    print(f\"Molecular Formula: {compound.molecular_formula}\")\n",
    "    print(f\"Molecular Weight: {compound.molecular_weight}\")\n",
    "    print(f\"Canonical SMILES: {compound.canonical_smiles}\")\n",
    "    print(f\"Isomeric SMILES: {compound.isomeric_smiles}\")\n",
    "    print(f\"InChI: {compound.inchi}\")\n",
    "    print(f\"InChI Key: {compound.inchikey}\")\n",
    "    print(f\"CID: {compound.cid}\")\n",
    "    print(\"-\" * 30)"
   ]
  },
  {
   "cell_type": "code",
   "execution_count": null,
   "id": "752aac17-5280-491b-b03f-c21e97cd3ce1",
   "metadata": {},
   "outputs": [],
   "source": []
  }
 ],
 "metadata": {
  "kernelspec": {
   "display_name": "Python 3 (ipykernel)",
   "language": "python",
   "name": "python3"
  },
  "language_info": {
   "codemirror_mode": {
    "name": "ipython",
    "version": 3
   },
   "file_extension": ".py",
   "mimetype": "text/x-python",
   "name": "python",
   "nbconvert_exporter": "python",
   "pygments_lexer": "ipython3",
   "version": "3.11.5"
  }
 },
 "nbformat": 4,
 "nbformat_minor": 5
}
