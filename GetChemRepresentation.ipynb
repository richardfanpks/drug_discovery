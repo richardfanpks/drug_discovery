{
 "cells": [
  {
   "cell_type": "code",
   "execution_count": 2,
   "id": "14734fee-3f6f-4061-a7be-7b6c89cda723",
   "metadata": {
    "tags": []
   },
   "outputs": [
    {
     "name": "stdout",
     "output_type": "stream",
     "text": [
      "Requirement already satisfied: pubchempy in /opt/homebrew/lib/python3.11/site-packages (1.0.4)\n"
     ]
    }
   ],
   "source": [
    "! pip install pubchempy"
   ]
  },
  {
   "cell_type": "markdown",
   "id": "4a32560f-c713-4aa5-addb-209bb61bd535",
   "metadata": {},
   "source": [
    "The chemicals are recorded in a text file.\n"
   ]
  },
  {
   "cell_type": "code",
   "execution_count": 12,
   "id": "373ee2c1-f0b5-4486-8e78-4730ad7c6229",
   "metadata": {
    "tags": []
   },
   "outputs": [],
   "source": [
    "file_path = 'lonicerae_clean.txt'\n",
    "\n",
    "# Open the file and read the lines into a list\n",
    "with open(file_path, 'r') as file:\n",
    "    lines = file.readlines()\n",
    "\n",
    "# Strip newline characters from each line. Also remove empty lines\n",
    "lines = [line.strip() for line in lines if line.strip()]\n",
    "#lines\n"
   ]
  },
  {
   "cell_type": "code",
   "execution_count": 15,
   "id": "1bb6a027-2335-49b4-a106-1ef86bfac6e0",
   "metadata": {
    "tags": []
   },
   "outputs": [],
   "source": [
    "def getCompounds(names):\n",
    "    data = {}\n",
    "    for name in names:\n",
    "        compounds = pcp.get_compounds(chemical_name, 'name')\n",
    "        data[name] = compounds\n",
    "    return data\n"
   ]
  },
  {
   "cell_type": "code",
   "execution_count": 16,
   "id": "6c6b6c6f-ee62-496e-98e5-45289e1d8688",
   "metadata": {
    "tags": []
   },
   "outputs": [],
   "source": [
    "data = getCompounds(lines)"
   ]
  },
  {
   "cell_type": "markdown",
   "id": "a4dbf930-8791-44a1-acaa-02f93befbf83",
   "metadata": {},
   "source": [
    "Save object to file. It tool time to load 100 chemical data from the PubChem. So we save it locally and reuse them later"
   ]
  },
  {
   "cell_type": "code",
   "execution_count": 17,
   "id": "5c1bb92c-aeef-435a-abcc-bc0fb17f90fa",
   "metadata": {
    "tags": []
   },
   "outputs": [
    {
     "name": "stdout",
     "output_type": "stream",
     "text": [
      "Object data has been serialized and saved to file.\n"
     ]
    }
   ],
   "source": [
    "import pickle\n",
    "\n",
    "# File path to save the serialized object\n",
    "file_path = 'data.pkl'\n",
    "\n",
    "# Open the file in binary write mode and dump the object\n",
    "with open(file_path, 'wb') as file:\n",
    "    pickle.dump(data, file)\n",
    "\n",
    "print(\"Object data has been serialized and saved to file.\")"
   ]
  },
  {
   "cell_type": "code",
   "execution_count": 18,
   "id": "1df3c2b3-e4c7-4f5f-aa10-91321c6f8f97",
   "metadata": {
    "tags": []
   },
   "outputs": [
    {
     "name": "stdout",
     "output_type": "stream",
     "text": [
      "Object has been deserialized and loaded from file.\n"
     ]
    }
   ],
   "source": [
    "import pickle\n",
    "\n",
    "# File path to load the serialized object from\n",
    "file_path = 'data.pkl'\n",
    "\n",
    "# Open the file in binary read mode and load the object\n",
    "with open(file_path, 'rb') as file:\n",
    "    data = pickle.load(file)\n",
    "\n",
    "print(\"Object has been deserialized and loaded from file.\")\n"
   ]
  },
  {
   "cell_type": "code",
   "execution_count": 22,
   "id": "56e6e9d8-772c-4b13-aee8-cada3b949fcc",
   "metadata": {
    "tags": []
   },
   "outputs": [
    {
     "name": "stdout",
     "output_type": "stream",
     "text": [
      "112\n"
     ]
    }
   ],
   "source": [
    "print(len(data.items()))\n",
    "for key, value in data.items():\n",
    "    if len(compounds) == 0:\n",
    "        print(key)\n",
    "    break"
   ]
  },
  {
   "cell_type": "code",
   "execution_count": 4,
   "id": "29a828e1-1929-4d1e-92d8-030fd79ef129",
   "metadata": {
    "tags": []
   },
   "outputs": [
    {
     "name": "stdout",
     "output_type": "stream",
     "text": [
      "IUPAC Name: 5,7-dihydroxy-2-phenylchromen-4-one\n",
      "Molecular Formula: C15H10O4\n",
      "Molecular Weight: 254.24\n",
      "Canonical SMILES: C1=CC=C(C=C1)C2=CC(=O)C3=C(C=C(C=C3O2)O)O\n",
      "Isomeric SMILES: C1=CC=C(C=C1)C2=CC(=O)C3=C(C=C(C=C3O2)O)O\n",
      "InChI: InChI=1S/C15H10O4/c16-10-6-11(17)15-12(18)8-13(19-14(15)7-10)9-4-2-1-3-5-9/h1-8,16-17H\n",
      "InChI Key: RTIXKCRFFJGDFG-UHFFFAOYSA-N\n",
      "CID: 5281607\n",
      "------------------------------\n"
     ]
    }
   ],
   "source": [
    "import pubchempy as pcp\n",
    "\n",
    "# Search for a compound by name\n",
    "chemical_name = '5,7-Dihydroxyflavone' #'aspirin'\n",
    "\n",
    "compounds = pcp.get_compounds(chemical_name, 'name')\n",
    "\n",
    "# Print information about the found compounds\n",
    "for compound in compounds:\n",
    "    print(f\"IUPAC Name: {compound.iupac_name}\")\n",
    "    print(f\"Molecular Formula: {compound.molecular_formula}\")\n",
    "    print(f\"Molecular Weight: {compound.molecular_weight}\")\n",
    "    print(f\"Canonical SMILES: {compound.canonical_smiles}\")\n",
    "    print(f\"Isomeric SMILES: {compound.isomeric_smiles}\")\n",
    "    print(f\"InChI: {compound.inchi}\")\n",
    "    print(f\"InChI Key: {compound.inchikey}\")\n",
    "    print(f\"CID: {compound.cid}\")\n",
    "    print(\"-\" * 30)"
   ]
  },
  {
   "cell_type": "code",
   "execution_count": 10,
   "id": "752aac17-5280-491b-b03f-c21e97cd3ce1",
   "metadata": {
    "tags": []
   },
   "outputs": [
    {
     "data": {
      "text/plain": [
       "['5,7-Dihydroxyflavone',\n",
       " '5-Hydroxy-7,4′-dimethoxyflavone',\n",
       " '5-Hydroxy-7,3′,4′-trimethoxyflavone',\n",
       " '5-Hydroxy-7,3′,4′,5′-tetramethoxyflavone',\n",
       " '3′,4′,5′,5,7-Pentamethoxyflavone',\n",
       " 'Luteolin',\n",
       " '3′-Methoxyluteolin',\n",
       " '5,3′-Dimethoxyluteolin',\n",
       " 'Luteolin-7-O-β-D-glucoside',\n",
       " 'Luteolin-7-O-β-D-galactoside',\n",
       " 'Luteolin-5-O-β-D-glucoside',\n",
       " 'Luteolin-3′-O-L-rhamnoside',\n",
       " 'Jaceosidin',\n",
       " 'Jaceosidin-7-O-neohesperidoside',\n",
       " 'Lonicerin',\n",
       " 'Kaempferol-3-O-β-D-glucoside',\n",
       " 'Apigenin-7-O-α-L-rhamnoside',\n",
       " 'Quercetin',\n",
       " 'Quercetin-3-O-β-D-glucoside',\n",
       " 'Quercetin-7-O-β-D-glucoside',\n",
       " 'Hyperoside',\n",
       " 'Medioresinol-7-O-β-D-glucoside',\n",
       " 'Medioresinol-7-O-neohesperidoside',\n",
       " 'Flavo-yadorinin-B',\n",
       " 'Rhoifolin',\n",
       " 'Rutin',\n",
       " 'Loganin',\n",
       " '7-Epiloganin',\n",
       " '8-Epiloganin',\n",
       " 'Loganic Acid',\n",
       " 'Ketologanin',\n",
       " 'Secologanin',\n",
       " 'Secologanin Dimethyl Acetal',\n",
       " 'Sweroside',\n",
       " '7-O-Ethyl Sweroside',\n",
       " 'Secologanoside-7-Methyl Ester',\n",
       " 'Kingiside',\n",
       " '7α-Morroniside',\n",
       " '7β-Morroniside',\n",
       " 'Dehydromorroniside',\n",
       " 'Vogeloside',\n",
       " 'Epi-vogeloside',\n",
       " 'Secoxyloganin',\n",
       " 'Secoxyloganin 7-Butyl Ester',\n",
       " 'Secologanic Acid',\n",
       " 'Secologanoside',\n",
       " 'Secologanoside A',\n",
       " 'Dimethyl Secologanoside',\n",
       " 'Adinoside A',\n",
       " 'Stryspinoside',\n",
       " 'Loniceracetalide A',\n",
       " 'Loniceracetalide B',\n",
       " 'Loniphenyruviridoside A',\n",
       " 'Loniphenyruviridoside B',\n",
       " 'Loniphenyruviridoside C',\n",
       " 'Loniphenyruviridoside D',\n",
       " 'L-Phenylalaninosecologanin',\n",
       " '7-O-(4-β-D-Glucopyranosyloxy-3-Methoxy Benzoyl) Secologanolic Acid',\n",
       " '6′-O-(7α-Hydroxyswerosyloxy) Loganin',\n",
       " '(Z)-Aldosecologanin',\n",
       " '(E)-Aldosecologanin',\n",
       " 'Centauroside',\n",
       " 'Lonijaposides A',\n",
       " 'Lonijaposides B',\n",
       " 'Lonijaposides C',\n",
       " 'Lonijaposides D',\n",
       " 'Lonijaposides E',\n",
       " 'Lonijaposides F',\n",
       " 'Lonijaposides G',\n",
       " 'Lonijaposides H',\n",
       " 'Lonijaposides I',\n",
       " 'Lonijaposides J',\n",
       " 'Lonijaposides K',\n",
       " 'Lonijaposides L',\n",
       " 'Lonijaposides M',\n",
       " 'Lonijaposides N',\n",
       " 'Lonijaposides O',\n",
       " 'Lonijaposides P',\n",
       " 'Lonijaposides Q',\n",
       " 'Lonijaposides R',\n",
       " 'Lonijaposides S',\n",
       " 'Lonijaposides T',\n",
       " 'Lonijaposides U',\n",
       " 'Lonijaposides V',\n",
       " 'Lonijaposides W',\n",
       " 'Lonijapospiroside A',\n",
       " 'L-Phenylalaninosecologanin B',\n",
       " 'L-Phenylalaninosecologanin C',\n",
       " 'Deoxyoprolinoyiloganin A',\n",
       " 'Lonicerjaponin A',\n",
       " 'Lonicerjaponin B',\n",
       " 'Two Nicotinic Acid Derivatives',\n",
       " 'Palmitic Acid',\n",
       " 'Myristic Acid',\n",
       " 'Protocatechuic Acid',\n",
       " 'Caffeic Acid',\n",
       " 'Ferulic Acid',\n",
       " '2(E)-3-Ethoxyacrylic Acid',\n",
       " 'Caffeic Acid Methyl Ester',\n",
       " '3-(3,4-Dihydroxyphenyl) Propionic Acid',\n",
       " '4-Hydroxycinnamic Acid',\n",
       " '4-Hydroxycinnamic Acid Methyl Ester',\n",
       " 'Chlorogenic Acid',\n",
       " '3-Caffeoylquinic Acid Methyl Ester',\n",
       " '4-Caffeoylquinic Acid',\n",
       " '5-Caffeoylquinic Acid',\n",
       " '3,4-Dicaffeoylquinic Acid',\n",
       " '4,5-Dicaffeoylquinic Acid',\n",
       " '3,5-Dicaffeoylquinic Acid',\n",
       " '3,5-Dicaffeoylquinic Acid Methyl Ester',\n",
       " '3,5-Dicaffeoylquinic Acid Butyl Ester',\n",
       " 'Vanillic Acid 4-O-β-D-6-O-Benzoylglucopyranoside']"
      ]
     },
     "execution_count": 10,
     "metadata": {},
     "output_type": "execute_result"
    }
   ],
   "source": [
    "lines"
   ]
  },
  {
   "cell_type": "code",
   "execution_count": null,
   "id": "86743771-8659-4674-a987-84bdb2487312",
   "metadata": {},
   "outputs": [],
   "source": []
  }
 ],
 "metadata": {
  "kernelspec": {
   "display_name": "Python 3 (ipykernel)",
   "language": "python",
   "name": "python3"
  },
  "language_info": {
   "codemirror_mode": {
    "name": "ipython",
    "version": 3
   },
   "file_extension": ".py",
   "mimetype": "text/x-python",
   "name": "python",
   "nbconvert_exporter": "python",
   "pygments_lexer": "ipython3",
   "version": "3.11.5"
  }
 },
 "nbformat": 4,
 "nbformat_minor": 5
}
