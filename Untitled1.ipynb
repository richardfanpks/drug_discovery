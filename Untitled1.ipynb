{
 "cells": [
  {
   "cell_type": "code",
   "execution_count": null,
   "id": "74058862-1cc9-4a5e-8d5c-176be180da01",
   "metadata": {
    "tags": []
   },
   "outputs": [],
   "source": [
    "import pubchempy as pcp\n",
    "\n",
    "# Search for a compound by name\n",
    "chemical_name = 'aspirin'\n",
    "compounds = pcp.get_compounds(chemical_name, 'name')\n",
    "\n",
    "# Print information about the found compounds\n",
    "for compound in compounds:\n",
    "    print(f\"IUPAC Name: {compound.iupac_name}\")\n",
    "    print(f\"Molecular Formula: {compound.molecular_formula}\")\n",
    "    print(f\"Molecular Weight: {compound.molecular_weight}\")\n",
    "    print(f\"Canonical SMILES: {compound.canonical_smiles}\")\n",
    "    print(f\"Isomeric SMILES: {compound.isomeric_smiles}\")\n",
    "    print(f\"InChI: {compound.inchi}\")\n",
    "    print(f\"InChI Key: {compound.inchikey}\")\n",
    "    print(f\"CID: {compound.cid}\")\n",
    "    print(\"-\" * 30)"
   ]
  },
  {
   "cell_type": "code",
   "execution_count": null,
   "id": "0f1065ff-f717-4cf8-9673-c1d96e42d073",
   "metadata": {},
   "outputs": [],
   "source": []
  }
 ],
 "metadata": {
  "kernelspec": {
   "display_name": "Python 3 (ipykernel)",
   "language": "python",
   "name": "python3"
  },
  "language_info": {
   "codemirror_mode": {
    "name": "ipython",
    "version": 3
   },
   "file_extension": ".py",
   "mimetype": "text/x-python",
   "name": "python",
   "nbconvert_exporter": "python",
   "pygments_lexer": "ipython3",
   "version": "3.11.5"
  }
 },
 "nbformat": 4,
 "nbformat_minor": 5
}
